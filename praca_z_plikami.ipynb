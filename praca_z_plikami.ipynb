{
 "cells": [
  {
   "cell_type": "code",
   "execution_count": 1,
   "metadata": {},
   "outputs": [
    {
     "data": {
      "text/plain": [
       "['ArithmeticError',\n",
       " 'AssertionError',\n",
       " 'AttributeError',\n",
       " 'BaseException',\n",
       " 'BaseExceptionGroup',\n",
       " 'BlockingIOError',\n",
       " 'BrokenPipeError',\n",
       " 'BufferError',\n",
       " 'BytesWarning',\n",
       " 'ChildProcessError',\n",
       " 'ConnectionAbortedError',\n",
       " 'ConnectionError',\n",
       " 'ConnectionRefusedError',\n",
       " 'ConnectionResetError',\n",
       " 'DeprecationWarning',\n",
       " 'EOFError',\n",
       " 'Ellipsis',\n",
       " 'EncodingWarning',\n",
       " 'EnvironmentError',\n",
       " 'Exception',\n",
       " 'ExceptionGroup',\n",
       " 'False',\n",
       " 'FileExistsError',\n",
       " 'FileNotFoundError',\n",
       " 'FloatingPointError',\n",
       " 'FutureWarning',\n",
       " 'GeneratorExit',\n",
       " 'IOError',\n",
       " 'ImportError',\n",
       " 'ImportWarning',\n",
       " 'IndentationError',\n",
       " 'IndexError',\n",
       " 'InterruptedError',\n",
       " 'IsADirectoryError',\n",
       " 'KeyError',\n",
       " 'KeyboardInterrupt',\n",
       " 'LookupError',\n",
       " 'MemoryError',\n",
       " 'ModuleNotFoundError',\n",
       " 'NameError',\n",
       " 'None',\n",
       " 'NotADirectoryError',\n",
       " 'NotImplemented',\n",
       " 'NotImplementedError',\n",
       " 'OSError',\n",
       " 'OverflowError',\n",
       " 'PendingDeprecationWarning',\n",
       " 'PermissionError',\n",
       " 'ProcessLookupError',\n",
       " 'PythonFinalizationError',\n",
       " 'RecursionError',\n",
       " 'ReferenceError',\n",
       " 'ResourceWarning',\n",
       " 'RuntimeError',\n",
       " 'RuntimeWarning',\n",
       " 'StopAsyncIteration',\n",
       " 'StopIteration',\n",
       " 'SyntaxError',\n",
       " 'SyntaxWarning',\n",
       " 'SystemError',\n",
       " 'SystemExit',\n",
       " 'TabError',\n",
       " 'TimeoutError',\n",
       " 'True',\n",
       " 'TypeError',\n",
       " 'UnboundLocalError',\n",
       " 'UnicodeDecodeError',\n",
       " 'UnicodeEncodeError',\n",
       " 'UnicodeError',\n",
       " 'UnicodeTranslateError',\n",
       " 'UnicodeWarning',\n",
       " 'UserWarning',\n",
       " 'ValueError',\n",
       " 'Warning',\n",
       " 'ZeroDivisionError',\n",
       " '_IncompleteInputError',\n",
       " '__IPYTHON__',\n",
       " '__build_class__',\n",
       " '__debug__',\n",
       " '__doc__',\n",
       " '__import__',\n",
       " '__loader__',\n",
       " '__name__',\n",
       " '__package__',\n",
       " '__spec__',\n",
       " 'abs',\n",
       " 'aiter',\n",
       " 'all',\n",
       " 'anext',\n",
       " 'any',\n",
       " 'ascii',\n",
       " 'bin',\n",
       " 'bool',\n",
       " 'breakpoint',\n",
       " 'bytearray',\n",
       " 'bytes',\n",
       " 'callable',\n",
       " 'chr',\n",
       " 'classmethod',\n",
       " 'compile',\n",
       " 'complex',\n",
       " 'copyright',\n",
       " 'credits',\n",
       " 'delattr',\n",
       " 'dict',\n",
       " 'dir',\n",
       " 'display',\n",
       " 'divmod',\n",
       " 'enumerate',\n",
       " 'eval',\n",
       " 'exec',\n",
       " 'execfile',\n",
       " 'filter',\n",
       " 'float',\n",
       " 'format',\n",
       " 'frozenset',\n",
       " 'get_ipython',\n",
       " 'getattr',\n",
       " 'globals',\n",
       " 'hasattr',\n",
       " 'hash',\n",
       " 'help',\n",
       " 'hex',\n",
       " 'id',\n",
       " 'input',\n",
       " 'int',\n",
       " 'isinstance',\n",
       " 'issubclass',\n",
       " 'iter',\n",
       " 'len',\n",
       " 'license',\n",
       " 'list',\n",
       " 'locals',\n",
       " 'map',\n",
       " 'max',\n",
       " 'memoryview',\n",
       " 'min',\n",
       " 'next',\n",
       " 'object',\n",
       " 'oct',\n",
       " 'open',\n",
       " 'ord',\n",
       " 'pow',\n",
       " 'print',\n",
       " 'property',\n",
       " 'range',\n",
       " 'repr',\n",
       " 'reversed',\n",
       " 'round',\n",
       " 'runfile',\n",
       " 'set',\n",
       " 'setattr',\n",
       " 'slice',\n",
       " 'sorted',\n",
       " 'staticmethod',\n",
       " 'str',\n",
       " 'sum',\n",
       " 'super',\n",
       " 'tuple',\n",
       " 'type',\n",
       " 'vars',\n",
       " 'zip']"
      ]
     },
     "execution_count": 1,
     "metadata": {},
     "output_type": "execute_result"
    }
   ],
   "source": [
    "dir(__builtins__)"
   ]
  },
  {
   "cell_type": "code",
   "execution_count": 2,
   "metadata": {},
   "outputs": [
    {
     "name": "stdout",
     "output_type": "stream",
     "text": [
      "\u001b[0;31mSignature:\u001b[0m\n",
      "\u001b[0mopen\u001b[0m\u001b[0;34m(\u001b[0m\u001b[0;34m\u001b[0m\n",
      "\u001b[0;34m\u001b[0m    \u001b[0mfile\u001b[0m\u001b[0;34m,\u001b[0m\u001b[0;34m\u001b[0m\n",
      "\u001b[0;34m\u001b[0m    \u001b[0mmode\u001b[0m\u001b[0;34m=\u001b[0m\u001b[0;34m'r'\u001b[0m\u001b[0;34m,\u001b[0m\u001b[0;34m\u001b[0m\n",
      "\u001b[0;34m\u001b[0m    \u001b[0mbuffering\u001b[0m\u001b[0;34m=\u001b[0m\u001b[0;34m-\u001b[0m\u001b[0;36m1\u001b[0m\u001b[0;34m,\u001b[0m\u001b[0;34m\u001b[0m\n",
      "\u001b[0;34m\u001b[0m    \u001b[0mencoding\u001b[0m\u001b[0;34m=\u001b[0m\u001b[0;32mNone\u001b[0m\u001b[0;34m,\u001b[0m\u001b[0;34m\u001b[0m\n",
      "\u001b[0;34m\u001b[0m    \u001b[0merrors\u001b[0m\u001b[0;34m=\u001b[0m\u001b[0;32mNone\u001b[0m\u001b[0;34m,\u001b[0m\u001b[0;34m\u001b[0m\n",
      "\u001b[0;34m\u001b[0m    \u001b[0mnewline\u001b[0m\u001b[0;34m=\u001b[0m\u001b[0;32mNone\u001b[0m\u001b[0;34m,\u001b[0m\u001b[0;34m\u001b[0m\n",
      "\u001b[0;34m\u001b[0m    \u001b[0mclosefd\u001b[0m\u001b[0;34m=\u001b[0m\u001b[0;32mTrue\u001b[0m\u001b[0;34m,\u001b[0m\u001b[0;34m\u001b[0m\n",
      "\u001b[0;34m\u001b[0m    \u001b[0mopener\u001b[0m\u001b[0;34m=\u001b[0m\u001b[0;32mNone\u001b[0m\u001b[0;34m,\u001b[0m\u001b[0;34m\u001b[0m\n",
      "\u001b[0;34m\u001b[0m\u001b[0;34m)\u001b[0m\u001b[0;34m\u001b[0m\u001b[0;34m\u001b[0m\u001b[0m\n",
      "\u001b[0;31mDocstring:\u001b[0m\n",
      "Open file and return a stream.  Raise OSError upon failure.\n",
      "\n",
      "file is either a text or byte string giving the name (and the path\n",
      "if the file isn't in the current working directory) of the file to\n",
      "be opened or an integer file descriptor of the file to be\n",
      "wrapped. (If a file descriptor is given, it is closed when the\n",
      "returned I/O object is closed, unless closefd is set to False.)\n",
      "\n",
      "mode is an optional string that specifies the mode in which the file\n",
      "is opened. It defaults to 'r' which means open for reading in text\n",
      "mode.  Other common values are 'w' for writing (truncating the file if\n",
      "it already exists), 'x' for creating and writing to a new file, and\n",
      "'a' for appending (which on some Unix systems, means that all writes\n",
      "append to the end of the file regardless of the current seek position).\n",
      "In text mode, if encoding is not specified the encoding used is platform\n",
      "dependent: locale.getencoding() is called to get the current locale encoding.\n",
      "(For reading and writing raw bytes use binary mode and leave encoding\n",
      "unspecified.) The available modes are:\n",
      "\n",
      "========= ===============================================================\n",
      "Character Meaning\n",
      "--------- ---------------------------------------------------------------\n",
      "'r'       open for reading (default)\n",
      "'w'       open for writing, truncating the file first\n",
      "'x'       create a new file and open it for writing\n",
      "'a'       open for writing, appending to the end of the file if it exists\n",
      "'b'       binary mode\n",
      "'t'       text mode (default)\n",
      "'+'       open a disk file for updating (reading and writing)\n",
      "========= ===============================================================\n",
      "\n",
      "The default mode is 'rt' (open for reading text). For binary random\n",
      "access, the mode 'w+b' opens and truncates the file to 0 bytes, while\n",
      "'r+b' opens the file without truncation. The 'x' mode implies 'w' and\n",
      "raises an `FileExistsError` if the file already exists.\n",
      "\n",
      "Python distinguishes between files opened in binary and text modes,\n",
      "even when the underlying operating system doesn't. Files opened in\n",
      "binary mode (appending 'b' to the mode argument) return contents as\n",
      "bytes objects without any decoding. In text mode (the default, or when\n",
      "'t' is appended to the mode argument), the contents of the file are\n",
      "returned as strings, the bytes having been first decoded using a\n",
      "platform-dependent encoding or using the specified encoding if given.\n",
      "\n",
      "buffering is an optional integer used to set the buffering policy.\n",
      "Pass 0 to switch buffering off (only allowed in binary mode), 1 to select\n",
      "line buffering (only usable in text mode), and an integer > 1 to indicate\n",
      "the size of a fixed-size chunk buffer.  When no buffering argument is\n",
      "given, the default buffering policy works as follows:\n",
      "\n",
      "* Binary files are buffered in fixed-size chunks; the size of the buffer\n",
      "  is chosen using a heuristic trying to determine the underlying device's\n",
      "  \"block size\" and falling back on `io.DEFAULT_BUFFER_SIZE`.\n",
      "  On many systems, the buffer will typically be 4096 or 8192 bytes long.\n",
      "\n",
      "* \"Interactive\" text files (files for which isatty() returns True)\n",
      "  use line buffering.  Other text files use the policy described above\n",
      "  for binary files.\n",
      "\n",
      "encoding is the name of the encoding used to decode or encode the\n",
      "file. This should only be used in text mode. The default encoding is\n",
      "platform dependent, but any encoding supported by Python can be\n",
      "passed.  See the codecs module for the list of supported encodings.\n",
      "\n",
      "errors is an optional string that specifies how encoding errors are to\n",
      "be handled---this argument should not be used in binary mode. Pass\n",
      "'strict' to raise a ValueError exception if there is an encoding error\n",
      "(the default of None has the same effect), or pass 'ignore' to ignore\n",
      "errors. (Note that ignoring encoding errors can lead to data loss.)\n",
      "See the documentation for codecs.register or run 'help(codecs.Codec)'\n",
      "for a list of the permitted encoding error strings.\n",
      "\n",
      "newline controls how universal newlines works (it only applies to text\n",
      "mode). It can be None, '', '\\n', '\\r', and '\\r\\n'.  It works as\n",
      "follows:\n",
      "\n",
      "* On input, if newline is None, universal newlines mode is\n",
      "  enabled. Lines in the input can end in '\\n', '\\r', or '\\r\\n', and\n",
      "  these are translated into '\\n' before being returned to the\n",
      "  caller. If it is '', universal newline mode is enabled, but line\n",
      "  endings are returned to the caller untranslated. If it has any of\n",
      "  the other legal values, input lines are only terminated by the given\n",
      "  string, and the line ending is returned to the caller untranslated.\n",
      "\n",
      "* On output, if newline is None, any '\\n' characters written are\n",
      "  translated to the system default line separator, os.linesep. If\n",
      "  newline is '' or '\\n', no translation takes place. If newline is any\n",
      "  of the other legal values, any '\\n' characters written are translated\n",
      "  to the given string.\n",
      "\n",
      "If closefd is False, the underlying file descriptor will be kept open\n",
      "when the file is closed. This does not work when a file name is given\n",
      "and must be True in that case.\n",
      "\n",
      "A custom opener can be used by passing a callable as *opener*. The\n",
      "underlying file descriptor for the file object is then obtained by\n",
      "calling *opener* with (*file*, *flags*). *opener* must return an open\n",
      "file descriptor (passing os.open as *opener* results in functionality\n",
      "similar to passing None).\n",
      "\n",
      "open() returns a file object whose type depends on the mode, and\n",
      "through which the standard file operations such as reading and writing\n",
      "are performed. When open() is used to open a file in a text mode ('w',\n",
      "'r', 'wt', 'rt', etc.), it returns a TextIOWrapper. When used to open\n",
      "a file in a binary mode, the returned class varies: in read binary\n",
      "mode, it returns a BufferedReader; in write binary and append binary\n",
      "modes, it returns a BufferedWriter, and in read/write mode, it returns\n",
      "a BufferedRandom.\n",
      "\n",
      "It is also possible to use a string or bytearray as a file for both\n",
      "reading and writing. For strings StringIO can be used like a file\n",
      "opened in a text mode, and for bytes a BytesIO can be used like a file\n",
      "opened in a binary mode.\n",
      "\u001b[0;31mType:\u001b[0m      function"
     ]
    }
   ],
   "source": [
    "open?"
   ]
  },
  {
   "cell_type": "code",
   "execution_count": 9,
   "metadata": {},
   "outputs": [
    {
     "name": "stdout",
     "output_type": "stream",
     "text": [
      "# pip install -r requirements.txt\n",
      "flake8==7.1.1\n",
      "black==24.10.0\n",
      "\n",
      "-r requirements-core.txt\n"
     ]
    }
   ],
   "source": [
    "f = open('requirements-dev.txt')\n",
    "print(f.read())\n",
    "1/0\n",
    "f.close()\n"
   ]
  },
  {
   "cell_type": "code",
   "execution_count": 11,
   "metadata": {},
   "outputs": [
    {
     "name": "stdout",
     "output_type": "stream",
     "text": [
      "division by zero\n"
     ]
    }
   ],
   "source": [
    "try:\n",
    "    f = open('requirements-dev.txt')\n",
    "    1/0\n",
    "    print(f.read())\n",
    "\n",
    "except Exception as e:\n",
    "    print(e)\n",
    "finally:\n",
    "    f.close()\n"
   ]
  },
  {
   "cell_type": "code",
   "execution_count": 17,
   "metadata": {},
   "outputs": [
    {
     "name": "stdout",
     "output_type": "stream",
     "text": [
      "# pip install -r requirements.txt\n",
      "flake8==7.1.1\n",
      "black==24.10.0\n",
      "\n",
      "-r requirements-core.txt\n",
      "False\n",
      "True\n"
     ]
    }
   ],
   "source": [
    "# context manager\n",
    "with open('requirements-dev.txt') as f:\n",
    "    print(f.read())\n",
    "    print(f.closed)\n",
    "\n",
    "print(f.closed)\n"
   ]
  },
  {
   "cell_type": "code",
   "execution_count": 15,
   "metadata": {},
   "outputs": [
    {
     "ename": "ZeroDivisionError",
     "evalue": "division by zero",
     "output_type": "error",
     "traceback": [
      "\u001b[0;31m---------------------------------------------------------------------------\u001b[0m",
      "\u001b[0;31mZeroDivisionError\u001b[0m                         Traceback (most recent call last)",
      "Cell \u001b[0;32mIn[15], line 1\u001b[0m\n\u001b[0;32m----> 1\u001b[0m \u001b[38;5;241;43m1\u001b[39;49m\u001b[38;5;241;43m/\u001b[39;49m\u001b[38;5;241;43m0\u001b[39;49m\n\u001b[1;32m      3\u001b[0m \u001b[38;5;28;01mtry\u001b[39;00m:\n\u001b[1;32m      4\u001b[0m     \u001b[38;5;241m1\u001b[39m\u001b[38;5;241m/\u001b[39m\u001b[38;5;241m0\u001b[39m\n",
      "\u001b[0;31mZeroDivisionError\u001b[0m: division by zero"
     ]
    }
   ],
   "source": [
    "try:\n",
    "    1/0\n",
    "except ZeroDivisionError as e:\n",
    "    print(\"Wystapił wyjątek ZeroDivisionError\")    \n",
    "except Exception as e:\n",
    "    print(e)\n",
    "print(\"Program działa dalej\")\n"
   ]
  },
  {
   "cell_type": "code",
   "execution_count": 8,
   "metadata": {},
   "outputs": [
    {
     "name": "stdout",
     "output_type": "stream",
     "text": [
      "\n"
     ]
    }
   ],
   "source": [
    "# zła praktyka\n",
    "try:\n",
    "    1/0\n",
    "except:\n",
    "    pass"
   ]
  },
  {
   "cell_type": "code",
   "execution_count": 18,
   "metadata": {},
   "outputs": [],
   "source": [
    "with open(\"data.txt\", \"w\") as f:\n",
    "    f.write(\"Hello, world!\")"
   ]
  },
  {
   "cell_type": "code",
   "execution_count": 19,
   "metadata": {},
   "outputs": [
    {
     "name": "stdout",
     "output_type": "stream",
     "text": [
      "Hello, world!"
     ]
    }
   ],
   "source": [
    "!cat data.txt"
   ]
  },
  {
   "cell_type": "code",
   "execution_count": 25,
   "metadata": {},
   "outputs": [],
   "source": [
    "with open(\"data.txt\", \"w\", encoding=\"UTF-16\") as f:\n",
    "    f.write(\"Zażółć gęślą jaźń\")\n",
    "\n"
   ]
  },
  {
   "cell_type": "code",
   "execution_count": 21,
   "metadata": {},
   "outputs": [
    {
     "ename": "UnicodeDecodeError",
     "evalue": "'utf-8' codec can't decode byte 0xbf in position 2: invalid start byte",
     "output_type": "error",
     "traceback": [
      "\u001b[0;31m---------------------------------------------------------------------------\u001b[0m",
      "\u001b[0;31mUnicodeDecodeError\u001b[0m                        Traceback (most recent call last)",
      "Cell \u001b[0;32mIn[21], line 2\u001b[0m\n\u001b[1;32m      1\u001b[0m \u001b[38;5;28;01mwith\u001b[39;00m \u001b[38;5;28mopen\u001b[39m(\u001b[38;5;124m\"\u001b[39m\u001b[38;5;124mdata.txt\u001b[39m\u001b[38;5;124m\"\u001b[39m) \u001b[38;5;28;01mas\u001b[39;00m f:\n\u001b[0;32m----> 2\u001b[0m     \u001b[38;5;28mprint\u001b[39m(\u001b[43mf\u001b[49m\u001b[38;5;241;43m.\u001b[39;49m\u001b[43mread\u001b[49m\u001b[43m(\u001b[49m\u001b[43m)\u001b[49m)\n",
      "File \u001b[0;32m<frozen codecs>:325\u001b[0m, in \u001b[0;36mdecode\u001b[0;34m(self, input, final)\u001b[0m\n",
      "\u001b[0;31mUnicodeDecodeError\u001b[0m: 'utf-8' codec can't decode byte 0xbf in position 2: invalid start byte"
     ]
    }
   ],
   "source": [
    "with open(\"data.txt\") as f:\n",
    "    print(f.read())"
   ]
  },
  {
   "cell_type": "code",
   "execution_count": 26,
   "metadata": {},
   "outputs": [
    {
     "name": "stdout",
     "output_type": "stream",
     "text": [
      "{'encoding': 'UTF-16', 'confidence': 1.0, 'language': ''}\n"
     ]
    }
   ],
   "source": [
    "import chardet\n",
    "\n",
    "with open(\"data.txt\", \"rb\") as f:\n",
    "    print(chardet.detect(f.read()))\n",
    "\n"
   ]
  },
  {
   "cell_type": "code",
   "execution_count": 29,
   "metadata": {},
   "outputs": [
    {
     "name": "stdout",
     "output_type": "stream",
     "text": [
      "1 import argparse\n",
      "2 \n",
      "3 parser = argparse.ArgumentParser(description=\"Obliczenia inzynierskie - parametry belki\")\n",
      "4 \n",
      "5 parser.add_argument(\"width\", type=float, help=\"Szerokość belki (w cm)\")\n",
      "6 parser.add_argument(\"height\", type=float, help=\"Wysokość belki (w cm)\")\n",
      "7 parser.add_argument(\"length\", type=float, help=\"Długość belki (w cm)\")\n",
      "8 \n",
      "9 \n",
      "10 args = parser.parse_args()\n",
      "11 \n",
      "12 volume = args.width * args.height * args.length\n",
      "13 \n",
      "14 print(f\"Objetosc: {volume} cm^3\")\n"
     ]
    }
   ],
   "source": [
    "with open(\"argparse_example.py\") as f:\n",
    "    i = 1\n",
    "    for line in f:\n",
    "        print(i, line, end=\"\")\n",
    "        i += 1\n",
    "\n"
   ]
  },
  {
   "cell_type": "code",
   "execution_count": 31,
   "metadata": {},
   "outputs": [
    {
     "data": {
      "text/plain": [
       "[(100, 'a'), (101, 'b'), (102, 'c')]"
      ]
     },
     "execution_count": 31,
     "metadata": {},
     "output_type": "execute_result"
    }
   ],
   "source": [
    "list(enumerate([\"a\", \"b\", \"c\"], start=100))"
   ]
  },
  {
   "cell_type": "code",
   "execution_count": 33,
   "metadata": {},
   "outputs": [
    {
     "name": "stdout",
     "output_type": "stream",
     "text": [
      "1 Ground particular something financial music.\n",
      "2 The document was modified on 1984-11-07.\n",
      "3 Server IP: 191.9.107.181 connected at 2014-04-18.\n",
      "4 The document was modified on 1989-05-11.\n",
      "5 The document was modified on 2020-10-18.\n",
      "6 The document was modified on 2001-02-08.\n",
      "7 Feel health price side.\n",
      "8 Time help pull actually child where.\n",
      "9 Specific stage scene both design quite law.\n",
      "10 Contact grantbaker@hotmail.com for more details.\n",
      "11 Big industry court tax section return.\n",
      "12 The document was modified on 2018-04-29.\n",
      "13 Accept level upon major stuff control air.\n",
      "14 The document was modified on 2020-06-29.\n",
      "15 Contact andre53@yahoo.com for more details.\n",
      "16 Server IP: 16.28.190.38 connected at 1994-02-18.\n",
      "17 Contact knightalexander@jordan.com for more details.\n",
      "18 Check field say environmental performance great explain.\n",
      "19 The document was modified on 1979-08-09.\n",
      "20 Control generation produce bring fund discuss nearly.\n",
      "21 Server IP: 71.234.63.177 connected at 1980-04-03.\n",
      "22 Server IP: 177.210.70.229 connected at 2021-05-03.\n",
      "23 Contact donald47@bell.biz for more details.\n",
      "24 The document was modified on 1977-09-24.\n",
      "25 The document was modified on 2008-10-12.\n",
      "26 Contact ryanjohnson@craig.org for more details.\n",
      "27 Contact rmcmahon@gmail.com for more details.\n",
      "28 Contact collinsmeredith@gmail.com for more details.\n",
      "29 Server IP: 64.219.206.143 connected at 2002-01-03.\n",
      "30 The document was modified on 1976-12-08.\n",
      "31 The document was modified on 2008-10-20.\n",
      "32 The document was modified on 1988-06-14.\n",
      "33 The document was modified on 2004-01-05.\n",
      "34 The document was modified on 1994-01-22.\n",
      "35 Server IP: 156.238.44.81 connected at 1976-08-27.\n",
      "36 Contact kathy26@cruz.com for more details.\n",
      "37 The document was modified on 1996-05-22.\n",
      "38 Contact nwade@roach.com for more details.\n",
      "39 The document was modified on 2000-07-01.\n",
      "40 Server IP: 222.108.111.117 connected at 2024-06-17.\n",
      "41 Contact johnstonerin@yahoo.com for more details.\n",
      "42 The document was modified on 2015-03-08.\n",
      "43 The document was modified on 1994-09-07.\n",
      "44 Server IP: 105.108.117.162 connected at 2003-05-01.\n",
      "45 Bank throughout daughter because writer series book white.\n",
      "46 Set building herself speak century exist break allow.\n",
      "47 The document was modified on 2003-02-25.\n",
      "48 Test piece west suggest south store keep.\n",
      "49 The document was modified on 1982-05-14.\n",
      "50 Contact kreyes@brady.org for more details.\n"
     ]
    }
   ],
   "source": [
    "with open(\"dane/data.txt\") as f:\n",
    "    for i, line in enumerate(f, 1):\n",
    "        print(i, line, end=\"\")\n",
    "        i += 1\n"
   ]
  },
  {
   "cell_type": "markdown",
   "metadata": {},
   "source": [
    "\"\".startswith(\"a\")\n"
   ]
  }
 ],
 "metadata": {
  "kernelspec": {
   "display_name": ".venv",
   "language": "python",
   "name": "python3"
  },
  "language_info": {
   "codemirror_mode": {
    "name": "ipython",
    "version": 3
   },
   "file_extension": ".py",
   "mimetype": "text/x-python",
   "name": "python",
   "nbconvert_exporter": "python",
   "pygments_lexer": "ipython3",
   "version": "3.13.0"
  }
 },
 "nbformat": 4,
 "nbformat_minor": 2
}

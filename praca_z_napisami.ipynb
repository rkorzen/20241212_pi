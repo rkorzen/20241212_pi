{
 "cells": [
  {
   "cell_type": "code",
   "execution_count": 19,
   "id": "2bb37abb",
   "metadata": {},
   "outputs": [
    {
     "data": {
      "text/plain": [
       "'HELLO WORLD ẞ'"
      ]
     },
     "execution_count": 19,
     "metadata": {},
     "output_type": "execute_result"
    }
   ],
   "source": [
    "text0 = \" hello world  \"\n",
    "text1 = \"Hello World ẞ\"\n",
    "text2 = \"['hello world']\"\n",
    "# dir(test)\n",
    "\n",
    "text1.upper()"
   ]
  },
  {
   "cell_type": "code",
   "execution_count": 11,
   "id": "97855d23",
   "metadata": {},
   "outputs": [
    {
     "data": {
      "text/plain": [
       "'hello world ss'"
      ]
     },
     "execution_count": 11,
     "metadata": {},
     "output_type": "execute_result"
    }
   ],
   "source": [
    "text1.casefold()"
   ]
  },
  {
   "cell_type": "code",
   "execution_count": 12,
   "id": "d5ad76fe",
   "metadata": {},
   "outputs": [
    {
     "data": {
      "text/plain": [
       "'hello world ß'"
      ]
     },
     "execution_count": 12,
     "metadata": {},
     "output_type": "execute_result"
    }
   ],
   "source": [
    "text1.lower()"
   ]
  },
  {
   "cell_type": "code",
   "execution_count": 13,
   "id": "95818746",
   "metadata": {},
   "outputs": [
    {
     "data": {
      "text/plain": [
       "'Hello World ẞ'"
      ]
     },
     "execution_count": 13,
     "metadata": {},
     "output_type": "execute_result"
    }
   ],
   "source": [
    "text1.title()"
   ]
  },
  {
   "cell_type": "code",
   "execution_count": 14,
   "id": "57f15fb5",
   "metadata": {},
   "outputs": [
    {
     "data": {
      "text/plain": [
       "'Hello world ß'"
      ]
     },
     "execution_count": 14,
     "metadata": {},
     "output_type": "execute_result"
    }
   ],
   "source": [
    "text1.capitalize()"
   ]
  },
  {
   "cell_type": "code",
   "execution_count": 15,
   "id": "7e3ac473",
   "metadata": {},
   "outputs": [
    {
     "data": {
      "text/plain": [
       "\"['Hello World']\""
      ]
     },
     "execution_count": 15,
     "metadata": {},
     "output_type": "execute_result"
    }
   ],
   "source": [
    "text2.title()"
   ]
  },
  {
   "cell_type": "code",
   "execution_count": 20,
   "id": "265d50b0",
   "metadata": {},
   "outputs": [
    {
     "data": {
      "text/plain": [
       "['hello', 'world']"
      ]
     },
     "execution_count": 20,
     "metadata": {},
     "output_type": "execute_result"
    }
   ],
   "source": [
    "text0.split()"
   ]
  },
  {
   "cell_type": "code",
   "execution_count": 21,
   "id": "1a785746",
   "metadata": {},
   "outputs": [
    {
     "data": {
      "text/plain": [
       "'hello world'"
      ]
     },
     "execution_count": 21,
     "metadata": {},
     "output_type": "execute_result"
    }
   ],
   "source": [
    "text0.strip()"
   ]
  },
  {
   "cell_type": "code",
   "execution_count": 22,
   "id": "1f5d2310",
   "metadata": {},
   "outputs": [
    {
     "data": {
      "text/plain": [
       "' hello world'"
      ]
     },
     "execution_count": 22,
     "metadata": {},
     "output_type": "execute_result"
    }
   ],
   "source": [
    "text0.rstrip()"
   ]
  },
  {
   "cell_type": "code",
   "execution_count": 23,
   "id": "161bc7df",
   "metadata": {},
   "outputs": [
    {
     "data": {
      "text/plain": [
       "[' hell', ' w', 'rld  ']"
      ]
     },
     "execution_count": 23,
     "metadata": {},
     "output_type": "execute_result"
    }
   ],
   "source": [
    "text0.split(\"o\")"
   ]
  },
  {
   "cell_type": "code",
   "execution_count": 24,
   "id": "2b62c7d7",
   "metadata": {},
   "outputs": [],
   "source": [
    "d = \"11\""
   ]
  },
  {
   "cell_type": "code",
   "execution_count": 25,
   "id": "02795782",
   "metadata": {},
   "outputs": [
    {
     "data": {
      "text/plain": [
       "True"
      ]
     },
     "execution_count": 25,
     "metadata": {},
     "output_type": "execute_result"
    }
   ],
   "source": [
    "d.isdecimal()"
   ]
  },
  {
   "cell_type": "code",
   "execution_count": 26,
   "id": "1f969e99",
   "metadata": {},
   "outputs": [
    {
     "data": {
      "text/plain": [
       "False"
      ]
     },
     "execution_count": 26,
     "metadata": {},
     "output_type": "execute_result"
    }
   ],
   "source": [
    "\"a1\".isdecimal()"
   ]
  },
  {
   "cell_type": "code",
   "execution_count": 28,
   "id": "ffbeb09f",
   "metadata": {},
   "outputs": [
    {
     "data": {
      "text/plain": [
       "True"
      ]
     },
     "execution_count": 28,
     "metadata": {},
     "output_type": "execute_result"
    }
   ],
   "source": [
    "napis = \"kajak\"\n",
    "\n",
    "\"Kajak\"\n",
    "\n",
    "\"Kobyła ma mały bok\"\n",
    "\n",
    "napis[::-1] == napis"
   ]
  },
  {
   "cell_type": "code",
   "execution_count": 34,
   "id": "dbb03c83",
   "metadata": {},
   "outputs": [],
   "source": [
    "def is_palindrome(text):\n",
    "    \n",
    "#     if text == text[::-1]:\n",
    "#         return True\n",
    "#     else:\n",
    "#         return False\n",
    "\n",
    "    cleaned = \"\"\n",
    "    \n",
    "\n",
    "    for sign in text.lower():\n",
    "        if sign.isalnum():\n",
    "            cleaned += sign\n",
    "\n",
    "    return cleaned == cleaned[::-1]\n",
    "\n",
    "\n",
    "assert is_palindrome(\"Kajak\") is True\n",
    "assert is_palindrome(\"koń\") is False\n",
    "assert is_palindrome(\"Kobyła ma mały bok!\") is True\n",
    "    "
   ]
  },
  {
   "cell_type": "code",
   "execution_count": 35,
   "id": "fced20d2",
   "metadata": {},
   "outputs": [],
   "source": [
    "def is_palindrome(text):\n",
    "    \n",
    "\n",
    "#     cleaned = \"\"\n",
    "#     for sign in text.lower():\n",
    "#         if sign.isalnum():\n",
    "#             cleaned += sign\n",
    "            \n",
    "    cleaned = [sign for sign in text.lower() if sign.isalnum()]\n",
    "\n",
    "    return cleaned == cleaned[::-1]\n",
    "\n",
    "\n",
    "assert is_palindrome(\"Kajak\") is True\n",
    "assert is_palindrome(\"koń\") is False\n",
    "assert is_palindrome(\"Kobyła ma mały bok!\") is True"
   ]
  },
  {
   "cell_type": "code",
   "execution_count": 38,
   "id": "fa7f1856",
   "metadata": {},
   "outputs": [
    {
     "data": {
      "text/plain": [
       "[0, 8, 64, 216, 512]"
      ]
     },
     "execution_count": 38,
     "metadata": {},
     "output_type": "execute_result"
    }
   ],
   "source": [
    "[x ** 3 for x in range(10) if x % 2 == 0]"
   ]
  },
  {
   "cell_type": "code",
   "execution_count": 39,
   "id": "b25601db",
   "metadata": {},
   "outputs": [
    {
     "data": {
      "text/plain": [
       "{0: 0, 2: 8, 4: 64, 6: 216, 8: 512}"
      ]
     },
     "execution_count": 39,
     "metadata": {},
     "output_type": "execute_result"
    }
   ],
   "source": [
    "{x: x ** 3 for x in range(10) if x % 2 == 0}"
   ]
  },
  {
   "cell_type": "code",
   "execution_count": 41,
   "id": "1c5d5779",
   "metadata": {},
   "outputs": [
    {
     "data": {
      "text/plain": [
       "{0, 8, 64, 216, 512}"
      ]
     },
     "execution_count": 41,
     "metadata": {},
     "output_type": "execute_result"
    }
   ],
   "source": [
    "{x ** 3 for x in range(10) if x % 2 == 0}"
   ]
  },
  {
   "cell_type": "code",
   "execution_count": 42,
   "id": "6e0d5f8b",
   "metadata": {},
   "outputs": [
    {
     "data": {
      "text/plain": [
       "<generator object <genexpr> at 0x112cdc900>"
      ]
     },
     "execution_count": 42,
     "metadata": {},
     "output_type": "execute_result"
    }
   ],
   "source": [
    "(x ** 3 for x in range(10) if x % 2 == 0)"
   ]
  },
  {
   "cell_type": "code",
   "execution_count": 43,
   "id": "e08ba9c8",
   "metadata": {},
   "outputs": [
    {
     "data": {
      "text/plain": [
       "'Kobyłamamałybok'"
      ]
     },
     "execution_count": 43,
     "metadata": {},
     "output_type": "execute_result"
    }
   ],
   "source": [
    "\n",
    "\"Kobyła ma mały bok\".replace(\" \", \"\")"
   ]
  },
  {
   "cell_type": "code",
   "execution_count": 55,
   "id": "45c5518e",
   "metadata": {},
   "outputs": [],
   "source": [
    "dane = \"\"\"\n",
    "A value 10\n",
    "B c D\n",
    "A 11\n",
    "A value 43\n",
    "\"\"\""
   ]
  },
  {
   "cell_type": "code",
   "execution_count": 60,
   "id": "9e4677af",
   "metadata": {},
   "outputs": [
    {
     "data": {
      "text/plain": [
       "53"
      ]
     },
     "execution_count": 60,
     "metadata": {},
     "output_type": "execute_result"
    }
   ],
   "source": [
    "suma = 0\n",
    "for row in dane.splitlines():\n",
    "    if row.startswith(\"A value\"):\n",
    "        value = int(row.split()[-1])\n",
    "        suma += value\n",
    "        \n",
    "suma"
   ]
  },
  {
   "cell_type": "code",
   "execution_count": 59,
   "id": "0948147d",
   "metadata": {},
   "outputs": [
    {
     "data": {
      "text/plain": [
       "'10'"
      ]
     },
     "execution_count": 59,
     "metadata": {},
     "output_type": "execute_result"
    }
   ],
   "source": [
    "\"A value 10\".split()[-1]"
   ]
  },
  {
   "cell_type": "code",
   "execution_count": null,
   "id": "f09c8c2b",
   "metadata": {},
   "outputs": [],
   "source": [
    "# dir(str)"
   ]
  }
 ],
 "metadata": {
  "kernelspec": {
   "display_name": "Python 3 (ipykernel)",
   "language": "python",
   "name": "python3"
  },
  "language_info": {
   "codemirror_mode": {
    "name": "ipython",
    "version": 3
   },
   "file_extension": ".py",
   "mimetype": "text/x-python",
   "name": "python",
   "nbconvert_exporter": "python",
   "pygments_lexer": "ipython3",
   "version": "3.10.7"
  },
  "toc": {
   "base_numbering": 1,
   "nav_menu": {},
   "number_sections": true,
   "sideBar": true,
   "skip_h1_title": false,
   "title_cell": "Table of Contents",
   "title_sidebar": "Contents",
   "toc_cell": false,
   "toc_position": {},
   "toc_section_display": true,
   "toc_window_display": false
  }
 },
 "nbformat": 4,
 "nbformat_minor": 5
}

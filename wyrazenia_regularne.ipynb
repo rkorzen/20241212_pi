{
 "cells": [
  {
   "cell_type": "code",
   "execution_count": 8,
   "metadata": {},
   "outputs": [
    {
     "data": {
      "text/plain": [
       "['ala@kot.pl', 'ala2@kot.pl', 'ala3@kot.pl']"
      ]
     },
     "execution_count": 8,
     "metadata": {},
     "output_type": "execute_result"
    }
   ],
   "source": [
    "# https://regex101.com/\n",
    "\n",
    "data = r\"\\d{4}-(0[1-9]|1[0-2])-((0[1-9]|[12][0-9])|3[01])\"\n",
    "email = r\"\\w+@\\w+\\.\\w+\"\n",
    "\n",
    "import re\n",
    "\n",
    "d = re.match(data, \"2024-12-12\")\n",
    "\n",
    "re.search(email, \"asa s as ala@kot.pl qsaas\").group()\n",
    "\n",
    "re.findall(email, \"asa s as ala@kot.pl qsaas  ala2@kot.pl ala3@kot.pl\")"
   ]
  },
  {
   "cell_type": "code",
   "execution_count": 10,
   "metadata": {},
   "outputs": [
    {
     "data": {
      "text/plain": [
       "<re.Match object; span=(9, 19), match='ala@kot.pl'>"
      ]
     },
     "execution_count": 10,
     "metadata": {},
     "output_type": "execute_result"
    }
   ],
   "source": [
    "re.search(email, \"asa s as ala@kot.pl qsaas  ala2@kot.pl ala3@kot.pl\")"
   ]
  },
  {
   "cell_type": "code",
   "execution_count": 11,
   "metadata": {},
   "outputs": [
    {
     "data": {
      "text/plain": [
       "'asa s as xxxxxxxxxx qsaas  xxxxxxxxxx xxxxxxxxxx'"
      ]
     },
     "execution_count": 11,
     "metadata": {},
     "output_type": "execute_result"
    }
   ],
   "source": [
    "re.sub(email, \"xxxxxxxxxx\",\"asa s as ala@kot.pl qsaas  ala2@kot.pl ala3@kot.pl\")"
   ]
  },
  {
   "cell_type": "code",
   "execution_count": null,
   "metadata": {},
   "outputs": [],
   "source": []
  }
 ],
 "metadata": {
  "kernelspec": {
   "display_name": ".venv",
   "language": "python",
   "name": "python3"
  },
  "language_info": {
   "codemirror_mode": {
    "name": "ipython",
    "version": 3
   },
   "file_extension": ".py",
   "mimetype": "text/x-python",
   "name": "python",
   "nbconvert_exporter": "python",
   "pygments_lexer": "ipython3",
   "version": "3.13.0"
  }
 },
 "nbformat": 4,
 "nbformat_minor": 2
}

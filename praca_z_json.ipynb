{
 "cells": [
  {
   "cell_type": "code",
   "execution_count": 1,
   "metadata": {},
   "outputs": [],
   "source": [
    "text = \"\"\"[{\"table\":\"A\",\"no\":\"241/A/NBP/2024\",\"effectiveDate\":\"2024-12-12\",\"rates\":[{\"currency\":\"bat (Tajlandia)\",\"code\":\"THB\",\"mid\":0.1204},{\"currency\":\"dolar amerykański\",\"code\":\"USD\",\"mid\":4.0740},{\"currency\":\"dolar australijski\",\"code\":\"AUD\",\"mid\":2.6134},{\"currency\":\"dolar Hongkongu\",\"code\":\"HKD\",\"mid\":0.5239},{\"currency\":\"dolar kanadyjski\",\"code\":\"CAD\",\"mid\":2.8821},{\"currency\":\"dolar nowozelandzki\",\"code\":\"NZD\",\"mid\":2.3666},{\"currency\":\"dolar singapurski\",\"code\":\"SGD\",\"mid\":3.0323},{\"currency\":\"euro\",\"code\":\"EUR\",\"mid\":4.2818},{\"currency\":\"forint (Węgry)\",\"code\":\"HUF\",\"mid\":0.010447},{\"currency\":\"frank szwajcarski\",\"code\":\"CHF\",\"mid\":4.5949},{\"currency\":\"funt szterling\",\"code\":\"GBP\",\"mid\":5.1979},{\"currency\":\"hrywna (Ukraina)\",\"code\":\"UAH\",\"mid\":0.0977},{\"currency\":\"jen (Japonia)\",\"code\":\"JPY\",\"mid\":0.02671},{\"currency\":\"korona czeska\",\"code\":\"CZK\",\"mid\":0.1708},{\"currency\":\"korona duńska\",\"code\":\"DKK\",\"mid\":0.5741},{\"currency\":\"korona islandzka\",\"code\":\"ISK\",\"mid\":0.029347},{\"currency\":\"korona norweska\",\"code\":\"NOK\",\"mid\":0.3669},{\"currency\":\"korona szwedzka\",\"code\":\"SEK\",\"mid\":0.3718},{\"currency\":\"lej rumuński\",\"code\":\"RON\",\"mid\":0.8614},{\"currency\":\"lew (Bułgaria)\",\"code\":\"BGN\",\"mid\":2.1892},{\"currency\":\"lira turecka\",\"code\":\"TRY\",\"mid\":0.1170},{\"currency\":\"nowy izraelski szekel\",\"code\":\"ILS\",\"mid\":1.1363},{\"currency\":\"peso chilijskie\",\"code\":\"CLP\",\"mid\":0.004177},{\"currency\":\"peso filipińskie\",\"code\":\"PHP\",\"mid\":0.0698},{\"currency\":\"peso meksykańskie\",\"code\":\"MXN\",\"mid\":0.2026},{\"currency\":\"rand (Republika Południowej Afryki)\",\"code\":\"ZAR\",\"mid\":0.2308},{\"currency\":\"real (Brazylia)\",\"code\":\"BRL\",\"mid\":0.6841},{\"currency\":\"ringgit (Malezja)\",\"code\":\"MYR\",\"mid\":0.9182},{\"currency\":\"rupia indonezyjska\",\"code\":\"IDR\",\"mid\":0.00025583},{\"currency\":\"rupia indyjska\",\"code\":\"INR\",\"mid\":0.048007},{\"currency\":\"won południowokoreański\",\"code\":\"KRW\",\"mid\":0.002846},{\"currency\":\"yuan renminbi (Chiny)\",\"code\":\"CNY\",\"mid\":0.5607},{\"currency\":\"SDR (MFW)\",\"code\":\"XDR\",\"mid\":5.3525}]}]\"\"\""
   ]
  },
  {
   "cell_type": "code",
   "execution_count": 2,
   "metadata": {},
   "outputs": [],
   "source": [
    "import json"
   ]
  },
  {
   "cell_type": "code",
   "execution_count": 4,
   "metadata": {},
   "outputs": [],
   "source": [
    "dane = json.loads(text)"
   ]
  },
  {
   "cell_type": "code",
   "execution_count": 8,
   "metadata": {},
   "outputs": [
    {
     "name": "stdout",
     "output_type": "stream",
     "text": [
      "bat (Tajlandia) 0.1204\n",
      "dolar amerykański 4.074\n",
      "dolar australijski 2.6134\n",
      "dolar Hongkongu 0.5239\n",
      "dolar kanadyjski 2.8821\n",
      "dolar nowozelandzki 2.3666\n",
      "dolar singapurski 3.0323\n",
      "euro 4.2818\n",
      "forint (Węgry) 0.010447\n",
      "frank szwajcarski 4.5949\n",
      "funt szterling 5.1979\n",
      "hrywna (Ukraina) 0.0977\n",
      "jen (Japonia) 0.02671\n",
      "korona czeska 0.1708\n",
      "korona duńska 0.5741\n",
      "korona islandzka 0.029347\n",
      "korona norweska 0.3669\n",
      "korona szwedzka 0.3718\n",
      "lej rumuński 0.8614\n",
      "lew (Bułgaria) 2.1892\n",
      "lira turecka 0.117\n",
      "nowy izraelski szekel 1.1363\n",
      "peso chilijskie 0.004177\n",
      "peso filipińskie 0.0698\n",
      "peso meksykańskie 0.2026\n",
      "rand (Republika Południowej Afryki) 0.2308\n",
      "real (Brazylia) 0.6841\n",
      "ringgit (Malezja) 0.9182\n",
      "rupia indonezyjska 0.00025583\n",
      "rupia indyjska 0.048007\n",
      "won południowokoreański 0.002846\n",
      "yuan renminbi (Chiny) 0.5607\n",
      "SDR (MFW) 5.3525\n"
     ]
    }
   ],
   "source": [
    "kursy = dane[0][\"rates\"]\n",
    "\n",
    "for kurs in kursy:\n",
    "    print(kurs[\"currency\"], kurs[\"mid\"])\n",
    "\n"
   ]
  },
  {
   "cell_type": "code",
   "execution_count": 9,
   "metadata": {},
   "outputs": [
    {
     "data": {
      "text/plain": [
       "[{'table': 'A',\n",
       "  'no': '241/A/NBP/2024',\n",
       "  'effectiveDate': '2024-12-12',\n",
       "  'rates': [{'currency': 'bat (Tajlandia)', 'code': 'THB', 'mid': 0.1204},\n",
       "   {'currency': 'dolar amerykański', 'code': 'USD', 'mid': 4.074},\n",
       "   {'currency': 'dolar australijski', 'code': 'AUD', 'mid': 2.6134},\n",
       "   {'currency': 'dolar Hongkongu', 'code': 'HKD', 'mid': 0.5239},\n",
       "   {'currency': 'dolar kanadyjski', 'code': 'CAD', 'mid': 2.8821},\n",
       "   {'currency': 'dolar nowozelandzki', 'code': 'NZD', 'mid': 2.3666},\n",
       "   {'currency': 'dolar singapurski', 'code': 'SGD', 'mid': 3.0323},\n",
       "   {'currency': 'euro', 'code': 'EUR', 'mid': 4.2818},\n",
       "   {'currency': 'forint (Węgry)', 'code': 'HUF', 'mid': 0.010447},\n",
       "   {'currency': 'frank szwajcarski', 'code': 'CHF', 'mid': 4.5949},\n",
       "   {'currency': 'funt szterling', 'code': 'GBP', 'mid': 5.1979},\n",
       "   {'currency': 'hrywna (Ukraina)', 'code': 'UAH', 'mid': 0.0977},\n",
       "   {'currency': 'jen (Japonia)', 'code': 'JPY', 'mid': 0.02671},\n",
       "   {'currency': 'korona czeska', 'code': 'CZK', 'mid': 0.1708},\n",
       "   {'currency': 'korona duńska', 'code': 'DKK', 'mid': 0.5741},\n",
       "   {'currency': 'korona islandzka', 'code': 'ISK', 'mid': 0.029347},\n",
       "   {'currency': 'korona norweska', 'code': 'NOK', 'mid': 0.3669},\n",
       "   {'currency': 'korona szwedzka', 'code': 'SEK', 'mid': 0.3718},\n",
       "   {'currency': 'lej rumuński', 'code': 'RON', 'mid': 0.8614},\n",
       "   {'currency': 'lew (Bułgaria)', 'code': 'BGN', 'mid': 2.1892},\n",
       "   {'currency': 'lira turecka', 'code': 'TRY', 'mid': 0.117},\n",
       "   {'currency': 'nowy izraelski szekel', 'code': 'ILS', 'mid': 1.1363},\n",
       "   {'currency': 'peso chilijskie', 'code': 'CLP', 'mid': 0.004177},\n",
       "   {'currency': 'peso filipińskie', 'code': 'PHP', 'mid': 0.0698},\n",
       "   {'currency': 'peso meksykańskie', 'code': 'MXN', 'mid': 0.2026},\n",
       "   {'currency': 'rand (Republika Południowej Afryki)',\n",
       "    'code': 'ZAR',\n",
       "    'mid': 0.2308},\n",
       "   {'currency': 'real (Brazylia)', 'code': 'BRL', 'mid': 0.6841},\n",
       "   {'currency': 'ringgit (Malezja)', 'code': 'MYR', 'mid': 0.9182},\n",
       "   {'currency': 'rupia indonezyjska', 'code': 'IDR', 'mid': 0.00025583},\n",
       "   {'currency': 'rupia indyjska', 'code': 'INR', 'mid': 0.048007},\n",
       "   {'currency': 'won południowokoreański', 'code': 'KRW', 'mid': 0.002846},\n",
       "   {'currency': 'yuan renminbi (Chiny)', 'code': 'CNY', 'mid': 0.5607},\n",
       "   {'currency': 'SDR (MFW)', 'code': 'XDR', 'mid': 5.3525}]}]"
      ]
     },
     "execution_count": 9,
     "metadata": {},
     "output_type": "execute_result"
    }
   ],
   "source": [
    "import requests\n",
    "\n",
    "r = requests.get(\"https://api.nbp.pl/api/exchangerates/tables/A\")\n",
    "r.json()"
   ]
  },
  {
   "cell_type": "code",
   "execution_count": 12,
   "metadata": {},
   "outputs": [
    {
     "data": {
      "text/plain": [
       "b'[{\"table\":\"A\",\"no\":\"241/A/NBP/2024\",\"effectiveDate\":\"2024-12-12\",\"rates\":[{\"currency\":\"bat (Tajlandia)\",\"code\":\"THB\",\"mid\":0.1204},{\"currency\":\"dolar ameryka\\xc5\\x84ski\",\"code\":\"USD\",\"mid\":4.0740},{\"currency\":\"dolar australijski\",\"code\":\"AUD\",\"mid\":2.6134},{\"currency\":\"dolar Hongkongu\",\"code\":\"HKD\",\"mid\":0.5239},{\"currency\":\"dolar kanadyjski\",\"code\":\"CAD\",\"mid\":2.8821},{\"currency\":\"dolar nowozelandzki\",\"code\":\"NZD\",\"mid\":2.3666},{\"currency\":\"dolar singapurski\",\"code\":\"SGD\",\"mid\":3.0323},{\"currency\":\"euro\",\"code\":\"EUR\",\"mid\":4.2818},{\"currency\":\"forint (W\\xc4\\x99gry)\",\"code\":\"HUF\",\"mid\":0.010447},{\"currency\":\"frank szwajcarski\",\"code\":\"CHF\",\"mid\":4.5949},{\"currency\":\"funt szterling\",\"code\":\"GBP\",\"mid\":5.1979},{\"currency\":\"hrywna (Ukraina)\",\"code\":\"UAH\",\"mid\":0.0977},{\"currency\":\"jen (Japonia)\",\"code\":\"JPY\",\"mid\":0.02671},{\"currency\":\"korona czeska\",\"code\":\"CZK\",\"mid\":0.1708},{\"currency\":\"korona du\\xc5\\x84ska\",\"code\":\"DKK\",\"mid\":0.5741},{\"currency\":\"korona islandzka\",\"code\":\"ISK\",\"mid\":0.029347},{\"currency\":\"korona norweska\",\"code\":\"NOK\",\"mid\":0.3669},{\"currency\":\"korona szwedzka\",\"code\":\"SEK\",\"mid\":0.3718},{\"currency\":\"lej rumu\\xc5\\x84ski\",\"code\":\"RON\",\"mid\":0.8614},{\"currency\":\"lew (Bu\\xc5\\x82garia)\",\"code\":\"BGN\",\"mid\":2.1892},{\"currency\":\"lira turecka\",\"code\":\"TRY\",\"mid\":0.1170},{\"currency\":\"nowy izraelski szekel\",\"code\":\"ILS\",\"mid\":1.1363},{\"currency\":\"peso chilijskie\",\"code\":\"CLP\",\"mid\":0.004177},{\"currency\":\"peso filipi\\xc5\\x84skie\",\"code\":\"PHP\",\"mid\":0.0698},{\"currency\":\"peso meksyka\\xc5\\x84skie\",\"code\":\"MXN\",\"mid\":0.2026},{\"currency\":\"rand (Republika Po\\xc5\\x82udniowej Afryki)\",\"code\":\"ZAR\",\"mid\":0.2308},{\"currency\":\"real (Brazylia)\",\"code\":\"BRL\",\"mid\":0.6841},{\"currency\":\"ringgit (Malezja)\",\"code\":\"MYR\",\"mid\":0.9182},{\"currency\":\"rupia indonezyjska\",\"code\":\"IDR\",\"mid\":0.00025583},{\"currency\":\"rupia indyjska\",\"code\":\"INR\",\"mid\":0.048007},{\"currency\":\"won po\\xc5\\x82udniowokorea\\xc5\\x84ski\",\"code\":\"KRW\",\"mid\":0.002846},{\"currency\":\"yuan renminbi (Chiny)\",\"code\":\"CNY\",\"mid\":0.5607},{\"currency\":\"SDR (MFW)\",\"code\":\"XDR\",\"mid\":5.3525}]}]'"
      ]
     },
     "execution_count": 12,
     "metadata": {},
     "output_type": "execute_result"
    }
   ],
   "source": [
    "r.content"
   ]
  },
  {
   "cell_type": "code",
   "execution_count": null,
   "metadata": {},
   "outputs": [],
   "source": []
  }
 ],
 "metadata": {
  "kernelspec": {
   "display_name": ".venv",
   "language": "python",
   "name": "python3"
  },
  "language_info": {
   "codemirror_mode": {
    "name": "ipython",
    "version": 3
   },
   "file_extension": ".py",
   "mimetype": "text/x-python",
   "name": "python",
   "nbconvert_exporter": "python",
   "pygments_lexer": "ipython3",
   "version": "3.13.0"
  }
 },
 "nbformat": 4,
 "nbformat_minor": 2
}

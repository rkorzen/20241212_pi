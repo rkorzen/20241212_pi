{
 "cells": [
  {
   "cell_type": "markdown",
   "metadata": {},
   "source": [
    "## **Praca z Plikami Tekstowymi (2h)**  \n",
    "\n"
   ]
  },
  {
   "cell_type": "markdown",
   "metadata": {},
   "source": [
    "\n",
    "\n",
    "### **Otwieranie, Czytanie i Zapis Plików Tekstowych**  \n",
    "\n",
    "W Pythonie pliki otwiera się za pomocą funkcji **`open()`**, która zwraca obiekt pliku. Praca z plikami obejmuje tryby odczytu, zapisu i dopisywania.\n",
    "\n",
    "Funkcję `open()` można użyć w kontekście with, aby zapewnić automatyczne zamknięcie pliku po zakończeniu pracy.\n",
    "\n",
    "Bez kontekstu with, plik musi być zamknięty za pomocą funkcji `close()`. Przykład:\n",
    "\n",
    "```python\n",
    "f = open(\"plik.txt\", \"r\")\n",
    "try:\n",
    "    # Praca z plikiem\n",
    "finally:\n",
    "    f.close()\n",
    "```\n",
    "równoważny kod z użyciem kontekst managera:\n",
    "\n",
    "```python\n",
    "with open(\"plik.txt\", \"r\") as f:\n",
    "    # Praca z plikiem\n",
    "``` \n",
    "\n",
    "#### Parametry funkcji `open()`\n",
    "\n",
    "- `file` - ścieżka do pliku\n",
    "- `mode` - tryb otwarcia pliku\n",
    "- `encoding` - kodowanie pliku (domyślnie UTF-8)\n",
    "...\n",
    "\n"
   ]
  },
  {
   "cell_type": "code",
   "execution_count": 2,
   "metadata": {},
   "outputs": [],
   "source": [
    "# help(open)"
   ]
  },
  {
   "cell_type": "code",
   "execution_count": null,
   "metadata": {},
   "outputs": [],
   "source": []
  },
  {
   "cell_type": "markdown",
   "metadata": {},
   "source": [
    "\n",
    "\n",
    "#### **Tryby Otwierania Plików**  \n",
    "\n",
    "| Tryb   | Opis                                           |\n",
    "|--------|------------------------------------------------|\n",
    "| `\"r\"`  | Odczyt (domyślny). Błąd, jeśli plik nie istnieje. |\n",
    "| `\"w\"`  | Zapis. Tworzy nowy plik lub nadpisuje istniejący. |\n",
    "| `\"a\"`  | Dopisuje na końcu pliku (tworzy plik, jeśli nie istnieje). |\n",
    "| `\"r+\"` | Odczyt i zapis. Błąd, jeśli plik nie istnieje. |\n",
    "| `\"rb\"` | Odczyt binarny.                               |\n",
    "| `\"wb\"` | Zapis binarny.                                |\n",
    "\n"
   ]
  },
  {
   "cell_type": "markdown",
   "metadata": {},
   "source": [
    "#### **Odczyt Pliku Tekstowego**  "
   ]
  },
  {
   "cell_type": "code",
   "execution_count": 3,
   "metadata": {},
   "outputs": [
    {
     "name": "stdout",
     "output_type": "stream",
     "text": [
      "Ground particular something financial music.\n",
      "The document was modified on 1984-11-07.\n",
      "Server IP: 191.9.107.181 connected at 2014-04-18.\n",
      "The document was modified on 1989-05-11.\n",
      "The document was modified on 2020-10-18.\n",
      "The document was modified on 2001-02-08.\n",
      "Feel health price side.\n",
      "Time help pull actually child where.\n",
      "Specific stage scene both design quite law.\n",
      "Contact grantbaker@hotmail.com for more details.\n",
      "Big industry court tax section return.\n",
      "The document was modified on 2018-04-29.\n",
      "Accept level upon major stuff control air.\n",
      "The document was modified on 2020-06-29.\n",
      "Contact andre53@yahoo.com for more details.\n",
      "Server IP: 16.28.190.38 connected at 1994-02-18.\n",
      "Contact knightalexander@jordan.com for more details.\n",
      "Check field say environmental performance great explain.\n",
      "The document was modified on 1979-08-09.\n",
      "Control generation produce bring fund discuss nearly.\n",
      "Server IP: 71.234.63.177 connected at 1980-04-03.\n",
      "Server IP: 177.210.70.229 connected at 2021-05-03.\n",
      "Contact donald47@bell.biz for more details.\n",
      "The document was modified on 1977-09-24.\n",
      "The document was modified on 2008-10-12.\n",
      "Contact ryanjohnson@craig.org for more details.\n",
      "Contact rmcmahon@gmail.com for more details.\n",
      "Contact collinsmeredith@gmail.com for more details.\n",
      "Server IP: 64.219.206.143 connected at 2002-01-03.\n",
      "The document was modified on 1976-12-08.\n",
      "The document was modified on 2008-10-20.\n",
      "The document was modified on 1988-06-14.\n",
      "The document was modified on 2004-01-05.\n",
      "The document was modified on 1994-01-22.\n",
      "Server IP: 156.238.44.81 connected at 1976-08-27.\n",
      "Contact kathy26@cruz.com for more details.\n",
      "The document was modified on 1996-05-22.\n",
      "Contact nwade@roach.com for more details.\n",
      "The document was modified on 2000-07-01.\n",
      "Server IP: 222.108.111.117 connected at 2024-06-17.\n",
      "Contact johnstonerin@yahoo.com for more details.\n",
      "The document was modified on 2015-03-08.\n",
      "The document was modified on 1994-09-07.\n",
      "Server IP: 105.108.117.162 connected at 2003-05-01.\n",
      "Bank throughout daughter because writer series book white.\n",
      "Set building herself speak century exist break allow.\n",
      "The document was modified on 2003-02-25.\n",
      "Test piece west suggest south store keep.\n",
      "The document was modified on 1982-05-14.\n",
      "Contact kreyes@brady.org for more details.\n",
      "\n"
     ]
    }
   ],
   "source": [
    "# Odczyt całego pliku\n",
    "with open(\"dane/document.txt\", \"r\", encoding=\"utf-8\") as f:\n",
    "    zawartosc = f.read()\n",
    "    print(zawartosc)"
   ]
  },
  {
   "cell_type": "markdown",
   "metadata": {},
   "source": [
    "#### **Odczyt Linii Po Linii**  "
   ]
  },
  {
   "cell_type": "code",
   "execution_count": 9,
   "metadata": {},
   "outputs": [
    {
     "name": "stdout",
     "output_type": "stream",
     "text": [
      "Ground particular something financial music.\n",
      "The document was modified on 1984-11-07.\n",
      "Server IP: 191.9.107.181 connected at 2014-04-18.\n",
      "The document was modified on 1989-05-11.\n",
      "The document was modified on 2020-10-18.\n",
      "The document was modified on 2001-02-08.\n",
      "Feel health price side.\n",
      "Time help pull actually child where.\n",
      "Specific stage scene both design quite law.\n",
      "Contact grantbaker@hotmail.com for more details.\n",
      "Big industry court tax section return.\n",
      "The document was modified on 2018-04-29.\n",
      "Accept level upon major stuff control air.\n",
      "The document was modified on 2020-06-29.\n",
      "Contact andre53@yahoo.com for more details.\n",
      "Server IP: 16.28.190.38 connected at 1994-02-18.\n",
      "Contact knightalexander@jordan.com for more details.\n",
      "Check field say environmental performance great explain.\n",
      "The document was modified on 1979-08-09.\n",
      "Control generation produce bring fund discuss nearly.\n",
      "Server IP: 71.234.63.177 connected at 1980-04-03.\n",
      "Server IP: 177.210.70.229 connected at 2021-05-03.\n",
      "Contact donald47@bell.biz for more details.\n",
      "The document was modified on 1977-09-24.\n",
      "The document was modified on 2008-10-12.\n",
      "Contact ryanjohnson@craig.org for more details.\n",
      "Contact rmcmahon@gmail.com for more details.\n",
      "Contact collinsmeredith@gmail.com for more details.\n",
      "Server IP: 64.219.206.143 connected at 2002-01-03.\n",
      "The document was modified on 1976-12-08.\n",
      "The document was modified on 2008-10-20.\n",
      "The document was modified on 1988-06-14.\n",
      "The document was modified on 2004-01-05.\n",
      "The document was modified on 1994-01-22.\n",
      "Server IP: 156.238.44.81 connected at 1976-08-27.\n",
      "Contact kathy26@cruz.com for more details.\n",
      "The document was modified on 1996-05-22.\n",
      "Contact nwade@roach.com for more details.\n",
      "The document was modified on 2000-07-01.\n",
      "Server IP: 222.108.111.117 connected at 2024-06-17.\n",
      "Contact johnstonerin@yahoo.com for more details.\n",
      "The document was modified on 2015-03-08.\n",
      "The document was modified on 1994-09-07.\n",
      "Server IP: 105.108.117.162 connected at 2003-05-01.\n",
      "Bank throughout daughter because writer series book white.\n",
      "Set building herself speak century exist break allow.\n",
      "The document was modified on 2003-02-25.\n",
      "Test piece west suggest south store keep.\n",
      "The document was modified on 1982-05-14.\n",
      "Contact kreyes@brady.org for more details.\n"
     ]
    }
   ],
   "source": [
    "# Odczyt linia po linii\n",
    "with open(\"dane/document.txt\", \"r\", encoding=\"utf-8\") as f:\n",
    "    for linia in f:\n",
    "        print(linia.strip())  # Usunięcie znaków białych"
   ]
  },
  {
   "cell_type": "markdown",
   "metadata": {},
   "source": [
    "#### **4.1.4. Odczyt Do Listy**  "
   ]
  },
  {
   "cell_type": "code",
   "execution_count": 10,
   "metadata": {},
   "outputs": [
    {
     "name": "stdout",
     "output_type": "stream",
     "text": [
      "['Ground particular something financial music.\\n', 'The document was modified on 1984-11-07.\\n', 'Server IP: 191.9.107.181 connected at 2014-04-18.\\n', 'The document was modified on 1989-05-11.\\n', 'The document was modified on 2020-10-18.\\n', 'The document was modified on 2001-02-08.\\n', 'Feel health price side.\\n', 'Time help pull actually child where.\\n', 'Specific stage scene both design quite law.\\n', 'Contact grantbaker@hotmail.com for more details.\\n', 'Big industry court tax section return.\\n', 'The document was modified on 2018-04-29.\\n', 'Accept level upon major stuff control air.\\n', 'The document was modified on 2020-06-29.\\n', 'Contact andre53@yahoo.com for more details.\\n', 'Server IP: 16.28.190.38 connected at 1994-02-18.\\n', 'Contact knightalexander@jordan.com for more details.\\n', 'Check field say environmental performance great explain.\\n', 'The document was modified on 1979-08-09.\\n', 'Control generation produce bring fund discuss nearly.\\n', 'Server IP: 71.234.63.177 connected at 1980-04-03.\\n', 'Server IP: 177.210.70.229 connected at 2021-05-03.\\n', 'Contact donald47@bell.biz for more details.\\n', 'The document was modified on 1977-09-24.\\n', 'The document was modified on 2008-10-12.\\n', 'Contact ryanjohnson@craig.org for more details.\\n', 'Contact rmcmahon@gmail.com for more details.\\n', 'Contact collinsmeredith@gmail.com for more details.\\n', 'Server IP: 64.219.206.143 connected at 2002-01-03.\\n', 'The document was modified on 1976-12-08.\\n', 'The document was modified on 2008-10-20.\\n', 'The document was modified on 1988-06-14.\\n', 'The document was modified on 2004-01-05.\\n', 'The document was modified on 1994-01-22.\\n', 'Server IP: 156.238.44.81 connected at 1976-08-27.\\n', 'Contact kathy26@cruz.com for more details.\\n', 'The document was modified on 1996-05-22.\\n', 'Contact nwade@roach.com for more details.\\n', 'The document was modified on 2000-07-01.\\n', 'Server IP: 222.108.111.117 connected at 2024-06-17.\\n', 'Contact johnstonerin@yahoo.com for more details.\\n', 'The document was modified on 2015-03-08.\\n', 'The document was modified on 1994-09-07.\\n', 'Server IP: 105.108.117.162 connected at 2003-05-01.\\n', 'Bank throughout daughter because writer series book white.\\n', 'Set building herself speak century exist break allow.\\n', 'The document was modified on 2003-02-25.\\n', 'Test piece west suggest south store keep.\\n', 'The document was modified on 1982-05-14.\\n', 'Contact kreyes@brady.org for more details.\\n']\n"
     ]
    }
   ],
   "source": [
    "# Wczytanie wszystkich linii jako listy\n",
    "with open(\"dane/document.txt\", \"r\") as f:\n",
    "    linie = f.readlines()\n",
    "    print(linie)"
   ]
  },
  {
   "cell_type": "markdown",
   "metadata": {},
   "source": [
    "#### **Zapis Do Pliku Tekstowego**  "
   ]
  },
  {
   "cell_type": "code",
   "execution_count": 14,
   "metadata": {},
   "outputs": [],
   "source": [
    "# Zapis do pliku\n",
    "with open(\"dane/wynik.txt\", \"w\", encoding=\"utf-8\") as f:\n",
    "    f.write(\"Witaj w Pythonie!\\n\")\n",
    "    f.write(\"Zapis do pliku tekstowego działa!\")"
   ]
  },
  {
   "cell_type": "markdown",
   "metadata": {},
   "source": [
    "#### **Dopisywanie Danych Do Pliku**  "
   ]
  },
  {
   "cell_type": "code",
   "execution_count": 16,
   "metadata": {},
   "outputs": [],
   "source": [
    "# Dopisanie nowej linii\n",
    "with open(\"dane/wynik.txt\", \"a\", encoding=\"utf-8\") as f:\n",
    "    f.write(\"\\nDopisana nowa linia!\")"
   ]
  },
  {
   "cell_type": "markdown",
   "metadata": {},
   "source": [
    "### **Obsługa Kodowania i Polskich Liter**  \n",
    "\n",
    "Python domyślnie używa kodowania **UTF-8**, które obsługuje polskie znaki, np. `ą`, `ę`, `ł`, `ó`, `ź`. \n",
    "\n",
    "Jeśli plik jest kodowany w innym kodowaniu, to należy jawnie określić kodowanie przy odczycie i zapisie pliku.\n",
    "\n",
    "Przy odczycie pliku można użyć funkcji `chardet` do wykrycia kodowania pliku.\n"
   ]
  },
  {
   "cell_type": "markdown",
   "metadata": {},
   "source": [
    "#### **Zapis i Odczyt Polskich Liter**  \n",
    "\n",
    "```python\n",
    "# Zapis z polskimi literami\n",
    "with open(\"polski_tekst.txt\", \"w\", encoding=\"utf-8\") as f:\n",
    "    f.write(\"Zażółć gęślą jaźń - polskie znaki działają!\")\n",
    "\n",
    "# Odczyt pliku\n",
    "with open(\"polski_tekst.txt\", \"r\", encoding=\"utf-8\") as f:\n",
    "    print(f.read())\n",
    "```\n",
    "\n"
   ]
  },
  {
   "cell_type": "markdown",
   "metadata": {},
   "source": [
    "\n",
    "\n",
    "#### **Wykrywanie Kodowania Pliku (moduł `chardet`)**  \n",
    "\n",
    "```python\n",
    "import chardet\n",
    "\n",
    "# Wykrywanie kodowania pliku\n",
    "with open(\"plik_nieznany.txt\", \"rb\") as f:\n",
    "    wynik = chardet.detect(f.read())\n",
    "    print(f\"Znalezione kodowanie: {wynik['encoding']}\")\n",
    "```\n",
    "\n"
   ]
  },
  {
   "cell_type": "code",
   "execution_count": 22,
   "metadata": {},
   "outputs": [
    {
     "name": "stdout",
     "output_type": "stream",
     "text": [
      "{'encoding': 'utf-8', 'confidence': 0.99, 'language': ''}\n",
      "{'encoding': 'UTF-16', 'confidence': 1.0, 'language': ''}\n"
     ]
    }
   ],
   "source": [
    "import chardet\n",
    "\n",
    "tekst = \"\"\"Zażółć gęślą jaźń - polskie znaki działają! Ala ma kota a kot ma alę. \n",
    "Dużo różnych znaków dla poprawienia szansy na poprawne odczytanie pliku.\n",
    "Wyrewolwerowana krowa!\n",
    "\"\"\"\n",
    "\n",
    "wynik = chardet.detect(tekst.encode())\n",
    "print(wynik)\n",
    "\n",
    "\n",
    "wynik = chardet.detect(tekst.encode(\"utf-16\"))\n",
    "print(wynik)\n"
   ]
  },
  {
   "cell_type": "markdown",
   "metadata": {},
   "source": []
  },
  {
   "cell_type": "code",
   "execution_count": null,
   "metadata": {},
   "outputs": [],
   "source": []
  }
 ],
 "metadata": {
  "kernelspec": {
   "display_name": ".venv",
   "language": "python",
   "name": "python3"
  },
  "language_info": {
   "codemirror_mode": {
    "name": "ipython",
    "version": 3
   },
   "file_extension": ".py",
   "mimetype": "text/x-python",
   "name": "python",
   "nbconvert_exporter": "python",
   "pygments_lexer": "ipython3",
   "version": "3.13.0"
  }
 },
 "nbformat": 4,
 "nbformat_minor": 2
}

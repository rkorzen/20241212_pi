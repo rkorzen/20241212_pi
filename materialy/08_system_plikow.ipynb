{
 "cells": [
  {
   "cell_type": "markdown",
   "metadata": {},
   "source": [
    "# Praca z Systemem Plików w Pythonie\n",
    "\n",
    "## Spis treści:\n",
    "1. [Moduł os - podstawowe operacje](#os)\n",
    "2. [Moduł pathlib - obiektowe podejście do ścieżek](#pathlib)\n",
    "3. [Moduł shutil - operacje na plikach i katalogach](#shutil)\n",
    "4. [Moduł glob - wyszukiwanie plików](#glob)\n",
    "\n",
    "## 1. Moduł os <a id='os'></a>\n",
    "\n",
    "Moduł `os` zapewnia podstawowe funkcje do interakcji z systemem operacyjnym."
   ]
  },
  {
   "cell_type": "code",
   "execution_count": 3,
   "metadata": {},
   "outputs": [
    {
     "name": "stdout",
     "output_type": "stream",
     "text": [
      "Bieżący katalog: /Users/rkorzen/PycharmProjects/szkolenia/alx/2024_12_12_python_dla_inżynierów/przyklady\n",
      "Bieżący katalog: /Users/rkorzen/PycharmProjects/szkolenia/alx/2024_12_12_python_dla_inżynierów/przyklady\n",
      "\n",
      "Zawartość katalogu:\n",
      "zadanie_2_konwersja_jednostek.py\n",
      "tcpip_server.py\n",
      "temperatura_wykres.html\n",
      "zadanie_1_geodezyjne.py\n",
      "zadanie_3_statystyka_danych.py\n",
      "tcpip_client.py\n",
      "zadanie_3_anonimizacja.py\n",
      "zadanie_1_wyszukiwanie.py\n",
      "goey_config.json\n",
      "zadanie_2_licznik_slow.py\n",
      "temperatura_klient.py\n",
      "belka_click.py\n",
      "temperatura_serwer.py\n",
      "belka_argparse.py\n",
      "belka_gooey.py\n",
      "\n",
      "Czy 'test_dir' istnieje? True\n",
      "\n",
      "Informacje o katalogu:\n",
      "os.stat_result(st_mode=16877, st_ino=483476175, st_dev=16777220, st_nlink=2, st_uid=501, st_gid=20, st_size=64, st_atime=1733860351, st_mtime=1733860351, st_ctime=1733860351)\n",
      "\n",
      "Czy 'test_dir' istnieje? False\n",
      "posprzątane\n"
     ]
    }
   ],
   "source": [
    "import os\n",
    "\n",
    "print(\"Bieżący katalog:\", os.getcwd())\n",
    "\n",
    "# zmiana katalogu\n",
    "os.chdir('/Users/rkorzen/PycharmProjects/szkolenia/alx/2024_12_12_python_dla_inżynierów/przyklady')\n",
    "\n",
    "# Sprawdzenie bieżącego katalogu\n",
    "print(f\"Bieżący katalog: {os.getcwd()}\")\n",
    "\n",
    "\n",
    "# Listowanie zawartości katalogu\n",
    "print(\"\\nZawartość katalogu:\")\n",
    "for item in os.listdir():\n",
    "    print(item)\n",
    "\n",
    "# Tworzenie katalogu\n",
    "os.makedirs('test_dir', exist_ok=True)\n",
    "\n",
    "# Sprawdzanie istnienia pliku/katalogu\n",
    "print(f\"\\nCzy 'test_dir' istnieje? {os.path.exists('test_dir')}\")\n",
    "\n",
    "# Informacje o pliku\n",
    "file_stats = os.stat('test_dir')\n",
    "print(f\"\\nInformacje o katalogu:\\n{file_stats}\")\n",
    "\n",
    "# usuwanie katalogu\n",
    "os.rmdir('test_dir')\n",
    "print(f\"\\nCzy 'test_dir' istnieje? {os.path.exists('test_dir')}\")\n",
    "\n",
    "print(\"posprzątane\")"
   ]
  },
  {
   "cell_type": "markdown",
   "metadata": {},
   "source": [
    "Funkcja os.stat() zwraca obiekt z różnymi informacjami o pliku. Oto wyjaśnienie poszczególnych atrybutów:"
   ]
  },
  {
   "cell_type": "code",
   "execution_count": 7,
   "metadata": {},
   "outputs": [
    {
     "name": "stdout",
     "output_type": "stream",
     "text": [
      "os.stat_result(st_mode=33188, st_ino=483119533, st_dev=16777220, st_nlink=1, st_uid=501, st_gid=20, st_size=239, st_atime=1733825005, st_mtime=1733825002, st_ctime=1733825002)\n"
     ]
    }
   ],
   "source": [
    "import os\n",
    "\n",
    "os.chdir('/Users/rkorzen/PycharmProjects/szkolenia/alx/2024_12_12_python_dla_inżynierów')\n",
    "\n",
    "file_stats = os.stat('requirements.txt')\n",
    "print(file_stats)\n",
    "\n",
    "\n",
    "# Atrybuty os.stat:\n",
    "# st_mode   # Uprawnienia pliku (bity uprawnień)\n",
    "# st_ino    # Numer i-węzła (inode)\n",
    "# st_dev    # Identyfikator urządzenia\n",
    "# st_nlink  # Liczba dowiązań twardych\n",
    "# st_uid    # ID użytkownika właściciela\n",
    "# st_gid    # ID grupy właściciela\n",
    "# st_size   # Rozmiar w bajtach\n",
    "# st_atime  # Czas ostatniego dostępu (access time)\n",
    "# st_mtime  # Czas ostatniej modyfikacji (modification time)\n",
    "# st_ctime  # Czas utworzenia na Windows, czas zmiany metadanych na Unix (creation/change time)"
   ]
  },
  {
   "cell_type": "markdown",
   "metadata": {},
   "source": [
    "### Operacje na ścieżkach z os.path"
   ]
  },
  {
   "cell_type": "code",
   "execution_count": 8,
   "metadata": {},
   "outputs": [
    {
     "name": "stdout",
     "output_type": "stream",
     "text": [
      "Pełna ścieżka: test_dir/test_file.txt\n",
      "Katalog: test_dir\n",
      "Nazwa pliku: test_file.txt\n",
      "Rozszerzenie: .txt\n"
     ]
    }
   ],
   "source": [
    "# Operacje na ścieżkach\n",
    "path = os.path.join('test_dir', 'test_file.txt')\n",
    "print(f\"Pełna ścieżka: {path}\")\n",
    "print(f\"Katalog: {os.path.dirname(path)}\")\n",
    "print(f\"Nazwa pliku: {os.path.basename(path)}\")\n",
    "print(f\"Rozszerzenie: {os.path.splitext(path)[1]}\")"
   ]
  },
  {
   "cell_type": "code",
   "execution_count": 16,
   "metadata": {},
   "outputs": [
    {
     "name": "stdout",
     "output_type": "stream",
     "text": [
      "Overwriting przyklady/parent_path.py\n"
     ]
    }
   ],
   "source": [
    "%%writefile przyklady/parent_path.py\n",
    "# by wejsc poziom wyzej\n",
    "import os\n",
    "#     drugi poziom wyzej  pierwszy poziom wyzej  bieżący poziom  bieżąca ścieżka pliku\n",
    "print(os.path.dirname(    os.path.dirname(       os.path.dirname(os.path.abspath(__file__)))))\n"
   ]
  },
  {
   "cell_type": "code",
   "execution_count": 17,
   "metadata": {},
   "outputs": [
    {
     "name": "stdout",
     "output_type": "stream",
     "text": [
      "/Users/rkorzen/PycharmProjects/szkolenia/alx\n"
     ]
    }
   ],
   "source": [
    "!python przyklady/parent_path.py"
   ]
  },
  {
   "cell_type": "markdown",
   "metadata": {},
   "source": [
    "## 2. Moduł pathlib <a id='pathlib'></a>\n",
    "\n",
    "Moduł `pathlib` wprowadza obiektowe podejście do operacji na ścieżkach."
   ]
  },
  {
   "cell_type": "code",
   "execution_count": 8,
   "metadata": {},
   "outputs": [
    {
     "name": "stdout",
     "output_type": "stream",
     "text": [
      "Bieżący katalog: /Users/rkorzen/PycharmProjects/szkolenia/alx/2024_12_12_python_dla_inżynierów\n",
      "Czy katalog przyklady istnieje? True\n",
      "Czy test_dir istnieje? False\n",
      "\n",
      "Ścieżka do pliku: /Users/rkorzen/PycharmProjects/szkolenia/alx/2024_12_12_python_dla_inżynierów/przyklady/test_dir/example.txt\n",
      "\n",
      "Informacje o pliku:\n",
      "Suffix: .txt\n",
      "Stem: example\n",
      "Parent: /Users/rkorzen/PycharmProjects/szkolenia/alx/2024_12_12_python_dla_inżynierów/przyklady/test_dir\n",
      "\n",
      "Pliki .txt w katalogu:\n",
      "/Users/rkorzen/PycharmProjects/szkolenia/alx/2024_12_12_python_dla_inżynierów/przyklady/test_dir/example.txt\n",
      "Czy plik istnieje? False\n",
      "Czy katalog istnieje? False\n"
     ]
    }
   ],
   "source": [
    "from pathlib import Path\n",
    "\n",
    "# Tworzenie obiektu ścieżki\n",
    "current_dir = Path.cwd()\n",
    "print(f\"Bieżący katalog: {current_dir}\")\n",
    "\n",
    "# tworzenie ścieżki do przyklady\n",
    "przyklady_dir = current_dir / 'przyklady'\n",
    "\n",
    "# Sprawdzenie czy katalog przyklady istnieje\n",
    "print(f\"Czy katalog przyklady istnieje? {przyklady_dir.exists()}\")\n",
    "\n",
    "\n",
    "# Tworzenie ścieżki do pliku\n",
    "test_dir = przyklady_dir / 'test_dir'\n",
    "\n",
    "# Czy test_dir istnieje?\n",
    "print(f\"Czy test_dir istnieje? {test_dir.exists()}\")\n",
    "\n",
    "# Tworzenie katalogu\n",
    "test_dir.mkdir(parents=True, exist_ok=True)\n",
    "\n",
    "# Tworzenie ścieżki do pliku\n",
    "file_path = test_dir / 'example.txt'\n",
    "print(f\"\\nŚcieżka do pliku: {file_path}\")\n",
    "\n",
    "# Tworzenie pliku i zapis\n",
    "file_path.write_text('Hello from pathlib!')\n",
    "\n",
    "# Informacje o pliku\n",
    "print(f\"\\nInformacje o pliku:\")\n",
    "print(f\"Suffix: {file_path.suffix}\")\n",
    "print(f\"Stem: {file_path.stem}\")\n",
    "print(f\"Parent: {file_path.parent}\")\n",
    "\n",
    "# Iterowanie po plikach w katalogu\n",
    "print(\"\\nPliki .txt w katalogu:\")\n",
    "for file in test_dir.glob('**/*.txt'):\n",
    "    print(file)\n",
    "\n",
    "# usuwanie pliku\n",
    "file_path.unlink()\n",
    "\n",
    "# usuwanie katalogu\n",
    "test_dir.rmdir()\n",
    "\n",
    "# sprawdzenie czy plik istnieje\n",
    "print(f\"Czy plik istnieje? {file_path.exists()}\")\n",
    "\n",
    "# sprawdzenie czy katalog istnieje\n",
    "print(f\"Czy katalog istnieje? {test_dir.exists()}\")\n"
   ]
  },
  {
   "cell_type": "markdown",
   "metadata": {},
   "source": [
    "### Zaawansowane operacje z pathlib"
   ]
  },
  {
   "cell_type": "code",
   "execution_count": 26,
   "metadata": {},
   "outputs": [
    {
     "name": "stdout",
     "output_type": "stream",
     "text": [
      "Czy to plik? True\n",
      "Czy to katalog? True\n"
     ]
    }
   ],
   "source": [
    "# Tworzenie struktury katalogów\n",
    "new_dir = Path('przyklady/nested/dir/structure')\n",
    "new_dir.mkdir(parents=True, exist_ok=True)\n",
    "\n",
    "# tworzenie pliku\n",
    "file_path = new_dir / 'example.txt'\n",
    "file_path.write_text('Hello from pathlib!')\n",
    "\n",
    "# Sprawdzanie typów\n",
    "print(f\"Czy to plik? {file_path.is_file()}\")\n",
    "print(f\"Czy to katalog? {file_path.parent.is_dir()}\")\n",
    "\n",
    "# Operacje na zawartości\n",
    "content = file_path.read_text()\n",
    "file_path.write_text(content + '\\nDodatkowa linia')\n",
    "\n",
    "# Usuwanie\n",
    "if file_path.exists():\n",
    "    file_path.unlink()  # usuwa plik\n",
    "\n",
    "new_dir.rmdir()"
   ]
  },
  {
   "cell_type": "markdown",
   "metadata": {},
   "source": [
    "## 3. Moduł shutil <a id='shutil'></a>\n",
    "\n",
    "Moduł `shutil` oferuje zaawansowane operacje na plikach i katalogach.\n",
    "\n"
   ]
  },
  {
   "cell_type": "code",
   "execution_count": 33,
   "metadata": {},
   "outputs": [
    {
     "name": "stdout",
     "output_type": "stream",
     "text": [
      "test_dir: ['test_copy.txt', 'test_moved.txt']\n",
      "test_dir_backup: ['test_copy.txt']\n"
     ]
    }
   ],
   "source": [
    "\n",
    "import shutil\n",
    "\n",
    "# Tworzenie katalogu\n",
    "os.makedirs('przyklady/test_dir', exist_ok=True)\n",
    "\n",
    "# Tworzenie pliku testowego w katalogu bieżącym\n",
    "with open('test.txt', 'w') as f:\n",
    "    f.write('Test content')\n",
    "\n",
    "# Kopiowanie pliku\n",
    "shutil.copy('test.txt', 'przyklady/test_dir/test_copy.txt')\n",
    "\n",
    "# Kopiowanie katalogu z zawartością\n",
    "shutil.copytree('przyklady/test_dir', 'przyklady/test_dir_backup', dirs_exist_ok=True)\n",
    "\n",
    "# Przenoszenie pliku\n",
    "shutil.move('test.txt', 'przyklady/test_dir/test_moved.txt')\n",
    "\n",
    "# wyświetlenie zawartości katalogu\n",
    "print('test_dir:', os.listdir('przyklady/test_dir'))\n",
    "print('test_dir_backup:', os.listdir('przyklady/test_dir_backup'))\n",
    "\n",
    "# wyświetlenie zawartości katalogu\n",
    "\n",
    "# Usuwanie katalogu z zawartością\n",
    "shutil.rmtree('przyklady/test_dir_backup')\n",
    "# Usuwanie katalogu z zawartością\n",
    "shutil.rmtree('przyklady/test_dir')"
   ]
  },
  {
   "cell_type": "markdown",
   "metadata": {},
   "source": [
    "## 4. Moduł glob <a id='glob'></a>\n",
    "\n",
    "Moduł `glob` służy do wyszukiwania plików według wzorców."
   ]
  },
  {
   "cell_type": "code",
   "execution_count": 44,
   "metadata": {},
   "outputs": [
    {
     "name": "stdout",
     "output_type": "stream",
     "text": [
      "Pliki .txt w bieżącym katalogu i wszystkich podkatalogach:\n",
      "requirements.txt\n",
      "wynik.txt\n",
      "text.txt\n",
      "dane/document.txt\n",
      "dane/wynik.txt\n",
      "Pliki .jpg i .png (sposób 1):\n",
      "dane/nowy.jpg\n",
      "dane/document.jpg\n",
      "dane/zlyjpg.jpg\n",
      "dane/document.png\n",
      "dane/nowy.png\n",
      "\n",
      "Pliki .jpg i .png (sposób 2):\n",
      "dane/nowy.jpg\n",
      "dane/document.jpg\n",
      "dane/zlyjpg.jpg\n",
      "dane/document.png\n",
      "dane/nowy.png\n",
      "\n",
      "Pliki zaczynające się na '0':\n",
      "08_system_plikow.ipynb\n",
      "05_praca_z_plikami_binarnymi.ipynb\n",
      "01_wprowadzenie.ipynb\n",
      "03_obsluga_linii_polecen.ipynb\n",
      "04_praca_z_plikami.ipynb\n",
      "06_wyrazenia_regularne.ipynb\n",
      "02_skladnia_podstawowe_instrukcje.ipynb\n",
      "07_socket.ipynb\n",
      "\n",
      "Pliki z jednym znakiem i rozszerzeniem .txt:\n",
      "\n",
      "Pliki zaczynające się na r lub s:\n",
      "requirements.txt\n",
      "\n",
      "Pliki .py w katalogach 'przyklady':\n",
      "przyklady/zadanie_2_konwersja_jednostek.py\n",
      "przyklady/tcpip_server.py\n",
      "przyklady/zadanie_1_geodezyjne.py\n",
      "przyklady/zadanie_3_statystyka_danych.py\n",
      "przyklady/tcpip_client.py\n",
      "przyklady/zadanie_3_anonimizacja.py\n",
      "przyklady/zadanie_1_wyszukiwanie.py\n",
      "przyklady/parent_path.py\n",
      "przyklady/zadanie_2_licznik_slow.py\n",
      "przyklady/temperatura_klient.py\n",
      "przyklady/belka_click.py\n",
      "przyklady/temperatura_serwer.py\n",
      "przyklady/belka_argparse.py\n",
      "przyklady/belka_gooey.py\n"
     ]
    },
    {
     "data": {
      "text/plain": [
       "'\\nNajważniejsze znaki specjalne w glob:\\n* - dowolny ciąg znaków\\n** - dowolna liczba poziomów katalogów (wymaga recursive=True)\\n? - jeden dowolny znak\\n[abc] - jeden znak z podanego zakresu\\n{wzorzec1,wzorzec2} - alternatywa wzorców\\n'"
      ]
     },
     "execution_count": 44,
     "metadata": {},
     "output_type": "execute_result"
    }
   ],
   "source": [
    "import glob\n",
    "\n",
    "# ** oznacza \"dowolny poziom katalogów\" - przeszukuje rekurencyjnie wszystkie podkatalogi\n",
    "# *.txt oznacza \"dowolna nazwa pliku z rozszerzeniem .txt\"\n",
    "# recursive=True pozwala na przeszukiwanie podkatalogów\n",
    "print(\"Pliki .txt w bieżącym katalogu i wszystkich podkatalogach:\")\n",
    "for file in glob.glob('**/*.txt', recursive=True):\n",
    "    print(file)\n",
    "\n",
    "# Dwa różne rodzaje plików do wyszukania:\n",
    "# Sposób 1: Użycie wielu wywołań glob\n",
    "print(\"Pliki .jpg i .png (sposób 1):\")\n",
    "for pattern in ['**/*.jpg', '**/*.png']:\n",
    "    for file in glob.glob(pattern, recursive=True):\n",
    "        print(file)\n",
    "\n",
    "print(\"\\nPliki .jpg i .png (sposób 2):\")\n",
    "files = [\n",
    "    f for ext in ['jpg', 'png']\n",
    "    for f in glob.glob(f'**/*.{ext}', recursive=True)\n",
    "]\n",
    "for file in files:\n",
    "    print(file)\n",
    "\n",
    "# Pojedyncza * oznacza \"dowolny ciąg znaków\" w nazwie pliku\n",
    "# test* znajdzie wszystkie pliki zaczynające się od \"test\"\n",
    "print(\"\\nPliki zaczynające się na '0':\")\n",
    "for file in glob.glob('0*'):\n",
    "    print(file)\n",
    "\n",
    "# Przykłady innych wzorców:\n",
    "# ?.txt - jeden dowolny znak i rozszerzenie .txt\n",
    "print(\"\\nPliki z jednym znakiem i rozszerzeniem .txt:\")\n",
    "for file in glob.glob('?.txt'):\n",
    "    print(file)\n",
    "\n",
    "# [abc]*.txt - pliki zaczynające się na r lub s\n",
    "print(\"\\nPliki zaczynające się na r lub s:\")\n",
    "for file in glob.glob('[rs]*.txt'):\n",
    "    print(file)\n",
    "\n",
    "# **/test/*.py - pliki .py w katalogach o nazwie \"dane\" na dowolnym poziomie\n",
    "print(\"\\nPliki .py w katalogach 'przyklady':\")\n",
    "for file in glob.glob('**/przyklady/*.py', recursive=True):\n",
    "    print(file)\n",
    "\n",
    "\"\"\"\n",
    "Najważniejsze znaki specjalne w glob:\n",
    "* - dowolny ciąg znaków\n",
    "** - dowolna liczba poziomów katalogów (wymaga recursive=True)\n",
    "? - jeden dowolny znak\n",
    "[abc] - jeden znak z podanego zakresu\n",
    "{wzorzec1,wzorzec2} - alternatywa wzorców\n",
    "\"\"\""
   ]
  },
  {
   "cell_type": "markdown",
   "metadata": {},
   "source": [
    "## Praktyczne przykłady\n",
    "\n",
    "### 1. Organizowanie plików według rozszerzeń"
   ]
  },
  {
   "cell_type": "code",
   "execution_count": 14,
   "metadata": {},
   "outputs": [],
   "source": [
    "from pathlib import Path\n",
    "\n",
    "def prepare_test_structure():\n",
    "    \"\"\"\n",
    "    Przygotowuje strukturę katalogów i plików do testowania organize_files.\n",
    "    Tworzy różne typy plików w katalogu przyklady/struktura\n",
    "    \"\"\"\n",
    "    # Ścieżka do katalogu testowego\n",
    "    base_dir = Path('przyklady/struktura')\n",
    "    \n",
    "    # Usuń katalog jeśli istnieje i utwórz na nowo\n",
    "    if base_dir.exists():\n",
    "        shutil.rmtree(base_dir)\n",
    "    base_dir.mkdir(parents=True)\n",
    "    \n",
    "    # Lista plików do utworzenia (różne rozszerzenia)\n",
    "    test_files = [\n",
    "        'dokument1.txt',\n",
    "        'dokument2.txt',\n",
    "        'zdjecie1.jpg',\n",
    "        'zdjecie2.jpg',\n",
    "        'prezentacja.ppt',\n",
    "        'arkusz.xlsx',\n",
    "        'program.py',\n",
    "        'skrypt.py',\n",
    "        'strona.html',\n",
    "        'style.css',\n",
    "        'dane.json',\n",
    "        'config.xml',\n",
    "        'bez_rozszerzenia',\n",
    "        'README.md'\n",
    "    ]\n",
    "    \n",
    "    # Tworzenie plików testowych\n",
    "    for file_name in test_files:\n",
    "        file_path = base_dir / file_name\n",
    "\n",
    "        if file_name in [\"dokument1.txt\", \"dokument2.txt\"]:\n",
    "            file_path.write_text(\"Duplicat\")\n",
    "        else:\n",
    "            file_path.write_text(f'Zawartość pliku {file_name}')\n",
    "        \n",
    "def zawartosc_katalogu(base_dir=Path('przyklady/struktura')):\n",
    "    print(f\"Utworzono strukturę testową w {base_dir}\")\n",
    "    print(\"\\nZawartość katalogu przed organizacją:\")\n",
    "    for file in base_dir.iterdir():\n",
    "        print(f\"- {file.name}\")\n",
    "\n",
    "def clean_test_structure(silent=False):\n",
    "    # zawartość katalogu przed usunięciem\n",
    "    import subprocess\n",
    "    \n",
    "    try:\n",
    "        if not silent:\n",
    "            print(\"\\nZawartość katalogu przed usunięciem:\")\n",
    "            subprocess.run(['tree', 'przyklady/struktura'])\n",
    "        shutil.rmtree('przyklady/struktura')\n",
    "    except Exception as e:\n",
    "        print(f\"Błąd podczas usuwania katalogu: {e}\")\n"
   ]
  },
  {
   "cell_type": "code",
   "execution_count": 83,
   "metadata": {},
   "outputs": [],
   "source": [
    "\n",
    "\n",
    "def organize_files(directory):\n",
    "    \"\"\"Organizuje pliki w katalogu według ich rozszerzeń.\"\"\"\n",
    "    directory = Path(directory)\n",
    "    \n",
    "    # Iteracja po wszystkich plikach\n",
    "    for file_path in directory.glob('*'):\n",
    "        if file_path.is_file():\n",
    "            # Utworzenie katalogu dla rozszerzenia\n",
    "            ext = file_path.suffix.lower()[1:] or 'no_extension'\n",
    "            ext_dir = directory / ext\n",
    "            ext_dir.mkdir(exist_ok=True)\n",
    "            \n",
    "            # Przeniesienie pliku\n",
    "            shutil.move(str(file_path), str(ext_dir / file_path.name))\n",
    "\n"
   ]
  },
  {
   "cell_type": "code",
   "execution_count": 84,
   "metadata": {},
   "outputs": [
    {
     "name": "stdout",
     "output_type": "stream",
     "text": [
      "Utworzono strukturę testową w przyklady/struktura\n",
      "\n",
      "Zawartość katalogu przed organizacją:\n",
      "- skrypt.py\n",
      "- prezentacja.ppt\n",
      "- dokument1.txt\n",
      "- dokument2.txt\n",
      "- dane.json\n",
      "- arkusz.xlsx\n",
      "- strona.html\n",
      "- config.xml\n",
      "- README.md\n",
      "- style.css\n",
      "- program.py\n",
      "- bez_rozszerzenia\n",
      "- zdjecie1.jpg\n",
      "- zdjecie2.jpg\n",
      "\n",
      "Zawartość katalogu przed usunięciem:\n",
      "\u001b[01;34mprzyklady/struktura\u001b[0m\n",
      "├── \u001b[01;34mcss\u001b[0m\n",
      "│   └── \u001b[00mstyle.css\u001b[0m\n",
      "├── \u001b[01;34mhtml\u001b[0m\n",
      "│   └── \u001b[00mstrona.html\u001b[0m\n",
      "├── \u001b[01;34mjpg\u001b[0m\n",
      "│   ├── \u001b[01;35mzdjecie1.jpg\u001b[0m\n",
      "│   └── \u001b[01;35mzdjecie2.jpg\u001b[0m\n",
      "├── \u001b[01;34mjson\u001b[0m\n",
      "│   └── \u001b[00mdane.json\u001b[0m\n",
      "├── \u001b[01;34mmd\u001b[0m\n",
      "│   └── \u001b[00mREADME.md\u001b[0m\n",
      "├── \u001b[01;34mno_extension\u001b[0m\n",
      "│   └── \u001b[00mbez_rozszerzenia\u001b[0m\n",
      "├── \u001b[01;34mppt\u001b[0m\n",
      "│   └── \u001b[00mprezentacja.ppt\u001b[0m\n",
      "├── \u001b[01;34mpy\u001b[0m\n",
      "│   ├── \u001b[00mprogram.py\u001b[0m\n",
      "│   └── \u001b[00mskrypt.py\u001b[0m\n",
      "├── \u001b[01;34mtxt\u001b[0m\n",
      "│   ├── \u001b[00mdokument1.txt\u001b[0m\n",
      "│   └── \u001b[00mdokument2.txt\u001b[0m\n",
      "├── \u001b[01;34mxlsx\u001b[0m\n",
      "│   └── \u001b[00markusz.xlsx\u001b[0m\n",
      "└── \u001b[01;34mxml\u001b[0m\n",
      "    └── \u001b[00mconfig.xml\u001b[0m\n",
      "\n",
      "12 directories, 14 files\n"
     ]
    }
   ],
   "source": [
    "prepare_test_structure()\n",
    "zawartosc_katalogu()\n",
    "organize_files('przyklady/struktura')\n",
    "clean_test_structure()"
   ]
  },
  {
   "cell_type": "markdown",
   "metadata": {},
   "source": [
    "### 2. Wyszukiwanie duplikatów plików"
   ]
  },
  {
   "cell_type": "code",
   "execution_count": 85,
   "metadata": {},
   "outputs": [],
   "source": [
    "import hashlib\n",
    "\n",
    "def find_duplicates(directory):\n",
    "    \"\"\"Znajduje duplikaty plików w katalogu.\"\"\"\n",
    "    hash_dict = {}\n",
    "    directory = Path(directory)\n",
    "    \n",
    "    for file_path in directory.rglob('*'):\n",
    "        if file_path.is_file():\n",
    "            # Obliczenie hash'a pliku\n",
    "            file_hash = hashlib.md5(file_path.read_bytes()).hexdigest()\n",
    "            \n",
    "            # Dodanie do słownika\n",
    "            if file_hash in hash_dict:\n",
    "                hash_dict[file_hash].append(file_path)\n",
    "            else:\n",
    "                hash_dict[file_hash] = [file_path]\n",
    "    \n",
    "    # Wyświetlenie duplikatów\n",
    "    for hash_value, files in hash_dict.items():\n",
    "        if len(files) > 1:\n",
    "            print(f\"\\nDuplikaty:\")\n",
    "            for file in files:\n",
    "                print(f\"- {file}\")\n",
    "\n"
   ]
  },
  {
   "cell_type": "code",
   "execution_count": 86,
   "metadata": {},
   "outputs": [
    {
     "name": "stdout",
     "output_type": "stream",
     "text": [
      "\n",
      "Duplikaty:\n",
      "- przyklady/struktura/dokument1.txt\n",
      "- przyklady/struktura/dokument2.txt\n"
     ]
    }
   ],
   "source": [
    "# Przykład użycia\n",
    "prepare_test_structure()\n",
    "find_duplicates('przyklady/struktura')\n",
    "clean_test_structure(silent=True)"
   ]
  },
  {
   "cell_type": "markdown",
   "metadata": {},
   "source": [
    "### 3. Monitor zmian w katalogu"
   ]
  },
  {
   "cell_type": "code",
   "execution_count": 3,
   "metadata": {},
   "outputs": [
    {
     "name": "stdout",
     "output_type": "stream",
     "text": [
      "Writing przyklady/monitor.py\n"
     ]
    }
   ],
   "source": [
    "%%writefile przyklady/monitor.py\n",
    "import sys\n",
    "\n",
    "from pathlib import Path\n",
    "import time\n",
    "\n",
    "if len(sys.argv) < 2:\n",
    "    directory = Path(\".\")\n",
    "else:\n",
    "    directory = Path(sys.argv[1])\n",
    "\n",
    "\n",
    "def monitor_directory(directory, interval=0.5):\n",
    "    \"\"\"Monitoruje zmiany w katalogu.\"\"\"\n",
    "    \n",
    "    previous_state = set(directory.glob('*'))\n",
    "    print(f\"Monitoring {directory.absolute()}\")\n",
    "    try:\n",
    "        while True:\n",
    "            \n",
    "            time.sleep(interval)\n",
    "            current_state = set(directory.glob('*'))\n",
    "            \n",
    "            # Sprawdzenie zmian\n",
    "            new_files = current_state - previous_state\n",
    "            deleted_files = previous_state - current_state\n",
    "            \n",
    "            if new_files:\n",
    "                print(\"\\nNowe pliki lub foldery:\")\n",
    "                for file in new_files:\n",
    "                    print(f\"+ {file.name}\")\n",
    "            \n",
    "            if deleted_files:\n",
    "                print(\"\\nUsunięte pliki pliki lub foldery:\")\n",
    "                for file in deleted_files:\n",
    "                    print(f\"- {file.name}\")\n",
    "            \n",
    "            previous_state = current_state\n",
    "            \n",
    "    except KeyboardInterrupt:\n",
    "        print(\"\\nZakończono monitorowanie\")\n",
    "\n",
    "# Przykład użycia (uruchom w osobnym wątku)\n",
    "monitor_directory(directory)"
   ]
  },
  {
   "cell_type": "code",
   "execution_count": 1,
   "metadata": {},
   "outputs": [
    {
     "data": {
      "text/plain": [
       "'/Users/rkorzen/PycharmProjects/szkolenia/alx/20241212_pi/materialy'"
      ]
     },
     "execution_count": 1,
     "metadata": {},
     "output_type": "execute_result"
    }
   ],
   "source": [
    "import os\n",
    "os.getcwd()"
   ]
  },
  {
   "cell_type": "code",
   "execution_count": 10,
   "metadata": {},
   "outputs": [],
   "source": [
    "prepare_test_structure()"
   ]
  },
  {
   "cell_type": "code",
   "execution_count": 15,
   "metadata": {},
   "outputs": [
    {
     "name": "stdout",
     "output_type": "stream",
     "text": [
      "\n",
      "Zawartość katalogu przed usunięciem:\n",
      "przyklady/struktura  [error opening dir]\n",
      "\n",
      "0 directories, 0 files\n",
      "Błąd podczas usuwania katalogu: [Errno 2] No such file or directory: 'przyklady/struktura'\n"
     ]
    }
   ],
   "source": [
    "\n",
    "clean_test_structure()\n"
   ]
  },
  {
   "cell_type": "code",
   "execution_count": null,
   "metadata": {},
   "outputs": [],
   "source": []
  }
 ],
 "metadata": {
  "kernelspec": {
   "display_name": "Python 3",
   "language": "python",
   "name": "python3"
  },
  "language_info": {
   "codemirror_mode": {
    "name": "ipython",
    "version": 3
   },
   "file_extension": ".py",
   "mimetype": "text/x-python",
   "name": "python",
   "nbconvert_exporter": "python",
   "pygments_lexer": "ipython3",
   "version": "3.13.0"
  }
 },
 "nbformat": 4,
 "nbformat_minor": 2
}

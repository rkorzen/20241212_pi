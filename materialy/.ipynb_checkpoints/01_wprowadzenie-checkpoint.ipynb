{
 "cells": [
  {
   "cell_type": "markdown",
   "metadata": {},
   "source": [
    "## **Wprowadzenie do Pythona i Konfiguracja Środowiska**  \n",
    "\n",
    "---\n",
    "\n",
    "### **Instalacja Pythona**  \n",
    "1. Pobierz Pythona ze strony [python.org](https://www.python.org/).  \n",
    "2. Zainstaluj Pythona, zaznaczając opcję „Add Python to PATH” podczas instalacji.  \n",
    "\n",
    "### **Konfiguracja IDE**  \n",
    "- **PyCharm**:  \n",
    "  1. Pobierz z [jetbrains.com](https://www.jetbrains.com/pycharm/).  \n",
    "  2. Zainstaluj i skonfiguruj nowy projekt: `File -> New Project`.  \n",
    "  3. Ustaw interpreter Pythona w `File -> Settings -> Project -> Python Interpreter`.  \n",
    "\n",
    "- **VSCode**:  \n",
    "  1. Pobierz z [code.visualstudio.com](https://code.visualstudio.com/).  \n",
    "  2. Zainstaluj rozszerzenie „Python”.  \n",
    "  3. Wybierz interpreter Pythona za pomocą `Ctrl + Shift + P -> Python: Select Interpreter`.  \n"
   ]
  },
  {
   "cell_type": "markdown",
   "metadata": {},
   "source": [
    "\n",
    "---\n",
    "\n",
    "#### **Różne Sposoby Uruchamiania Programów w Pythonie (Windows/Linux)**  \n",
    "\n",
    "- **Z linii poleceń (CLI):**  \n",
    "  ```\n",
    "  python script.py\n",
    "  ```\n",
    "\n",
    "- **Praca interaktywna:**  \n",
    "  ```\n",
    "  python\n",
    "  >>> print(\"Hello, world!\")\n",
    "  ```\n",
    "\n",
    "- **Uruchamianie skryptów:**  \n",
    "  - Windows: Kliknij dwukrotnie plik `.py`.  \n",
    "  - Linux: Nadaj uprawnienia wykonania:  \n",
    "    ```\n",
    "    chmod +x script.py\n",
    "    ./script.py\n",
    "    ```\n"
   ]
  },
  {
   "cell_type": "markdown",
   "metadata": {},
   "source": [
    "\n",
    "---\n",
    "\n",
    "#### **Przykłady**  \n",
    "\n",
    "1. Skrypt „Hello World” (plik `hello.py`):  \n",
    "   ```python\n",
    "   print(\"Hello, World!\")\n",
    "   ```\n",
    "\n",
    "2. Prosty kalkulator:  \n",
    "   ```python\n",
    "   def add(a, b):\n",
    "       return a + b\n",
    "\n",
    "   if __name__ == \"__main__\":\n",
    "       x = int(input(\"Podaj pierwszą liczbę: \"))\n",
    "       y = int(input(\"Podaj drugą liczbę: \"))\n",
    "       print(f\"Suma: {add(x, y)}\")\n",
    "   ```\n"
   ]
  },
  {
   "cell_type": "markdown",
   "metadata": {},
   "source": [
    "\n",
    "---\n",
    "\n",
    "#### **Zadanie**  \n",
    "1. **Zadanie 1: Pierwszy Skrypt**  \n",
    "   - Napisz skrypt `greeter.py`, który prosi użytkownika o imię i wita go komunikatem:  \n",
    "     ```\n",
    "     Podaj swoje imię: Rafał\n",
    "     Witaj, Rafał!\n",
    "     ```  "
   ]
  },
  {
   "cell_type": "markdown",
   "metadata": {},
   "source": []
  }
 ],
 "metadata": {
  "kernelspec": {
   "display_name": "Python 3 (ipykernel)",
   "language": "python",
   "name": "python3"
  },
  "language_info": {
   "codemirror_mode": {
    "name": "ipython",
    "version": 3
   },
   "file_extension": ".py",
   "mimetype": "text/x-python",
   "name": "python",
   "nbconvert_exporter": "python",
   "pygments_lexer": "ipython3",
   "version": "3.10.7"
  },
  "toc": {
   "base_numbering": 1,
   "nav_menu": {},
   "number_sections": true,
   "sideBar": true,
   "skip_h1_title": false,
   "title_cell": "Table of Contents",
   "title_sidebar": "Contents",
   "toc_cell": false,
   "toc_position": {},
   "toc_section_display": true,
   "toc_window_display": false
  }
 },
 "nbformat": 4,
 "nbformat_minor": 2
}

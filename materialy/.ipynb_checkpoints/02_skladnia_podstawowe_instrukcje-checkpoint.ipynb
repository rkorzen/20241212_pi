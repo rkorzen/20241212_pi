{
 "cells": [
  {
   "cell_type": "markdown",
   "metadata": {},
   "source": [
    "## Składnia i Podstawowe Instrukcje  \n",
    "\n",
    "---\n",
    "\n",
    "### **Podstawowe Typy Danych**  \n"
   ]
  },
  {
   "cell_type": "markdown",
   "metadata": {},
   "source": [
    "\n",
    "#### **1. Typy Liczbowe:**  \n",
    "- **int** – liczby całkowite (`42`, `-7`)  \n",
    "- **float** – liczby zmiennoprzecinkowe (`3.14`, `-0.01`)  \n",
    "- **complex** – liczby zespolone (`3+4j`)  \n"
   ]
  },
  {
   "cell_type": "markdown",
   "metadata": {},
   "source": [
    "\n",
    "#### **2. Łańcuchy Znaków (str):**  \n",
    "- Definicja: `text = \"Hello, World!\"`  \n",
    "- Łączenie: `name = \"John\" + \" \" + \"Doe\"`  \n",
    "- Indeksowanie: `text[0]` -> `H`, `text[-1]` -> `!`  \n",
    "- Slicing: `text[0:5]` -> `Hello`  \n"
   ]
  },
  {
   "cell_type": "markdown",
   "metadata": {},
   "source": [
    "\n",
    "#### **3. Listy:**  \n",
    "- Tworzenie: `numbers = [1, 2, 3, 4]`  \n",
    "- Indeksowanie: `numbers[0] -> 1`  \n",
    "- Dodawanie elementów: `numbers.append(5)`  \n"
   ]
  },
  {
   "cell_type": "markdown",
   "metadata": {},
   "source": [
    "\n",
    "#### **4. Krotki:**  \n",
    "- Tworzenie: `coords = (10, 20)`  \n",
    "- Niemodyfikowalne: `coords[0] = 5` (Błąd)  \n"
   ]
  },
  {
   "cell_type": "markdown",
   "metadata": {},
   "source": [
    "\n",
    "#### **5. Zbiory:**  \n",
    "- Tworzenie: `unique_numbers = {1, 2, 3, 3}` -> `{1, 2, 3}`  \n",
    "- Operacje: `unique_numbers.add(4)`  \n"
   ]
  },
  {
   "cell_type": "markdown",
   "metadata": {},
   "source": [
    "\n",
    "#### **6. Słowniki:**  \n",
    "- Tworzenie: `person = {\"name\": \"John\", \"age\": 30}`  \n",
    "- Dostęp: `person[\"name\"] -> John`  \n",
    "- Dodawanie: `person[\"city\"] = \"New York\"`  \n"
   ]
  },
  {
   "cell_type": "markdown",
   "metadata": {},
   "source": [
    "\n",
    "---\n",
    "\n",
    "### **Instrukcje Sterujące**  \n",
    "\n",
    "#### **1. Instrukcja warunkowa (if-elif-else):**  \n",
    "```python\n",
    "age = int(input(\"Podaj wiek: \"))\n",
    "if age < 18:\n",
    "    print(\"Niepełnoletni\")\n",
    "elif age == 18:\n",
    "    print(\"Pełnoletni!\")\n",
    "else:\n",
    "    print(\"Dorosły\")\n",
    "```\n"
   ]
  },
  {
   "cell_type": "markdown",
   "metadata": {},
   "source": [
    "\n",
    "#### **2. Pętla for:**  \n",
    "```python\n",
    "for i in range(5):\n",
    "    print(i)\n",
    "```\n"
   ]
  },
  {
   "cell_type": "markdown",
   "metadata": {},
   "source": [
    "\n",
    "#### **3. Pętla while:**  \n",
    "```python\n",
    "counter = 0\n",
    "while counter < 5:\n",
    "    print(counter)\n",
    "    counter += 1\n",
    "```\n"
   ]
  },
  {
   "cell_type": "markdown",
   "metadata": {},
   "source": [
    "\n",
    "#### **4. Przerywanie pętli:**  \n",
    "- **break:** Przerywa pętlę.  \n",
    "- **continue:** Przechodzi do następnej iteracji.  \n"
   ]
  },
  {
   "cell_type": "markdown",
   "metadata": {},
   "source": [
    "\n",
    "---\n",
    "\n",
    "### **Funkcje, Moduły i Pakiety**  \n",
    "\n",
    "#### **1. Definiowanie Funkcji:**  \n",
    "```python\n",
    "def greet(name):\n",
    "    print(f\"Witaj, {name}!\")\n",
    "```\n"
   ]
  },
  {
   "cell_type": "markdown",
   "metadata": {},
   "source": [
    "\n",
    "#### **2. Wywołanie Funkcji:**  \n",
    "```python\n",
    "greet(\"Rafał\")\n",
    "```\n"
   ]
  },
  {
   "cell_type": "markdown",
   "metadata": {},
   "source": [
    "\n",
    "#### **3. Argumenty Domyślne i Kluczowe:**  \n",
    "```python\n",
    "def introduce(name, age=30):\n",
    "    print(f\"Cześć, jestem {name} i mam {age} lat.\")\n",
    "```\n"
   ]
  },
  {
   "cell_type": "markdown",
   "metadata": {},
   "source": [
    "\n",
    "#### **4. Importowanie Modułów:**  \n",
    "- Import całego modułu:  \n",
    "  ```python\n",
    "  import math\n",
    "  print(math.sqrt(16))\n",
    "  ```\n",
    "\n",
    "- Import konkretnej funkcji:  \n",
    "  ```python\n",
    "  from math import sqrt\n",
    "  print(sqrt(16))\n",
    "  ```\n"
   ]
  },
  {
   "cell_type": "markdown",
   "metadata": {},
   "source": [
    "\n",
    "#### **5. Tworzenie Pakietu:**  \n",
    "- Struktura katalogów:  \n",
    "  ```\n",
    "  mypackage/\n",
    "      __init__.py\n",
    "      module.py\n",
    "  ```\n",
    "- Użycie pakietu:  \n",
    "  ```python\n",
    "  from mypackage import module\n",
    "  ```\n"
   ]
  },
  {
   "cell_type": "markdown",
   "metadata": {},
   "source": [
    "\n",
    "---\n",
    "\n",
    "### **Zadania**  \n",
    "\n",
    "1. **Zadanie 1: Kalkulator Liczb**  \n",
    "   - Napisz funkcję `add(a, b)`, która zwraca sumę dwóch liczb.  \n",
    "   - Poproś użytkownika o dwie liczby i wypisz wynik.  \n",
    "\n",
    "2. **Zadanie 2: Operacje na Listach**  \n",
    "   - Utwórz listę imion.  \n",
    "   - Wypisz wszystkie imiona przy użyciu `for`.  \n",
    "   - Dodaj nowe imię do listy i ponownie wypisz zawartość.  \n",
    "\n",
    "3. **Zadanie 3: Sprawdzenie Liczby Pierwszej**  \n",
    "   - Napisz funkcję `is_prime(n)` sprawdzającą, czy liczba jest pierwsza.  \n",
    "   - Użyj pętli `for` i instrukcji `if`.  \n",
    "\n",
    "4. **Zadanie 4: Zarządzanie Słownikiem**  \n",
    "   - Utwórz słownik przechowujący imię i wiek osoby.  \n",
    "   - Poproś użytkownika o podanie nowego wieku i zaktualizuj słownik.  \n",
    "   - Wypisz zmienione dane."
   ]
  }
 ],
 "metadata": {
  "kernelspec": {
   "display_name": "Python 3 (ipykernel)",
   "language": "python",
   "name": "python3"
  },
  "language_info": {
   "codemirror_mode": {
    "name": "ipython",
    "version": 3
   },
   "file_extension": ".py",
   "mimetype": "text/x-python",
   "name": "python",
   "nbconvert_exporter": "python",
   "pygments_lexer": "ipython3",
   "version": "3.10.7"
  },
  "toc": {
   "base_numbering": 1,
   "nav_menu": {},
   "number_sections": true,
   "sideBar": true,
   "skip_h1_title": false,
   "title_cell": "Table of Contents",
   "title_sidebar": "Contents",
   "toc_cell": false,
   "toc_position": {},
   "toc_section_display": true,
   "toc_window_display": false
  }
 },
 "nbformat": 4,
 "nbformat_minor": 2
}

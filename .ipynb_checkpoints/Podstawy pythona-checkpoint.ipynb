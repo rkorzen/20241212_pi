{
 "cells": [
  {
   "cell_type": "markdown",
   "id": "150cc84f",
   "metadata": {},
   "source": [
    "# Python podstawy\n",
    "\n",
    "## Jupyter\n",
    "\n",
    "\n",
    "### instalacja\n",
    "\n",
    "    pip install jupyter\n",
    "\n",
    "\n",
    "### uruchomienie\n",
    "\n",
    "\n",
    "    jupyter notebook\n",
    "\n",
    "### przydatne skróty\n",
    "\n",
    "\n",
    "`Esc` -  tryb polecen\n",
    "`Enter` - tryb edycji \n",
    "`shfit + Enter` - wykonuje bieżąca komórkę i przechodzi dalej\n",
    "\n",
    "```python\n",
    "# fragmen skryputu\n",
    "\n",
    "def foo():\n",
    "    print(10)\n",
    "\n",
    "```\n",
    "\n",
    "* A\n",
    "* B\n",
    "\n",
    "\n",
    "| A | B |\n",
    "|---|---|\n",
    "| 1 |2 |\n",
    "\n",
    "\n",
    "$x=1$"
   ]
  },
  {
   "cell_type": "markdown",
   "id": "b487915f",
   "metadata": {},
   "source": [
    "# Python\n",
    "\n",
    "## Podstawowe typy wbudowane w pythona\n",
    "\n",
    "### typy proste\n",
    "\n",
    "#### liczby\n",
    "\n",
    "int"
   ]
  },
  {
   "cell_type": "code",
   "execution_count": 6,
   "id": "8170f93d",
   "metadata": {},
   "outputs": [
    {
     "data": {
      "text/plain": [
       "1000000"
      ]
     },
     "execution_count": 6,
     "metadata": {},
     "output_type": "execute_result"
    }
   ],
   "source": [
    "1, 2\n",
    "\n",
    "1000000\n",
    "\n",
    "1_000_000"
   ]
  },
  {
   "cell_type": "code",
   "execution_count": 8,
   "id": "0febfeee",
   "metadata": {},
   "outputs": [
    {
     "data": {
      "text/plain": [
       "15"
      ]
     },
     "execution_count": 8,
     "metadata": {},
     "output_type": "execute_result"
    }
   ],
   "source": [
    "0b1111  # system dwojkowy"
   ]
  },
  {
   "cell_type": "code",
   "execution_count": 9,
   "id": "33d5f070",
   "metadata": {},
   "outputs": [
    {
     "data": {
      "text/plain": [
       "63"
      ]
     },
     "execution_count": 9,
     "metadata": {},
     "output_type": "execute_result"
    }
   ],
   "source": [
    "0o77"
   ]
  },
  {
   "cell_type": "code",
   "execution_count": 10,
   "id": "3a69f0dd",
   "metadata": {},
   "outputs": [
    {
     "data": {
      "text/plain": [
       "31"
      ]
     },
     "execution_count": 10,
     "metadata": {},
     "output_type": "execute_result"
    }
   ],
   "source": [
    "0x1f"
   ]
  },
  {
   "cell_type": "code",
   "execution_count": null,
   "id": "17624933",
   "metadata": {},
   "outputs": [],
   "source": []
  },
  {
   "cell_type": "markdown",
   "id": "4decdc47",
   "metadata": {},
   "source": [
    "float\n",
    "\n",
    "\n",
    "https://docs.python.org/3/tutorial/floatingpoint.html\n",
    "\n",
    "https://pywaw.org/105/\n",
    "\n"
   ]
  },
  {
   "cell_type": "code",
   "execution_count": 11,
   "id": "c1624147",
   "metadata": {},
   "outputs": [
    {
     "data": {
      "text/plain": [
       "2.1"
      ]
     },
     "execution_count": 11,
     "metadata": {},
     "output_type": "execute_result"
    }
   ],
   "source": [
    "2.1"
   ]
  },
  {
   "cell_type": "code",
   "execution_count": 12,
   "id": "ea0b6e6c",
   "metadata": {},
   "outputs": [
    {
     "data": {
      "text/plain": [
       "0.8333333333333334"
      ]
     },
     "execution_count": 12,
     "metadata": {},
     "output_type": "execute_result"
    }
   ],
   "source": [
    "5 / 6"
   ]
  },
  {
   "cell_type": "code",
   "execution_count": 13,
   "id": "5fa1a7ce",
   "metadata": {},
   "outputs": [
    {
     "data": {
      "text/plain": [
       "False"
      ]
     },
     "execution_count": 13,
     "metadata": {},
     "output_type": "execute_result"
    }
   ],
   "source": [
    "0.1 + 0.1 + 0.1 == 0.3"
   ]
  },
  {
   "cell_type": "code",
   "execution_count": 14,
   "id": "580b0ab0",
   "metadata": {},
   "outputs": [
    {
     "data": {
      "text/plain": [
       "(inf, -inf, nan)"
      ]
     },
     "execution_count": 14,
     "metadata": {},
     "output_type": "execute_result"
    }
   ],
   "source": [
    "float(\"Inf\"), float(\"-Inf\"), float(\"nan\")"
   ]
  },
  {
   "cell_type": "code",
   "execution_count": 15,
   "id": "eac798d3",
   "metadata": {},
   "outputs": [
    {
     "data": {
      "text/plain": [
       "1.79e+308"
      ]
     },
     "execution_count": 15,
     "metadata": {},
     "output_type": "execute_result"
    }
   ],
   "source": [
    "1.79e308"
   ]
  },
  {
   "cell_type": "code",
   "execution_count": null,
   "id": "6774b667",
   "metadata": {},
   "outputs": [],
   "source": []
  },
  {
   "cell_type": "code",
   "execution_count": 16,
   "id": "f4786a1e",
   "metadata": {},
   "outputs": [
    {
     "data": {
      "text/plain": [
       "inf"
      ]
     },
     "execution_count": 16,
     "metadata": {},
     "output_type": "execute_result"
    }
   ],
   "source": [
    "1.8e308"
   ]
  },
  {
   "cell_type": "code",
   "execution_count": 17,
   "id": "c11af8b5",
   "metadata": {},
   "outputs": [
    {
     "data": {
      "text/plain": [
       "4.5e+57"
      ]
     },
     "execution_count": 17,
     "metadata": {},
     "output_type": "execute_result"
    }
   ],
   "source": [
    "45e56"
   ]
  },
  {
   "cell_type": "code",
   "execution_count": 18,
   "id": "ab6b3863",
   "metadata": {},
   "outputs": [
    {
     "data": {
      "text/plain": [
       "2000000.0"
      ]
     },
     "execution_count": 18,
     "metadata": {},
     "output_type": "execute_result"
    }
   ],
   "source": [
    "2.e6"
   ]
  },
  {
   "cell_type": "markdown",
   "id": "cb146ea2",
   "metadata": {},
   "source": []
  },
  {
   "cell_type": "markdown",
   "id": "afc76289",
   "metadata": {},
   "source": [
    "complex - liczby zespolone"
   ]
  },
  {
   "cell_type": "code",
   "execution_count": 19,
   "id": "70fd5283",
   "metadata": {},
   "outputs": [
    {
     "data": {
      "text/plain": [
       "(1+2j)"
      ]
     },
     "execution_count": 19,
     "metadata": {},
     "output_type": "execute_result"
    }
   ],
   "source": [
    "1 +2j"
   ]
  },
  {
   "cell_type": "code",
   "execution_count": 20,
   "id": "2cd4548c",
   "metadata": {},
   "outputs": [
    {
     "data": {
      "text/plain": [
       "(24+6j)"
      ]
     },
     "execution_count": 20,
     "metadata": {},
     "output_type": "execute_result"
    }
   ],
   "source": [
    "(1+2j) + (23+4j)"
   ]
  },
  {
   "cell_type": "markdown",
   "id": "b6e480f9",
   "metadata": {},
   "source": [
    "#### operatory arytmeyczne\n",
    "\n",
    "```\n",
    "+ - *\n",
    "\n",
    "/  - dzielenie (true div)\n",
    "\n",
    "// - dzielenie calkowite\n",
    "\n",
    "% - dzielenie modulo\n",
    "\n",
    "** - potegowanie\n",
    "```\n"
   ]
  },
  {
   "cell_type": "markdown",
   "id": "f8e1f6c9",
   "metadata": {},
   "source": [
    "#### operatory porownania\n",
    "\n",
    "```\n",
    "==  - rowna sie\n",
    "\n",
    ">\n",
    "<\n",
    "\n",
    ">=\n",
    "\n",
    "<=\n",
    "\n",
    "\n",
    "```\n"
   ]
  },
  {
   "cell_type": "markdown",
   "id": "68aa6f12",
   "metadata": {},
   "source": [
    "#### operatory przypisania\n",
    "\n",
    "```\n",
    "= \n",
    "\n",
    "+=\n",
    "-=\n",
    "/=\n",
    "```\n"
   ]
  },
  {
   "cell_type": "code",
   "execution_count": 34,
   "id": "b587227a",
   "metadata": {},
   "outputs": [
    {
     "data": {
      "text/plain": [
       "3"
      ]
     },
     "execution_count": 34,
     "metadata": {},
     "output_type": "execute_result"
    }
   ],
   "source": [
    "x = 1\n",
    "\n",
    "x += 2  # x = x + 2 \n",
    "x"
   ]
  },
  {
   "cell_type": "code",
   "execution_count": null,
   "id": "4582008c",
   "metadata": {},
   "outputs": [],
   "source": []
  },
  {
   "cell_type": "code",
   "execution_count": 26,
   "id": "d4aecf85",
   "metadata": {},
   "outputs": [
    {
     "data": {
      "text/plain": [
       "0.5"
      ]
     },
     "execution_count": 26,
     "metadata": {},
     "output_type": "execute_result"
    }
   ],
   "source": [
    "1 / 2"
   ]
  },
  {
   "cell_type": "code",
   "execution_count": 27,
   "id": "82b65f02",
   "metadata": {},
   "outputs": [
    {
     "data": {
      "text/plain": [
       "0"
      ]
     },
     "execution_count": 27,
     "metadata": {},
     "output_type": "execute_result"
    }
   ],
   "source": [
    "1 // 2"
   ]
  },
  {
   "cell_type": "code",
   "execution_count": 28,
   "id": "768cfab4",
   "metadata": {},
   "outputs": [
    {
     "data": {
      "text/plain": [
       "1"
      ]
     },
     "execution_count": 28,
     "metadata": {},
     "output_type": "execute_result"
    }
   ],
   "source": [
    "1 % 2"
   ]
  },
  {
   "cell_type": "code",
   "execution_count": 29,
   "id": "b71de6ae",
   "metadata": {},
   "outputs": [
    {
     "data": {
      "text/plain": [
       "1"
      ]
     },
     "execution_count": 29,
     "metadata": {},
     "output_type": "execute_result"
    }
   ],
   "source": [
    "5%2"
   ]
  },
  {
   "cell_type": "code",
   "execution_count": 30,
   "id": "d35f0307",
   "metadata": {},
   "outputs": [
    {
     "data": {
      "text/plain": [
       "2"
      ]
     },
     "execution_count": 30,
     "metadata": {},
     "output_type": "execute_result"
    }
   ],
   "source": [
    "5 // 2"
   ]
  },
  {
   "cell_type": "markdown",
   "id": "6502a89b",
   "metadata": {},
   "source": [
    "#### typ logiczny\n",
    "\n",
    "bool\n",
    "\n",
    "##### operatory logiczne \n",
    "\n",
    "    or and not"
   ]
  },
  {
   "cell_type": "code",
   "execution_count": 35,
   "id": "ea51e13f",
   "metadata": {},
   "outputs": [
    {
     "data": {
      "text/plain": [
       "True"
      ]
     },
     "execution_count": 35,
     "metadata": {},
     "output_type": "execute_result"
    }
   ],
   "source": [
    "True or False"
   ]
  },
  {
   "cell_type": "code",
   "execution_count": 36,
   "id": "dd35af33",
   "metadata": {},
   "outputs": [
    {
     "data": {
      "text/plain": [
       "False"
      ]
     },
     "execution_count": 36,
     "metadata": {},
     "output_type": "execute_result"
    }
   ],
   "source": [
    "False and False"
   ]
  },
  {
   "cell_type": "code",
   "execution_count": 37,
   "id": "d817b6f3",
   "metadata": {},
   "outputs": [
    {
     "data": {
      "text/plain": [
       "False"
      ]
     },
     "execution_count": 37,
     "metadata": {},
     "output_type": "execute_result"
    }
   ],
   "source": [
    "False and True"
   ]
  },
  {
   "cell_type": "code",
   "execution_count": 38,
   "id": "7039a7e8",
   "metadata": {},
   "outputs": [
    {
     "data": {
      "text/plain": [
       "False"
      ]
     },
     "execution_count": 38,
     "metadata": {},
     "output_type": "execute_result"
    }
   ],
   "source": [
    "not True"
   ]
  },
  {
   "cell_type": "code",
   "execution_count": 21,
   "id": "af3505b9",
   "metadata": {},
   "outputs": [
    {
     "data": {
      "text/plain": [
       "(False, True)"
      ]
     },
     "execution_count": 21,
     "metadata": {},
     "output_type": "execute_result"
    }
   ],
   "source": [
    "False, True"
   ]
  },
  {
   "cell_type": "code",
   "execution_count": 22,
   "id": "06581222",
   "metadata": {},
   "outputs": [
    {
     "data": {
      "text/plain": [
       "2"
      ]
     },
     "execution_count": 22,
     "metadata": {},
     "output_type": "execute_result"
    }
   ],
   "source": [
    "1 + True"
   ]
  },
  {
   "cell_type": "markdown",
   "id": "451c6a7d",
   "metadata": {},
   "source": [
    "#### operator tożsamości - is\n",
    "\n",
    "    is"
   ]
  },
  {
   "cell_type": "code",
   "execution_count": 23,
   "id": "eb6de4bf",
   "metadata": {},
   "outputs": [
    {
     "data": {
      "text/plain": [
       "True"
      ]
     },
     "execution_count": 23,
     "metadata": {},
     "output_type": "execute_result"
    }
   ],
   "source": [
    "True == 1"
   ]
  },
  {
   "cell_type": "code",
   "execution_count": 39,
   "id": "20427cd9",
   "metadata": {},
   "outputs": [
    {
     "name": "stderr",
     "output_type": "stream",
     "text": [
      "<>:1: SyntaxWarning: \"is\" with a literal. Did you mean \"==\"?\n",
      "<>:1: SyntaxWarning: \"is\" with a literal. Did you mean \"==\"?\n",
      "/var/folders/8l/t3zs7y694s5g088bzybz9czc0000gn/T/ipykernel_55155/3482963539.py:1: SyntaxWarning: \"is\" with a literal. Did you mean \"==\"?\n",
      "  1 is True\n"
     ]
    },
    {
     "data": {
      "text/plain": [
       "False"
      ]
     },
     "execution_count": 39,
     "metadata": {},
     "output_type": "execute_result"
    }
   ],
   "source": [
    "1 is True"
   ]
  },
  {
   "cell_type": "code",
   "execution_count": 24,
   "id": "17dacfba",
   "metadata": {},
   "outputs": [
    {
     "ename": "ZeroDivisionError",
     "evalue": "division by zero",
     "output_type": "error",
     "traceback": [
      "\u001b[0;31m---------------------------------------------------------------------------\u001b[0m",
      "\u001b[0;31mZeroDivisionError\u001b[0m                         Traceback (most recent call last)",
      "Cell \u001b[0;32mIn[24], line 1\u001b[0m\n\u001b[0;32m----> 1\u001b[0m \u001b[38;5;241;43m1\u001b[39;49m\u001b[43m \u001b[49m\u001b[38;5;241;43m/\u001b[39;49m\u001b[43m \u001b[49m\u001b[38;5;28;43;01mFalse\u001b[39;49;00m\n",
      "\u001b[0;31mZeroDivisionError\u001b[0m: division by zero"
     ]
    }
   ],
   "source": [
    "1 / False"
   ]
  },
  {
   "cell_type": "code",
   "execution_count": null,
   "id": "6f2db396",
   "metadata": {},
   "outputs": [],
   "source": []
  },
  {
   "cell_type": "code",
   "execution_count": null,
   "id": "1eaade13",
   "metadata": {},
   "outputs": [],
   "source": []
  },
  {
   "cell_type": "markdown",
   "id": "f73a7b92",
   "metadata": {},
   "source": [
    "#### bytes\n",
    "\n",
    "bytes\n",
    "\n",
    "(bytearray)"
   ]
  },
  {
   "cell_type": "code",
   "execution_count": 59,
   "id": "4eec76a9",
   "metadata": {},
   "outputs": [
    {
     "data": {
      "text/plain": [
       "b'znaki ascii'"
      ]
     },
     "execution_count": 59,
     "metadata": {},
     "output_type": "execute_result"
    }
   ],
   "source": [
    "b\"znaki ascii\"\n",
    "\n"
   ]
  },
  {
   "cell_type": "code",
   "execution_count": 60,
   "id": "5f18381e",
   "metadata": {
    "scrolled": true
   },
   "outputs": [
    {
     "ename": "SyntaxError",
     "evalue": "bytes can only contain ASCII literal characters (3021489960.py, line 1)",
     "output_type": "error",
     "traceback": [
      "\u001b[0;36m  Cell \u001b[0;32mIn[60], line 1\u001b[0;36m\u001b[0m\n\u001b[0;31m    b\"ą\"\u001b[0m\n\u001b[0m        ^\u001b[0m\n\u001b[0;31mSyntaxError\u001b[0m\u001b[0;31m:\u001b[0m bytes can only contain ASCII literal characters\n"
     ]
    }
   ],
   "source": [
    "b\"ą\""
   ]
  },
  {
   "cell_type": "code",
   "execution_count": 58,
   "id": "1ed830ba",
   "metadata": {},
   "outputs": [
    {
     "data": {
      "text/plain": [
       "b'\\xc4\\x85'"
      ]
     },
     "execution_count": 58,
     "metadata": {},
     "output_type": "execute_result"
    }
   ],
   "source": [
    "\"ą\".encode()"
   ]
  },
  {
   "cell_type": "markdown",
   "id": "2418a1b7",
   "metadata": {},
   "source": [
    "#### napisy\n",
    "\n",
    "\n",
    "to chodzi parami:\n",
    "\n",
    "    \"\n",
    "    '\n",
    "    \"\"\"\n",
    "    '''\n",
    "\n",
    "str\n",
    "\n",
    "napisy są unicodem\n",
    "\n",
    "a drukowane sa w oparciu o kodowanie tego unicode\n",
    "\n"
   ]
  },
  {
   "cell_type": "code",
   "execution_count": 44,
   "id": "dcedcf45",
   "metadata": {},
   "outputs": [
    {
     "data": {
      "text/plain": [
       "'napis to ciag znakow miedzy '"
      ]
     },
     "execution_count": 44,
     "metadata": {},
     "output_type": "execute_result"
    }
   ],
   "source": [
    "\"napis to ciag znakow miedzy \"\n"
   ]
  },
  {
   "cell_type": "code",
   "execution_count": 45,
   "id": "763ce5f7",
   "metadata": {},
   "outputs": [
    {
     "data": {
      "text/plain": [
       "'napis to ciag znakow miedzy '"
      ]
     },
     "execution_count": 45,
     "metadata": {},
     "output_type": "execute_result"
    }
   ],
   "source": [
    "'napis to ciag znakow miedzy '"
   ]
  },
  {
   "cell_type": "code",
   "execution_count": 61,
   "id": "e01b6f14",
   "metadata": {},
   "outputs": [
    {
     "ename": "SyntaxError",
     "evalue": "invalid syntax (1104355040.py, line 1)",
     "output_type": "error",
     "traceback": [
      "\u001b[0;36m  Cell \u001b[0;32mIn[61], line 1\u001b[0;36m\u001b[0m\n\u001b[0;31m    \"napis to ciag \"znakow\" miedzy \"\u001b[0m\n\u001b[0m                    ^\u001b[0m\n\u001b[0;31mSyntaxError\u001b[0m\u001b[0;31m:\u001b[0m invalid syntax\n"
     ]
    }
   ],
   "source": [
    "\"napis to ciag \"znakow\" miedzy \""
   ]
  },
  {
   "cell_type": "code",
   "execution_count": 62,
   "id": "85c5a51f",
   "metadata": {},
   "outputs": [
    {
     "data": {
      "text/plain": [
       "'napis to ciag \"znakow\" miedzy '"
      ]
     },
     "execution_count": 62,
     "metadata": {},
     "output_type": "execute_result"
    }
   ],
   "source": [
    "'napis to ciag \"znakow\" miedzy '"
   ]
  },
  {
   "cell_type": "code",
   "execution_count": 63,
   "id": "39d4057f",
   "metadata": {},
   "outputs": [
    {
     "data": {
      "text/plain": [
       "'napis to ciag \"znakow\" miedzy '"
      ]
     },
     "execution_count": 63,
     "metadata": {},
     "output_type": "execute_result"
    }
   ],
   "source": [
    "\"napis to ciag \\\"znakow\\\" miedzy \""
   ]
  },
  {
   "cell_type": "code",
   "execution_count": 64,
   "id": "f4d3a149",
   "metadata": {},
   "outputs": [
    {
     "data": {
      "text/plain": [
       "'ala\\tkot'"
      ]
     },
     "execution_count": 64,
     "metadata": {},
     "output_type": "execute_result"
    }
   ],
   "source": [
    "\"ala\\tkot\""
   ]
  },
  {
   "cell_type": "code",
   "execution_count": 65,
   "id": "25e0b733",
   "metadata": {},
   "outputs": [
    {
     "name": "stdout",
     "output_type": "stream",
     "text": [
      "ala\tkot\n"
     ]
    }
   ],
   "source": [
    "print(\"ala\\tkot\")"
   ]
  },
  {
   "cell_type": "code",
   "execution_count": 66,
   "id": "abfc8385",
   "metadata": {},
   "outputs": [
    {
     "name": "stdout",
     "output_type": "stream",
     "text": [
      "ala\\tkot\n"
     ]
    }
   ],
   "source": [
    "print(\"ala\\\\tkot\")"
   ]
  },
  {
   "cell_type": "code",
   "execution_count": 46,
   "id": "275ca54a",
   "metadata": {},
   "outputs": [
    {
     "data": {
      "text/plain": [
       "'\\nlinijka1\\nlinijka2\\n'"
      ]
     },
     "execution_count": 46,
     "metadata": {},
     "output_type": "execute_result"
    }
   ],
   "source": [
    "\"\"\"\n",
    "linijka1\n",
    "linijka2\n",
    "\"\"\""
   ]
  },
  {
   "cell_type": "code",
   "execution_count": 49,
   "id": "c5bdd83a",
   "metadata": {},
   "outputs": [
    {
     "data": {
      "text/plain": [
       "'linijka1linijka2'"
      ]
     },
     "execution_count": 49,
     "metadata": {},
     "output_type": "execute_result"
    }
   ],
   "source": [
    "(\n",
    "    \"linijka1\" \n",
    "    \"linijka2\"\n",
    ")\n"
   ]
  },
  {
   "cell_type": "code",
   "execution_count": 50,
   "id": "da11eb13",
   "metadata": {},
   "outputs": [
    {
     "data": {
      "text/plain": [
       "'l1\\nl2'"
      ]
     },
     "execution_count": 50,
     "metadata": {},
     "output_type": "execute_result"
    }
   ],
   "source": [
    "\"l1\\nl2\""
   ]
  },
  {
   "cell_type": "code",
   "execution_count": 51,
   "id": "2dd86ca2",
   "metadata": {},
   "outputs": [
    {
     "name": "stdout",
     "output_type": "stream",
     "text": [
      "l1\n",
      "l2\n"
     ]
    }
   ],
   "source": [
    "print(\"l1\\nl2\")"
   ]
  },
  {
   "cell_type": "code",
   "execution_count": 52,
   "id": "132e810a",
   "metadata": {},
   "outputs": [
    {
     "data": {
      "text/plain": [
       "'12'"
      ]
     },
     "execution_count": 52,
     "metadata": {},
     "output_type": "execute_result"
    }
   ],
   "source": [
    "\"1\" + \"2\""
   ]
  },
  {
   "cell_type": "code",
   "execution_count": 55,
   "id": "3ed49979",
   "metadata": {},
   "outputs": [
    {
     "ename": "TypeError",
     "evalue": "can only concatenate str (not \"int\") to str",
     "output_type": "error",
     "traceback": [
      "\u001b[0;31m---------------------------------------------------------------------------\u001b[0m",
      "\u001b[0;31mTypeError\u001b[0m                                 Traceback (most recent call last)",
      "Cell \u001b[0;32mIn[55], line 1\u001b[0m\n\u001b[0;32m----> 1\u001b[0m \u001b[38;5;124;43m\"\u001b[39;49m\u001b[38;5;124;43m1\u001b[39;49m\u001b[38;5;124;43m\"\u001b[39;49m\u001b[43m \u001b[49m\u001b[38;5;241;43m+\u001b[39;49m\u001b[43m  \u001b[49m\u001b[38;5;241;43m2\u001b[39;49m \u001b[38;5;66;03m# blad poniewaz python jest jezykiem silnie typowanym\u001b[39;00m\n",
      "\u001b[0;31mTypeError\u001b[0m: can only concatenate str (not \"int\") to str"
     ]
    }
   ],
   "source": [
    "\"1\" +  2 # blad poniewaz python jest jezykiem silnie typowanym"
   ]
  },
  {
   "cell_type": "code",
   "execution_count": 54,
   "id": "043b5b29",
   "metadata": {},
   "outputs": [
    {
     "data": {
      "text/plain": [
       "'1111111111'"
      ]
     },
     "execution_count": 54,
     "metadata": {},
     "output_type": "execute_result"
    }
   ],
   "source": [
    "\"1\" * 10"
   ]
  },
  {
   "cell_type": "markdown",
   "id": "795c1edb",
   "metadata": {},
   "source": [
    "#### Formatowanie napisów"
   ]
  },
  {
   "cell_type": "code",
   "execution_count": 69,
   "id": "33dc43cf",
   "metadata": {},
   "outputs": [
    {
     "data": {
      "text/plain": [
       "'a=1 b=2'"
      ]
     },
     "execution_count": 69,
     "metadata": {},
     "output_type": "execute_result"
    }
   ],
   "source": [
    "\"a=%d b=%d\" % (1, 2)"
   ]
  },
  {
   "cell_type": "code",
   "execution_count": 70,
   "id": "5148b08d",
   "metadata": {},
   "outputs": [
    {
     "data": {
      "text/plain": [
       "'a=1 b=2'"
      ]
     },
     "execution_count": 70,
     "metadata": {},
     "output_type": "execute_result"
    }
   ],
   "source": [
    "\"a=%d b=%d\" % (1, 2.11)"
   ]
  },
  {
   "cell_type": "code",
   "execution_count": 73,
   "id": "20580461",
   "metadata": {},
   "outputs": [
    {
     "data": {
      "text/plain": [
       "'a=1 b=2.11'"
      ]
     },
     "execution_count": 73,
     "metadata": {},
     "output_type": "execute_result"
    }
   ],
   "source": [
    "\"a=%d b=%f\" % (1, 2.11)"
   ]
  },
  {
   "cell_type": "code",
   "execution_count": 74,
   "id": "fb8b2f7f",
   "metadata": {},
   "outputs": [
    {
     "data": {
      "text/plain": [
       "'a=1 b=2.11'"
      ]
     },
     "execution_count": 74,
     "metadata": {},
     "output_type": "execute_result"
    }
   ],
   "source": [
    "\"a=%d b=%.2f\" % (1, 2.11)"
   ]
  },
  {
   "cell_type": "code",
   "execution_count": 75,
   "id": "08ab9cf6",
   "metadata": {},
   "outputs": [
    {
     "ename": "TypeError",
     "evalue": "%d format: a real number is required, not str",
     "output_type": "error",
     "traceback": [
      "\u001b[0;31m---------------------------------------------------------------------------\u001b[0m",
      "\u001b[0;31mTypeError\u001b[0m                                 Traceback (most recent call last)",
      "Cell \u001b[0;32mIn[75], line 1\u001b[0m\n\u001b[0;32m----> 1\u001b[0m \u001b[38;5;124;43m\"\u001b[39;49m\u001b[38;5;124;43ma=\u001b[39;49m\u001b[38;5;132;43;01m%d\u001b[39;49;00m\u001b[38;5;124;43m b=\u001b[39;49m\u001b[38;5;132;43;01m%.2f\u001b[39;49;00m\u001b[38;5;124;43m\"\u001b[39;49m\u001b[43m \u001b[49m\u001b[38;5;241;43m%\u001b[39;49m\u001b[43m \u001b[49m\u001b[43m(\u001b[49m\u001b[38;5;124;43m\"\u001b[39;49m\u001b[38;5;124;43ma\u001b[39;49m\u001b[38;5;124;43m\"\u001b[39;49m\u001b[43m,\u001b[49m\u001b[43m \u001b[49m\u001b[38;5;241;43m2.11\u001b[39;49m\u001b[43m)\u001b[49m\n",
      "\u001b[0;31mTypeError\u001b[0m: %d format: a real number is required, not str"
     ]
    }
   ],
   "source": [
    "\"a=%d b=%.2f\" % (\"a\", 2.11)"
   ]
  },
  {
   "cell_type": "code",
   "execution_count": 76,
   "id": "9488d506",
   "metadata": {},
   "outputs": [
    {
     "data": {
      "text/plain": [
       "'a=a b=2.11'"
      ]
     },
     "execution_count": 76,
     "metadata": {},
     "output_type": "execute_result"
    }
   ],
   "source": [
    "\"a=%s b=%.2f\" % (\"a\", 2.11)"
   ]
  },
  {
   "cell_type": "code",
   "execution_count": 77,
   "id": "d60b9f7c",
   "metadata": {},
   "outputs": [
    {
     "data": {
      "text/plain": [
       "'a=1 b=2'"
      ]
     },
     "execution_count": 77,
     "metadata": {},
     "output_type": "execute_result"
    }
   ],
   "source": [
    "\"a={} b={}\".format(1, 2)"
   ]
  },
  {
   "cell_type": "code",
   "execution_count": 78,
   "id": "ae81fe05",
   "metadata": {},
   "outputs": [
    {
     "data": {
      "text/plain": [
       "'a=a b=2'"
      ]
     },
     "execution_count": 78,
     "metadata": {},
     "output_type": "execute_result"
    }
   ],
   "source": [
    "\"a={} b={}\".format(\"a\", 2)"
   ]
  },
  {
   "cell_type": "code",
   "execution_count": 79,
   "id": "ab181b86",
   "metadata": {},
   "outputs": [
    {
     "data": {
      "text/plain": [
       "'a=a b=2.0000'"
      ]
     },
     "execution_count": 79,
     "metadata": {},
     "output_type": "execute_result"
    }
   ],
   "source": [
    "\"a={} b={:.4f}\".format(\"a\", 2)"
   ]
  },
  {
   "cell_type": "code",
   "execution_count": 80,
   "id": "8591b23b",
   "metadata": {},
   "outputs": [
    {
     "ename": "ValueError",
     "evalue": "Unknown format code 'f' for object of type 'str'",
     "output_type": "error",
     "traceback": [
      "\u001b[0;31m---------------------------------------------------------------------------\u001b[0m",
      "\u001b[0;31mValueError\u001b[0m                                Traceback (most recent call last)",
      "Cell \u001b[0;32mIn[80], line 1\u001b[0m\n\u001b[0;32m----> 1\u001b[0m \u001b[38;5;124;43m\"\u001b[39;49m\u001b[38;5;124;43ma=\u001b[39;49m\u001b[38;5;132;43;01m{}\u001b[39;49;00m\u001b[38;5;124;43m b=\u001b[39;49m\u001b[38;5;132;43;01m{:.4f}\u001b[39;49;00m\u001b[38;5;124;43m\"\u001b[39;49m\u001b[38;5;241;43m.\u001b[39;49m\u001b[43mformat\u001b[49m\u001b[43m(\u001b[49m\u001b[38;5;124;43m\"\u001b[39;49m\u001b[38;5;124;43ma\u001b[39;49m\u001b[38;5;124;43m\"\u001b[39;49m\u001b[43m,\u001b[49m\u001b[43m \u001b[49m\u001b[38;5;124;43m\"\u001b[39;49m\u001b[38;5;124;43mb\u001b[39;49m\u001b[38;5;124;43m\"\u001b[39;49m\u001b[43m)\u001b[49m\n",
      "\u001b[0;31mValueError\u001b[0m: Unknown format code 'f' for object of type 'str'"
     ]
    }
   ],
   "source": [
    "\"a={} b={:.4f}\".format(\"a\", \"b\")"
   ]
  },
  {
   "cell_type": "code",
   "execution_count": 81,
   "id": "b17038bc",
   "metadata": {},
   "outputs": [
    {
     "data": {
      "text/plain": [
       "'a=a                b=2.0000'"
      ]
     },
     "execution_count": 81,
     "metadata": {},
     "output_type": "execute_result"
    }
   ],
   "source": [
    "\"a={:16} b={:.4f}\".format(\"a\", 2)"
   ]
  },
  {
   "cell_type": "code",
   "execution_count": 82,
   "id": "7be6a8dc",
   "metadata": {},
   "outputs": [
    {
     "data": {
      "text/plain": [
       "'a=       a         b=2.0000'"
      ]
     },
     "execution_count": 82,
     "metadata": {},
     "output_type": "execute_result"
    }
   ],
   "source": [
    "\"a={:^16} b={:.4f}\".format(\"a\", 2)"
   ]
  },
  {
   "cell_type": "code",
   "execution_count": 83,
   "id": "aab7f901",
   "metadata": {},
   "outputs": [
    {
     "data": {
      "text/plain": [
       "'a=      abc        b=2.0000'"
      ]
     },
     "execution_count": 83,
     "metadata": {},
     "output_type": "execute_result"
    }
   ],
   "source": [
    "\"a={:^16} b={:.4f}\".format(\"abc\", 2)"
   ]
  },
  {
   "cell_type": "code",
   "execution_count": 85,
   "id": "8c9d0ab9",
   "metadata": {},
   "outputs": [
    {
     "data": {
      "text/plain": [
       "'a=a                b=2.0000'"
      ]
     },
     "execution_count": 85,
     "metadata": {},
     "output_type": "execute_result"
    }
   ],
   "source": [
    "\"a={x:16} b={y:.4f}\".format( y=2, x=\"a\",)"
   ]
  },
  {
   "cell_type": "code",
   "execution_count": null,
   "id": "7468ae76",
   "metadata": {},
   "outputs": [],
   "source": [
    "# f string"
   ]
  },
  {
   "cell_type": "code",
   "execution_count": 86,
   "id": "6a63a34e",
   "metadata": {},
   "outputs": [],
   "source": [
    "x = \"a\"\n",
    "y = 10"
   ]
  },
  {
   "cell_type": "code",
   "execution_count": 87,
   "id": "6a12b193",
   "metadata": {},
   "outputs": [
    {
     "data": {
      "text/plain": [
       "'a 10'"
      ]
     },
     "execution_count": 87,
     "metadata": {},
     "output_type": "execute_result"
    }
   ],
   "source": [
    "f\"{x} {y}\""
   ]
  },
  {
   "cell_type": "code",
   "execution_count": 88,
   "id": "dd2a0faf",
   "metadata": {},
   "outputs": [
    {
     "data": {
      "text/plain": [
       "'a 10.00'"
      ]
     },
     "execution_count": 88,
     "metadata": {},
     "output_type": "execute_result"
    }
   ],
   "source": [
    "f\"{x} {y:.2f}\""
   ]
  },
  {
   "cell_type": "code",
   "execution_count": 90,
   "id": "1310d05a",
   "metadata": {},
   "outputs": [
    {
     "data": {
      "text/plain": [
       "'3 10.00'"
      ]
     },
     "execution_count": 90,
     "metadata": {},
     "output_type": "execute_result"
    }
   ],
   "source": [
    "f\"{1+2} {y:.2f}\" # proste wyrazenie w nawiasach"
   ]
  },
  {
   "cell_type": "markdown",
   "id": "4b90acd5",
   "metadata": {},
   "source": [
    "### zmienne w pythonie\n",
    "\n",
    "wymuszone:\n",
    "\n",
    "litery, liczby, znak _\n",
    "\n",
    "nie moga zaczynac sie od liczby\n",
    "\n",
    "dobre praktyki:\n",
    "\n",
    "snake_case\n",
    "\n",
    "male litery, slowa laczone podkresleniem\n",
    "\n",
    "\n",
    "DUZE LITERY SA DLa STALYCH\n"
   ]
  },
  {
   "cell_type": "code",
   "execution_count": 92,
   "id": "1356a4b8",
   "metadata": {},
   "outputs": [],
   "source": [
    "zmienna = 1"
   ]
  },
  {
   "cell_type": "code",
   "execution_count": 95,
   "id": "161eef6a",
   "metadata": {},
   "outputs": [
    {
     "ename": "SyntaxError",
     "evalue": "invalid decimal literal (327329793.py, line 1)",
     "output_type": "error",
     "traceback": [
      "\u001b[0;36m  Cell \u001b[0;32mIn[95], line 1\u001b[0;36m\u001b[0m\n\u001b[0;31m    1zmienna = 1\u001b[0m\n\u001b[0m    ^\u001b[0m\n\u001b[0;31mSyntaxError\u001b[0m\u001b[0;31m:\u001b[0m invalid decimal literal\n"
     ]
    }
   ],
   "source": [
    "1zmienna = 1"
   ]
  },
  {
   "cell_type": "code",
   "execution_count": 98,
   "id": "f84674c8",
   "metadata": {},
   "outputs": [],
   "source": [
    "DEBUG = False"
   ]
  },
  {
   "cell_type": "code",
   "execution_count": 96,
   "id": "fd5a88b5",
   "metadata": {},
   "outputs": [],
   "source": [
    "zmienna1 = 1"
   ]
  },
  {
   "cell_type": "code",
   "execution_count": 97,
   "id": "2f006093",
   "metadata": {},
   "outputs": [
    {
     "ename": "NameError",
     "evalue": "name 'ccc' is not defined",
     "output_type": "error",
     "traceback": [
      "\u001b[0;31m---------------------------------------------------------------------------\u001b[0m",
      "\u001b[0;31mNameError\u001b[0m                                 Traceback (most recent call last)",
      "Cell \u001b[0;32mIn[97], line 1\u001b[0m\n\u001b[0;32m----> 1\u001b[0m \u001b[43mccc\u001b[49m\n",
      "\u001b[0;31mNameError\u001b[0m: name 'ccc' is not defined"
     ]
    }
   ],
   "source": [
    "ccc"
   ]
  },
  {
   "cell_type": "code",
   "execution_count": null,
   "id": "d6fda9aa",
   "metadata": {},
   "outputs": [],
   "source": [
    "# proste zadanie\n",
    "\n",
    "utworz 3 zestawy zmiennych\n",
    "\n",
    "produkt, cena, waga\n",
    "\n",
    "chleb, 6.2, 2.5\n",
    "\n",
    "\n",
    "przypomnienie\n",
    "\n",
    "f\"{x:50} {y:6.2f}\"\n"
   ]
  },
  {
   "cell_type": "code",
   "execution_count": 99,
   "id": "06df8a50",
   "metadata": {},
   "outputs": [
    {
     "data": {
      "text/plain": [
       "15.5"
      ]
     },
     "execution_count": 99,
     "metadata": {},
     "output_type": "execute_result"
    }
   ],
   "source": [
    "produkt_1 = \"chleb\"\n",
    "cena_1 = 6.2\n",
    "waga_1 = 2.5\n",
    "\n",
    "6.2 * 2.5"
   ]
  },
  {
   "cell_type": "code",
   "execution_count": null,
   "id": "70b76503",
   "metadata": {},
   "outputs": [],
   "source": [
    "\"\"\"\n",
    "Raport\n",
    "chleb    2.5 kg  cena:   15.50 PLN\n",
    "Ogorek   1.1 kg. cena:    4.20 PLN\n",
    "\"\"\""
   ]
  },
  {
   "cell_type": "code",
   "execution_count": null,
   "id": "add212dd",
   "metadata": {},
   "outputs": [],
   "source": []
  },
  {
   "cell_type": "code",
   "execution_count": null,
   "id": "dcf10101",
   "metadata": {},
   "outputs": [],
   "source": []
  },
  {
   "cell_type": "code",
   "execution_count": null,
   "id": "8c12df1d",
   "metadata": {},
   "outputs": [],
   "source": []
  },
  {
   "cell_type": "code",
   "execution_count": null,
   "id": "7b244b0d",
   "metadata": {},
   "outputs": [],
   "source": []
  },
  {
   "cell_type": "code",
   "execution_count": null,
   "id": "be234c97",
   "metadata": {},
   "outputs": [],
   "source": []
  },
  {
   "cell_type": "code",
   "execution_count": null,
   "id": "3f7f8515",
   "metadata": {},
   "outputs": [],
   "source": []
  },
  {
   "cell_type": "markdown",
   "id": "04974f7e",
   "metadata": {},
   "source": [
    "\n",
    "#### struktury danych\n",
    "\n",
    "list\n",
    "\n",
    "tuple\n",
    "\n",
    "set\n",
    "\n",
    "(frozenset)\n",
    "\n",
    "dict"
   ]
  },
  {
   "cell_type": "code",
   "execution_count": null,
   "id": "4635c679",
   "metadata": {},
   "outputs": [],
   "source": []
  },
  {
   "cell_type": "code",
   "execution_count": 4,
   "id": "afc0bb4f",
   "metadata": {},
   "outputs": [],
   "source": [
    "x = 1\n",
    "y = 2"
   ]
  },
  {
   "cell_type": "code",
   "execution_count": 5,
   "id": "f0f6d0a2",
   "metadata": {},
   "outputs": [
    {
     "data": {
      "text/plain": [
       "3"
      ]
     },
     "execution_count": 5,
     "metadata": {},
     "output_type": "execute_result"
    }
   ],
   "source": [
    "x + y"
   ]
  },
  {
   "cell_type": "code",
   "execution_count": null,
   "id": "21bf2550",
   "metadata": {},
   "outputs": [],
   "source": []
  },
  {
   "cell_type": "code",
   "execution_count": null,
   "id": "4162b19f",
   "metadata": {},
   "outputs": [],
   "source": []
  },
  {
   "cell_type": "code",
   "execution_count": null,
   "id": "8432162d",
   "metadata": {},
   "outputs": [],
   "source": []
  }
 ],
 "metadata": {
  "kernelspec": {
   "display_name": "Python 3 (ipykernel)",
   "language": "python",
   "name": "python3"
  },
  "language_info": {
   "codemirror_mode": {
    "name": "ipython",
    "version": 3
   },
   "file_extension": ".py",
   "mimetype": "text/x-python",
   "name": "python",
   "nbconvert_exporter": "python",
   "pygments_lexer": "ipython3",
   "version": "3.10.7"
  },
  "toc": {
   "base_numbering": 1,
   "nav_menu": {},
   "number_sections": true,
   "sideBar": true,
   "skip_h1_title": false,
   "title_cell": "Table of Contents",
   "title_sidebar": "Contents",
   "toc_cell": false,
   "toc_position": {},
   "toc_section_display": true,
   "toc_window_display": false
  }
 },
 "nbformat": 4,
 "nbformat_minor": 5
}

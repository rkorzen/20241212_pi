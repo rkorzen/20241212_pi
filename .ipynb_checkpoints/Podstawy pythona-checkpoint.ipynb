{
 "cells": [
  {
   "cell_type": "markdown",
   "id": "31df2a13",
   "metadata": {},
   "source": [
    "# Python podstawy\n",
    "\n",
    "## Jupyter\n",
    "\n",
    "\n",
    "### instalacja\n",
    "\n",
    "    pip install jupyter\n",
    "\n",
    "\n",
    "### uruchomienie\n",
    "\n",
    "\n",
    "    jupyter notebook\n",
    "\n",
    "### przydatne skróty\n",
    "\n",
    "\n",
    "`Esc` -  tryb polecen\n",
    "`Enter` - tryb edycji \n",
    "`shfit + Enter` - wykonuje bieżąca komórkę i przechodzi dalej\n",
    "\n",
    "```python\n",
    "# fragmen skryputu\n",
    "\n",
    "def foo():\n",
    "    print(10)\n",
    "\n",
    "```\n",
    "\n",
    "* A\n",
    "* B\n",
    "\n",
    "\n",
    "| A | B |\n",
    "|---|---|\n",
    "| 1 |2 |\n",
    "\n",
    "\n",
    "$x=1$"
   ]
  },
  {
   "cell_type": "markdown",
   "id": "67755aba",
   "metadata": {},
   "source": [
    "# Python\n",
    "\n",
    "## Podstawowe typy wbudowane w pythona\n",
    "\n",
    "### typy proste\n",
    "\n",
    "#### liczby\n",
    "\n",
    "int"
   ]
  },
  {
   "cell_type": "code",
   "execution_count": 6,
   "id": "cd3a2a1c",
   "metadata": {},
   "outputs": [
    {
     "data": {
      "text/plain": [
       "1000000"
      ]
     },
     "execution_count": 6,
     "metadata": {},
     "output_type": "execute_result"
    }
   ],
   "source": [
    "1, 2\n",
    "\n",
    "1000000\n",
    "\n",
    "1_000_000"
   ]
  },
  {
   "cell_type": "code",
   "execution_count": 8,
   "id": "2455c0ec",
   "metadata": {},
   "outputs": [
    {
     "data": {
      "text/plain": [
       "15"
      ]
     },
     "execution_count": 8,
     "metadata": {},
     "output_type": "execute_result"
    }
   ],
   "source": [
    "0b1111  # system dwojkowy"
   ]
  },
  {
   "cell_type": "code",
   "execution_count": 9,
   "id": "73de78a7",
   "metadata": {},
   "outputs": [
    {
     "data": {
      "text/plain": [
       "63"
      ]
     },
     "execution_count": 9,
     "metadata": {},
     "output_type": "execute_result"
    }
   ],
   "source": [
    "0o77"
   ]
  },
  {
   "cell_type": "code",
   "execution_count": 10,
   "id": "4b7ec49a",
   "metadata": {},
   "outputs": [
    {
     "data": {
      "text/plain": [
       "31"
      ]
     },
     "execution_count": 10,
     "metadata": {},
     "output_type": "execute_result"
    }
   ],
   "source": [
    "0x1f"
   ]
  },
  {
   "cell_type": "code",
   "execution_count": null,
   "id": "310c96c3",
   "metadata": {},
   "outputs": [],
   "source": []
  },
  {
   "cell_type": "markdown",
   "id": "0cf0fa26",
   "metadata": {},
   "source": [
    "float\n",
    "\n",
    "\n",
    "https://docs.python.org/3/tutorial/floatingpoint.html\n",
    "\n",
    "https://pywaw.org/105/\n",
    "\n"
   ]
  },
  {
   "cell_type": "code",
   "execution_count": 11,
   "id": "abc8584a",
   "metadata": {},
   "outputs": [
    {
     "data": {
      "text/plain": [
       "2.1"
      ]
     },
     "execution_count": 11,
     "metadata": {},
     "output_type": "execute_result"
    }
   ],
   "source": [
    "2.1"
   ]
  },
  {
   "cell_type": "code",
   "execution_count": 12,
   "id": "34f66aab",
   "metadata": {},
   "outputs": [
    {
     "data": {
      "text/plain": [
       "0.8333333333333334"
      ]
     },
     "execution_count": 12,
     "metadata": {},
     "output_type": "execute_result"
    }
   ],
   "source": [
    "5 / 6"
   ]
  },
  {
   "cell_type": "code",
   "execution_count": 13,
   "id": "c143520b",
   "metadata": {},
   "outputs": [
    {
     "data": {
      "text/plain": [
       "False"
      ]
     },
     "execution_count": 13,
     "metadata": {},
     "output_type": "execute_result"
    }
   ],
   "source": [
    "0.1 + 0.1 + 0.1 == 0.3"
   ]
  },
  {
   "cell_type": "code",
   "execution_count": 14,
   "id": "036b654b",
   "metadata": {},
   "outputs": [
    {
     "data": {
      "text/plain": [
       "(inf, -inf, nan)"
      ]
     },
     "execution_count": 14,
     "metadata": {},
     "output_type": "execute_result"
    }
   ],
   "source": [
    "float(\"Inf\"), float(\"-Inf\"), float(\"nan\")"
   ]
  },
  {
   "cell_type": "code",
   "execution_count": 15,
   "id": "b6f537ce",
   "metadata": {},
   "outputs": [
    {
     "data": {
      "text/plain": [
       "1.79e+308"
      ]
     },
     "execution_count": 15,
     "metadata": {},
     "output_type": "execute_result"
    }
   ],
   "source": [
    "1.79e308"
   ]
  },
  {
   "cell_type": "code",
   "execution_count": null,
   "id": "17d364ba",
   "metadata": {},
   "outputs": [],
   "source": []
  },
  {
   "cell_type": "code",
   "execution_count": 16,
   "id": "60459258",
   "metadata": {},
   "outputs": [
    {
     "data": {
      "text/plain": [
       "inf"
      ]
     },
     "execution_count": 16,
     "metadata": {},
     "output_type": "execute_result"
    }
   ],
   "source": [
    "1.8e308"
   ]
  },
  {
   "cell_type": "code",
   "execution_count": 17,
   "id": "1dcb8c65",
   "metadata": {},
   "outputs": [
    {
     "data": {
      "text/plain": [
       "4.5e+57"
      ]
     },
     "execution_count": 17,
     "metadata": {},
     "output_type": "execute_result"
    }
   ],
   "source": [
    "45e56"
   ]
  },
  {
   "cell_type": "code",
   "execution_count": 18,
   "id": "a6de3d51",
   "metadata": {},
   "outputs": [
    {
     "data": {
      "text/plain": [
       "2000000.0"
      ]
     },
     "execution_count": 18,
     "metadata": {},
     "output_type": "execute_result"
    }
   ],
   "source": [
    "2.e6"
   ]
  },
  {
   "cell_type": "markdown",
   "id": "8a7b1c08",
   "metadata": {},
   "source": []
  },
  {
   "cell_type": "markdown",
   "id": "1213784d",
   "metadata": {},
   "source": [
    "complex - liczby zespolone"
   ]
  },
  {
   "cell_type": "code",
   "execution_count": 19,
   "id": "ad913e77",
   "metadata": {},
   "outputs": [
    {
     "data": {
      "text/plain": [
       "(1+2j)"
      ]
     },
     "execution_count": 19,
     "metadata": {},
     "output_type": "execute_result"
    }
   ],
   "source": [
    "1 +2j"
   ]
  },
  {
   "cell_type": "code",
   "execution_count": 20,
   "id": "41b4f382",
   "metadata": {},
   "outputs": [
    {
     "data": {
      "text/plain": [
       "(24+6j)"
      ]
     },
     "execution_count": 20,
     "metadata": {},
     "output_type": "execute_result"
    }
   ],
   "source": [
    "(1+2j) + (23+4j)"
   ]
  },
  {
   "cell_type": "markdown",
   "id": "bbb9c147",
   "metadata": {},
   "source": [
    "#### operatory arytmeyczne\n",
    "\n",
    "```\n",
    "+ - *\n",
    "\n",
    "/  - dzielenie (true div)\n",
    "\n",
    "// - dzielenie calkowite\n",
    "\n",
    "% - dzielenie modulo\n",
    "\n",
    "** - potegowanie\n",
    "```\n"
   ]
  },
  {
   "cell_type": "markdown",
   "id": "65a33680",
   "metadata": {},
   "source": [
    "#### operatory porownania\n",
    "\n",
    "```\n",
    "==  - rowna sie\n",
    "\n",
    ">\n",
    "<\n",
    "\n",
    ">=\n",
    "\n",
    "<=\n",
    "\n",
    "\n",
    "```\n"
   ]
  },
  {
   "cell_type": "markdown",
   "id": "93e6d92a",
   "metadata": {},
   "source": [
    "#### operatory przypisania\n",
    "\n",
    "```\n",
    "= \n",
    "\n",
    "+=\n",
    "-=\n",
    "/=\n",
    "```\n"
   ]
  },
  {
   "cell_type": "code",
   "execution_count": 34,
   "id": "6f2a5067",
   "metadata": {},
   "outputs": [
    {
     "data": {
      "text/plain": [
       "3"
      ]
     },
     "execution_count": 34,
     "metadata": {},
     "output_type": "execute_result"
    }
   ],
   "source": [
    "x = 1\n",
    "\n",
    "x += 2  # x = x + 2 \n",
    "x"
   ]
  },
  {
   "cell_type": "code",
   "execution_count": null,
   "id": "7435c447",
   "metadata": {},
   "outputs": [],
   "source": []
  },
  {
   "cell_type": "code",
   "execution_count": 26,
   "id": "00ccd279",
   "metadata": {},
   "outputs": [
    {
     "data": {
      "text/plain": [
       "0.5"
      ]
     },
     "execution_count": 26,
     "metadata": {},
     "output_type": "execute_result"
    }
   ],
   "source": [
    "1 / 2"
   ]
  },
  {
   "cell_type": "code",
   "execution_count": 27,
   "id": "c3752d50",
   "metadata": {},
   "outputs": [
    {
     "data": {
      "text/plain": [
       "0"
      ]
     },
     "execution_count": 27,
     "metadata": {},
     "output_type": "execute_result"
    }
   ],
   "source": [
    "1 // 2"
   ]
  },
  {
   "cell_type": "code",
   "execution_count": 28,
   "id": "5e86c3b4",
   "metadata": {},
   "outputs": [
    {
     "data": {
      "text/plain": [
       "1"
      ]
     },
     "execution_count": 28,
     "metadata": {},
     "output_type": "execute_result"
    }
   ],
   "source": [
    "1 % 2"
   ]
  },
  {
   "cell_type": "code",
   "execution_count": 29,
   "id": "abe551cb",
   "metadata": {},
   "outputs": [
    {
     "data": {
      "text/plain": [
       "1"
      ]
     },
     "execution_count": 29,
     "metadata": {},
     "output_type": "execute_result"
    }
   ],
   "source": [
    "5%2"
   ]
  },
  {
   "cell_type": "code",
   "execution_count": 30,
   "id": "e06d05e3",
   "metadata": {},
   "outputs": [
    {
     "data": {
      "text/plain": [
       "2"
      ]
     },
     "execution_count": 30,
     "metadata": {},
     "output_type": "execute_result"
    }
   ],
   "source": [
    "5 // 2"
   ]
  },
  {
   "cell_type": "markdown",
   "id": "c46c13fa",
   "metadata": {},
   "source": [
    "#### typ logiczny\n",
    "\n",
    "bool\n",
    "\n",
    "##### operatory logiczne \n",
    "\n",
    "    or and not"
   ]
  },
  {
   "cell_type": "code",
   "execution_count": 35,
   "id": "7abd61e0",
   "metadata": {},
   "outputs": [
    {
     "data": {
      "text/plain": [
       "True"
      ]
     },
     "execution_count": 35,
     "metadata": {},
     "output_type": "execute_result"
    }
   ],
   "source": [
    "True or False"
   ]
  },
  {
   "cell_type": "code",
   "execution_count": 36,
   "id": "52b56959",
   "metadata": {},
   "outputs": [
    {
     "data": {
      "text/plain": [
       "False"
      ]
     },
     "execution_count": 36,
     "metadata": {},
     "output_type": "execute_result"
    }
   ],
   "source": [
    "False and False"
   ]
  },
  {
   "cell_type": "code",
   "execution_count": 37,
   "id": "cbe2b55f",
   "metadata": {},
   "outputs": [
    {
     "data": {
      "text/plain": [
       "False"
      ]
     },
     "execution_count": 37,
     "metadata": {},
     "output_type": "execute_result"
    }
   ],
   "source": [
    "False and True"
   ]
  },
  {
   "cell_type": "code",
   "execution_count": 38,
   "id": "7cb707de",
   "metadata": {},
   "outputs": [
    {
     "data": {
      "text/plain": [
       "False"
      ]
     },
     "execution_count": 38,
     "metadata": {},
     "output_type": "execute_result"
    }
   ],
   "source": [
    "not True"
   ]
  },
  {
   "cell_type": "code",
   "execution_count": 21,
   "id": "6b13c9d4",
   "metadata": {},
   "outputs": [
    {
     "data": {
      "text/plain": [
       "(False, True)"
      ]
     },
     "execution_count": 21,
     "metadata": {},
     "output_type": "execute_result"
    }
   ],
   "source": [
    "False, True"
   ]
  },
  {
   "cell_type": "code",
   "execution_count": 22,
   "id": "12da0935",
   "metadata": {},
   "outputs": [
    {
     "data": {
      "text/plain": [
       "2"
      ]
     },
     "execution_count": 22,
     "metadata": {},
     "output_type": "execute_result"
    }
   ],
   "source": [
    "1 + True"
   ]
  },
  {
   "cell_type": "markdown",
   "id": "0955fd36",
   "metadata": {},
   "source": [
    "#### operator tożsamości - is\n",
    "\n",
    "    is"
   ]
  },
  {
   "cell_type": "code",
   "execution_count": 23,
   "id": "9b0f78be",
   "metadata": {},
   "outputs": [
    {
     "data": {
      "text/plain": [
       "True"
      ]
     },
     "execution_count": 23,
     "metadata": {},
     "output_type": "execute_result"
    }
   ],
   "source": [
    "True == 1"
   ]
  },
  {
   "cell_type": "code",
   "execution_count": 39,
   "id": "cd8b8d99",
   "metadata": {},
   "outputs": [
    {
     "name": "stderr",
     "output_type": "stream",
     "text": [
      "<>:1: SyntaxWarning: \"is\" with a literal. Did you mean \"==\"?\n",
      "<>:1: SyntaxWarning: \"is\" with a literal. Did you mean \"==\"?\n",
      "/var/folders/8l/t3zs7y694s5g088bzybz9czc0000gn/T/ipykernel_55155/3482963539.py:1: SyntaxWarning: \"is\" with a literal. Did you mean \"==\"?\n",
      "  1 is True\n"
     ]
    },
    {
     "data": {
      "text/plain": [
       "False"
      ]
     },
     "execution_count": 39,
     "metadata": {},
     "output_type": "execute_result"
    }
   ],
   "source": [
    "1 is True"
   ]
  },
  {
   "cell_type": "code",
   "execution_count": 24,
   "id": "70c4d9c2",
   "metadata": {},
   "outputs": [
    {
     "ename": "ZeroDivisionError",
     "evalue": "division by zero",
     "output_type": "error",
     "traceback": [
      "\u001b[0;31m---------------------------------------------------------------------------\u001b[0m",
      "\u001b[0;31mZeroDivisionError\u001b[0m                         Traceback (most recent call last)",
      "Cell \u001b[0;32mIn[24], line 1\u001b[0m\n\u001b[0;32m----> 1\u001b[0m \u001b[38;5;241;43m1\u001b[39;49m\u001b[43m \u001b[49m\u001b[38;5;241;43m/\u001b[39;49m\u001b[43m \u001b[49m\u001b[38;5;28;43;01mFalse\u001b[39;49;00m\n",
      "\u001b[0;31mZeroDivisionError\u001b[0m: division by zero"
     ]
    }
   ],
   "source": [
    "1 / False"
   ]
  },
  {
   "cell_type": "code",
   "execution_count": null,
   "id": "354e8d06",
   "metadata": {},
   "outputs": [],
   "source": []
  },
  {
   "cell_type": "code",
   "execution_count": null,
   "id": "817e3124",
   "metadata": {},
   "outputs": [],
   "source": []
  },
  {
   "cell_type": "markdown",
   "id": "f3254d98",
   "metadata": {},
   "source": [
    "#### bytes\n",
    "\n",
    "bytes\n",
    "\n",
    "(bytearray)"
   ]
  },
  {
   "cell_type": "code",
   "execution_count": 59,
   "id": "6fe64631",
   "metadata": {},
   "outputs": [
    {
     "data": {
      "text/plain": [
       "b'znaki ascii'"
      ]
     },
     "execution_count": 59,
     "metadata": {},
     "output_type": "execute_result"
    }
   ],
   "source": [
    "b\"znaki ascii\"\n",
    "\n"
   ]
  },
  {
   "cell_type": "code",
   "execution_count": 60,
   "id": "15df884d",
   "metadata": {
    "scrolled": true
   },
   "outputs": [
    {
     "ename": "SyntaxError",
     "evalue": "bytes can only contain ASCII literal characters (3021489960.py, line 1)",
     "output_type": "error",
     "traceback": [
      "\u001b[0;36m  Cell \u001b[0;32mIn[60], line 1\u001b[0;36m\u001b[0m\n\u001b[0;31m    b\"ą\"\u001b[0m\n\u001b[0m        ^\u001b[0m\n\u001b[0;31mSyntaxError\u001b[0m\u001b[0;31m:\u001b[0m bytes can only contain ASCII literal characters\n"
     ]
    }
   ],
   "source": [
    "b\"ą\""
   ]
  },
  {
   "cell_type": "code",
   "execution_count": 58,
   "id": "80ed1823",
   "metadata": {},
   "outputs": [
    {
     "data": {
      "text/plain": [
       "b'\\xc4\\x85'"
      ]
     },
     "execution_count": 58,
     "metadata": {},
     "output_type": "execute_result"
    }
   ],
   "source": [
    "\"ą\".encode()"
   ]
  },
  {
   "cell_type": "markdown",
   "id": "715c645d",
   "metadata": {},
   "source": [
    "#### napisy\n",
    "\n",
    "\n",
    "to chodzi parami:\n",
    "\n",
    "    \"\n",
    "    '\n",
    "    \"\"\"\n",
    "    '''\n",
    "\n",
    "str\n",
    "\n",
    "napisy są unicodem\n",
    "\n",
    "a drukowane sa w oparciu o kodowanie tego unicode\n",
    "\n"
   ]
  },
  {
   "cell_type": "code",
   "execution_count": 44,
   "id": "3450ee2a",
   "metadata": {},
   "outputs": [
    {
     "data": {
      "text/plain": [
       "'napis to ciag znakow miedzy '"
      ]
     },
     "execution_count": 44,
     "metadata": {},
     "output_type": "execute_result"
    }
   ],
   "source": [
    "\"napis to ciag znakow miedzy \"\n"
   ]
  },
  {
   "cell_type": "code",
   "execution_count": 45,
   "id": "45fa88a6",
   "metadata": {},
   "outputs": [
    {
     "data": {
      "text/plain": [
       "'napis to ciag znakow miedzy '"
      ]
     },
     "execution_count": 45,
     "metadata": {},
     "output_type": "execute_result"
    }
   ],
   "source": [
    "'napis to ciag znakow miedzy '"
   ]
  },
  {
   "cell_type": "code",
   "execution_count": 61,
   "id": "3e22c2df",
   "metadata": {},
   "outputs": [
    {
     "ename": "SyntaxError",
     "evalue": "invalid syntax (1104355040.py, line 1)",
     "output_type": "error",
     "traceback": [
      "\u001b[0;36m  Cell \u001b[0;32mIn[61], line 1\u001b[0;36m\u001b[0m\n\u001b[0;31m    \"napis to ciag \"znakow\" miedzy \"\u001b[0m\n\u001b[0m                    ^\u001b[0m\n\u001b[0;31mSyntaxError\u001b[0m\u001b[0;31m:\u001b[0m invalid syntax\n"
     ]
    }
   ],
   "source": [
    "\"napis to ciag \"znakow\" miedzy \""
   ]
  },
  {
   "cell_type": "code",
   "execution_count": 62,
   "id": "08ca0755",
   "metadata": {},
   "outputs": [
    {
     "data": {
      "text/plain": [
       "'napis to ciag \"znakow\" miedzy '"
      ]
     },
     "execution_count": 62,
     "metadata": {},
     "output_type": "execute_result"
    }
   ],
   "source": [
    "'napis to ciag \"znakow\" miedzy '"
   ]
  },
  {
   "cell_type": "code",
   "execution_count": 63,
   "id": "7470629c",
   "metadata": {},
   "outputs": [
    {
     "data": {
      "text/plain": [
       "'napis to ciag \"znakow\" miedzy '"
      ]
     },
     "execution_count": 63,
     "metadata": {},
     "output_type": "execute_result"
    }
   ],
   "source": [
    "\"napis to ciag \\\"znakow\\\" miedzy \""
   ]
  },
  {
   "cell_type": "code",
   "execution_count": 64,
   "id": "12efd064",
   "metadata": {},
   "outputs": [
    {
     "data": {
      "text/plain": [
       "'ala\\tkot'"
      ]
     },
     "execution_count": 64,
     "metadata": {},
     "output_type": "execute_result"
    }
   ],
   "source": [
    "\"ala\\tkot\""
   ]
  },
  {
   "cell_type": "code",
   "execution_count": 65,
   "id": "6e5d68d6",
   "metadata": {},
   "outputs": [
    {
     "name": "stdout",
     "output_type": "stream",
     "text": [
      "ala\tkot\n"
     ]
    }
   ],
   "source": [
    "print(\"ala\\tkot\")"
   ]
  },
  {
   "cell_type": "code",
   "execution_count": 66,
   "id": "441dcb43",
   "metadata": {},
   "outputs": [
    {
     "name": "stdout",
     "output_type": "stream",
     "text": [
      "ala\\tkot\n"
     ]
    }
   ],
   "source": [
    "print(\"ala\\\\tkot\")"
   ]
  },
  {
   "cell_type": "code",
   "execution_count": 46,
   "id": "13ded934",
   "metadata": {},
   "outputs": [
    {
     "data": {
      "text/plain": [
       "'\\nlinijka1\\nlinijka2\\n'"
      ]
     },
     "execution_count": 46,
     "metadata": {},
     "output_type": "execute_result"
    }
   ],
   "source": [
    "\"\"\"\n",
    "linijka1\n",
    "linijka2\n",
    "\"\"\""
   ]
  },
  {
   "cell_type": "code",
   "execution_count": 49,
   "id": "46559d91",
   "metadata": {},
   "outputs": [
    {
     "data": {
      "text/plain": [
       "'linijka1linijka2'"
      ]
     },
     "execution_count": 49,
     "metadata": {},
     "output_type": "execute_result"
    }
   ],
   "source": [
    "(\n",
    "    \"linijka1\" \n",
    "    \"linijka2\"\n",
    ")\n"
   ]
  },
  {
   "cell_type": "code",
   "execution_count": 50,
   "id": "92082105",
   "metadata": {},
   "outputs": [
    {
     "data": {
      "text/plain": [
       "'l1\\nl2'"
      ]
     },
     "execution_count": 50,
     "metadata": {},
     "output_type": "execute_result"
    }
   ],
   "source": [
    "\"l1\\nl2\""
   ]
  },
  {
   "cell_type": "code",
   "execution_count": 51,
   "id": "aea7a04b",
   "metadata": {},
   "outputs": [
    {
     "name": "stdout",
     "output_type": "stream",
     "text": [
      "l1\n",
      "l2\n"
     ]
    }
   ],
   "source": [
    "print(\"l1\\nl2\")"
   ]
  },
  {
   "cell_type": "code",
   "execution_count": 52,
   "id": "d10c976d",
   "metadata": {},
   "outputs": [
    {
     "data": {
      "text/plain": [
       "'12'"
      ]
     },
     "execution_count": 52,
     "metadata": {},
     "output_type": "execute_result"
    }
   ],
   "source": [
    "\"1\" + \"2\""
   ]
  },
  {
   "cell_type": "code",
   "execution_count": 55,
   "id": "6887660c",
   "metadata": {},
   "outputs": [
    {
     "ename": "TypeError",
     "evalue": "can only concatenate str (not \"int\") to str",
     "output_type": "error",
     "traceback": [
      "\u001b[0;31m---------------------------------------------------------------------------\u001b[0m",
      "\u001b[0;31mTypeError\u001b[0m                                 Traceback (most recent call last)",
      "Cell \u001b[0;32mIn[55], line 1\u001b[0m\n\u001b[0;32m----> 1\u001b[0m \u001b[38;5;124;43m\"\u001b[39;49m\u001b[38;5;124;43m1\u001b[39;49m\u001b[38;5;124;43m\"\u001b[39;49m\u001b[43m \u001b[49m\u001b[38;5;241;43m+\u001b[39;49m\u001b[43m  \u001b[49m\u001b[38;5;241;43m2\u001b[39;49m \u001b[38;5;66;03m# blad poniewaz python jest jezykiem silnie typowanym\u001b[39;00m\n",
      "\u001b[0;31mTypeError\u001b[0m: can only concatenate str (not \"int\") to str"
     ]
    }
   ],
   "source": [
    "\"1\" +  2 # blad poniewaz python jest jezykiem silnie typowanym"
   ]
  },
  {
   "cell_type": "code",
   "execution_count": 54,
   "id": "f2ba90d4",
   "metadata": {},
   "outputs": [
    {
     "data": {
      "text/plain": [
       "'1111111111'"
      ]
     },
     "execution_count": 54,
     "metadata": {},
     "output_type": "execute_result"
    }
   ],
   "source": [
    "\"1\" * 10"
   ]
  },
  {
   "cell_type": "markdown",
   "id": "0002b26c",
   "metadata": {},
   "source": [
    "#### Formatowanie napisów"
   ]
  },
  {
   "cell_type": "code",
   "execution_count": 69,
   "id": "56c69b7b",
   "metadata": {},
   "outputs": [
    {
     "data": {
      "text/plain": [
       "'a=1 b=2'"
      ]
     },
     "execution_count": 69,
     "metadata": {},
     "output_type": "execute_result"
    }
   ],
   "source": [
    "\"a=%d b=%d\" % (1, 2)"
   ]
  },
  {
   "cell_type": "code",
   "execution_count": 70,
   "id": "eb8ffb59",
   "metadata": {},
   "outputs": [
    {
     "data": {
      "text/plain": [
       "'a=1 b=2'"
      ]
     },
     "execution_count": 70,
     "metadata": {},
     "output_type": "execute_result"
    }
   ],
   "source": [
    "\"a=%d b=%d\" % (1, 2.11)"
   ]
  },
  {
   "cell_type": "code",
   "execution_count": 73,
   "id": "252bce20",
   "metadata": {},
   "outputs": [
    {
     "data": {
      "text/plain": [
       "'a=1 b=2.11'"
      ]
     },
     "execution_count": 73,
     "metadata": {},
     "output_type": "execute_result"
    }
   ],
   "source": [
    "\"a=%d b=%f\" % (1, 2.11)"
   ]
  },
  {
   "cell_type": "code",
   "execution_count": 74,
   "id": "6b6a4106",
   "metadata": {},
   "outputs": [
    {
     "data": {
      "text/plain": [
       "'a=1 b=2.11'"
      ]
     },
     "execution_count": 74,
     "metadata": {},
     "output_type": "execute_result"
    }
   ],
   "source": [
    "\"a=%d b=%.2f\" % (1, 2.11)"
   ]
  },
  {
   "cell_type": "code",
   "execution_count": 75,
   "id": "aa8426af",
   "metadata": {},
   "outputs": [
    {
     "ename": "TypeError",
     "evalue": "%d format: a real number is required, not str",
     "output_type": "error",
     "traceback": [
      "\u001b[0;31m---------------------------------------------------------------------------\u001b[0m",
      "\u001b[0;31mTypeError\u001b[0m                                 Traceback (most recent call last)",
      "Cell \u001b[0;32mIn[75], line 1\u001b[0m\n\u001b[0;32m----> 1\u001b[0m \u001b[38;5;124;43m\"\u001b[39;49m\u001b[38;5;124;43ma=\u001b[39;49m\u001b[38;5;132;43;01m%d\u001b[39;49;00m\u001b[38;5;124;43m b=\u001b[39;49m\u001b[38;5;132;43;01m%.2f\u001b[39;49;00m\u001b[38;5;124;43m\"\u001b[39;49m\u001b[43m \u001b[49m\u001b[38;5;241;43m%\u001b[39;49m\u001b[43m \u001b[49m\u001b[43m(\u001b[49m\u001b[38;5;124;43m\"\u001b[39;49m\u001b[38;5;124;43ma\u001b[39;49m\u001b[38;5;124;43m\"\u001b[39;49m\u001b[43m,\u001b[49m\u001b[43m \u001b[49m\u001b[38;5;241;43m2.11\u001b[39;49m\u001b[43m)\u001b[49m\n",
      "\u001b[0;31mTypeError\u001b[0m: %d format: a real number is required, not str"
     ]
    }
   ],
   "source": [
    "\"a=%d b=%.2f\" % (\"a\", 2.11)"
   ]
  },
  {
   "cell_type": "code",
   "execution_count": 76,
   "id": "819b57d6",
   "metadata": {},
   "outputs": [
    {
     "data": {
      "text/plain": [
       "'a=a b=2.11'"
      ]
     },
     "execution_count": 76,
     "metadata": {},
     "output_type": "execute_result"
    }
   ],
   "source": [
    "\"a=%s b=%.2f\" % (\"a\", 2.11)"
   ]
  },
  {
   "cell_type": "code",
   "execution_count": 77,
   "id": "ee6d8ac6",
   "metadata": {},
   "outputs": [
    {
     "data": {
      "text/plain": [
       "'a=1 b=2'"
      ]
     },
     "execution_count": 77,
     "metadata": {},
     "output_type": "execute_result"
    }
   ],
   "source": [
    "\"a={} b={}\".format(1, 2)"
   ]
  },
  {
   "cell_type": "code",
   "execution_count": 78,
   "id": "9a2436be",
   "metadata": {},
   "outputs": [
    {
     "data": {
      "text/plain": [
       "'a=a b=2'"
      ]
     },
     "execution_count": 78,
     "metadata": {},
     "output_type": "execute_result"
    }
   ],
   "source": [
    "\"a={} b={}\".format(\"a\", 2)"
   ]
  },
  {
   "cell_type": "code",
   "execution_count": 79,
   "id": "940f3d6a",
   "metadata": {},
   "outputs": [
    {
     "data": {
      "text/plain": [
       "'a=a b=2.0000'"
      ]
     },
     "execution_count": 79,
     "metadata": {},
     "output_type": "execute_result"
    }
   ],
   "source": [
    "\"a={} b={:.4f}\".format(\"a\", 2)"
   ]
  },
  {
   "cell_type": "code",
   "execution_count": 80,
   "id": "355f1239",
   "metadata": {},
   "outputs": [
    {
     "ename": "ValueError",
     "evalue": "Unknown format code 'f' for object of type 'str'",
     "output_type": "error",
     "traceback": [
      "\u001b[0;31m---------------------------------------------------------------------------\u001b[0m",
      "\u001b[0;31mValueError\u001b[0m                                Traceback (most recent call last)",
      "Cell \u001b[0;32mIn[80], line 1\u001b[0m\n\u001b[0;32m----> 1\u001b[0m \u001b[38;5;124;43m\"\u001b[39;49m\u001b[38;5;124;43ma=\u001b[39;49m\u001b[38;5;132;43;01m{}\u001b[39;49;00m\u001b[38;5;124;43m b=\u001b[39;49m\u001b[38;5;132;43;01m{:.4f}\u001b[39;49;00m\u001b[38;5;124;43m\"\u001b[39;49m\u001b[38;5;241;43m.\u001b[39;49m\u001b[43mformat\u001b[49m\u001b[43m(\u001b[49m\u001b[38;5;124;43m\"\u001b[39;49m\u001b[38;5;124;43ma\u001b[39;49m\u001b[38;5;124;43m\"\u001b[39;49m\u001b[43m,\u001b[49m\u001b[43m \u001b[49m\u001b[38;5;124;43m\"\u001b[39;49m\u001b[38;5;124;43mb\u001b[39;49m\u001b[38;5;124;43m\"\u001b[39;49m\u001b[43m)\u001b[49m\n",
      "\u001b[0;31mValueError\u001b[0m: Unknown format code 'f' for object of type 'str'"
     ]
    }
   ],
   "source": [
    "\"a={} b={:.4f}\".format(\"a\", \"b\")"
   ]
  },
  {
   "cell_type": "code",
   "execution_count": 81,
   "id": "a69a4436",
   "metadata": {},
   "outputs": [
    {
     "data": {
      "text/plain": [
       "'a=a                b=2.0000'"
      ]
     },
     "execution_count": 81,
     "metadata": {},
     "output_type": "execute_result"
    }
   ],
   "source": [
    "\"a={:16} b={:.4f}\".format(\"a\", 2)"
   ]
  },
  {
   "cell_type": "code",
   "execution_count": 82,
   "id": "fbe6cea6",
   "metadata": {},
   "outputs": [
    {
     "data": {
      "text/plain": [
       "'a=       a         b=2.0000'"
      ]
     },
     "execution_count": 82,
     "metadata": {},
     "output_type": "execute_result"
    }
   ],
   "source": [
    "\"a={:^16} b={:.4f}\".format(\"a\", 2)"
   ]
  },
  {
   "cell_type": "code",
   "execution_count": 83,
   "id": "151ec7fd",
   "metadata": {},
   "outputs": [
    {
     "data": {
      "text/plain": [
       "'a=      abc        b=2.0000'"
      ]
     },
     "execution_count": 83,
     "metadata": {},
     "output_type": "execute_result"
    }
   ],
   "source": [
    "\"a={:^16} b={:.4f}\".format(\"abc\", 2)"
   ]
  },
  {
   "cell_type": "code",
   "execution_count": 85,
   "id": "8ac9c76c",
   "metadata": {},
   "outputs": [
    {
     "data": {
      "text/plain": [
       "'a=a                b=2.0000'"
      ]
     },
     "execution_count": 85,
     "metadata": {},
     "output_type": "execute_result"
    }
   ],
   "source": [
    "\"a={x:16} b={y:.4f}\".format( y=2, x=\"a\",)"
   ]
  },
  {
   "cell_type": "code",
   "execution_count": null,
   "id": "1d3428c9",
   "metadata": {},
   "outputs": [],
   "source": [
    "# f string"
   ]
  },
  {
   "cell_type": "code",
   "execution_count": 86,
   "id": "ba9edc6a",
   "metadata": {},
   "outputs": [],
   "source": [
    "x = \"a\"\n",
    "y = 10"
   ]
  },
  {
   "cell_type": "code",
   "execution_count": 87,
   "id": "ecdb0415",
   "metadata": {},
   "outputs": [
    {
     "data": {
      "text/plain": [
       "'a 10'"
      ]
     },
     "execution_count": 87,
     "metadata": {},
     "output_type": "execute_result"
    }
   ],
   "source": [
    "f\"{x} {y}\""
   ]
  },
  {
   "cell_type": "code",
   "execution_count": 88,
   "id": "2e5ae49b",
   "metadata": {},
   "outputs": [
    {
     "data": {
      "text/plain": [
       "'a 10.00'"
      ]
     },
     "execution_count": 88,
     "metadata": {},
     "output_type": "execute_result"
    }
   ],
   "source": [
    "f\"{x} {y:.2f}\""
   ]
  },
  {
   "cell_type": "code",
   "execution_count": 90,
   "id": "eab46794",
   "metadata": {},
   "outputs": [
    {
     "data": {
      "text/plain": [
       "'3 10.00'"
      ]
     },
     "execution_count": 90,
     "metadata": {},
     "output_type": "execute_result"
    }
   ],
   "source": [
    "f\"{1+2} {y:.2f}\" # proste wyrazenie w nawiasach"
   ]
  },
  {
   "cell_type": "markdown",
   "id": "60dacd7c",
   "metadata": {},
   "source": [
    "### zmienne w pythonie\n",
    "\n",
    "wymuszone:\n",
    "\n",
    "litery, liczby, znak _\n",
    "\n",
    "nie moga zaczynac sie od liczby\n",
    "\n",
    "dobre praktyki:\n",
    "\n",
    "snake_case\n",
    "\n",
    "male litery, slowa laczone podkresleniem\n",
    "\n",
    "\n",
    "DUZE LITERY SA DLa STALYCH\n"
   ]
  },
  {
   "cell_type": "code",
   "execution_count": 92,
   "id": "68e5c5aa",
   "metadata": {},
   "outputs": [],
   "source": [
    "zmienna = 1"
   ]
  },
  {
   "cell_type": "code",
   "execution_count": 95,
   "id": "71650d89",
   "metadata": {},
   "outputs": [
    {
     "ename": "SyntaxError",
     "evalue": "invalid decimal literal (327329793.py, line 1)",
     "output_type": "error",
     "traceback": [
      "\u001b[0;36m  Cell \u001b[0;32mIn[95], line 1\u001b[0;36m\u001b[0m\n\u001b[0;31m    1zmienna = 1\u001b[0m\n\u001b[0m    ^\u001b[0m\n\u001b[0;31mSyntaxError\u001b[0m\u001b[0;31m:\u001b[0m invalid decimal literal\n"
     ]
    }
   ],
   "source": [
    "1zmienna = 1"
   ]
  },
  {
   "cell_type": "code",
   "execution_count": 98,
   "id": "d626b661",
   "metadata": {},
   "outputs": [],
   "source": [
    "DEBUG = False"
   ]
  },
  {
   "cell_type": "code",
   "execution_count": 96,
   "id": "6b82cef6",
   "metadata": {},
   "outputs": [],
   "source": [
    "zmienna1 = 1"
   ]
  },
  {
   "cell_type": "code",
   "execution_count": 97,
   "id": "f80dc91a",
   "metadata": {},
   "outputs": [
    {
     "ename": "NameError",
     "evalue": "name 'ccc' is not defined",
     "output_type": "error",
     "traceback": [
      "\u001b[0;31m---------------------------------------------------------------------------\u001b[0m",
      "\u001b[0;31mNameError\u001b[0m                                 Traceback (most recent call last)",
      "Cell \u001b[0;32mIn[97], line 1\u001b[0m\n\u001b[0;32m----> 1\u001b[0m \u001b[43mccc\u001b[49m\n",
      "\u001b[0;31mNameError\u001b[0m: name 'ccc' is not defined"
     ]
    }
   ],
   "source": [
    "ccc"
   ]
  },
  {
   "cell_type": "code",
   "execution_count": null,
   "id": "04ffa3fb",
   "metadata": {},
   "outputs": [],
   "source": [
    "# proste zadanie\n",
    "\n",
    "utworz 3 zestawy zmiennych\n",
    "\n",
    "produkt, cena, waga\n",
    "\n",
    "chleb, 6.2, 2.5\n",
    "\n",
    "\n",
    "przypomnienie\n",
    "\n",
    "f\"{x:50} {y:6.2f}\"\n"
   ]
  },
  {
   "cell_type": "code",
   "execution_count": 99,
   "id": "e430234f",
   "metadata": {},
   "outputs": [
    {
     "data": {
      "text/plain": [
       "15.5"
      ]
     },
     "execution_count": 99,
     "metadata": {},
     "output_type": "execute_result"
    }
   ],
   "source": [
    "produkt_1 = \"chleb\"\n",
    "cena_1 = 6.2\n",
    "waga_1 = 2.5\n",
    "\n",
    "6.2 * 2.5"
   ]
  },
  {
   "cell_type": "code",
   "execution_count": null,
   "id": "46873405",
   "metadata": {},
   "outputs": [],
   "source": [
    "\"\"\"\n",
    "Raport\n",
    "chleb    2.5 kg  cena:   15.50 PLN\n",
    "Ogorek   1.1 kg. cena:    4.20 PLN\n",
    "\"\"\""
   ]
  },
  {
   "cell_type": "code",
   "execution_count": null,
   "id": "25d2285a",
   "metadata": {},
   "outputs": [],
   "source": []
  },
  {
   "cell_type": "code",
   "execution_count": null,
   "id": "e6aec1f1",
   "metadata": {},
   "outputs": [],
   "source": []
  },
  {
   "cell_type": "code",
   "execution_count": null,
   "id": "ac6b10f2",
   "metadata": {},
   "outputs": [],
   "source": []
  },
  {
   "cell_type": "code",
   "execution_count": null,
   "id": "b620f4e4",
   "metadata": {},
   "outputs": [],
   "source": []
  },
  {
   "cell_type": "code",
   "execution_count": null,
   "id": "231144eb",
   "metadata": {},
   "outputs": [],
   "source": []
  },
  {
   "cell_type": "code",
   "execution_count": null,
   "id": "86c4de44",
   "metadata": {},
   "outputs": [],
   "source": []
  },
  {
   "cell_type": "markdown",
   "id": "18698d6e",
   "metadata": {},
   "source": [
    "#### struktury danych\n",
    "\n",
    "krokta (tuple)"
   ]
  },
  {
   "cell_type": "code",
   "execution_count": 101,
   "id": "a3776649",
   "metadata": {},
   "outputs": [],
   "source": [
    "x = (1, 2, \"kot\", 4)"
   ]
  },
  {
   "cell_type": "code",
   "execution_count": 102,
   "id": "8ce30d3a",
   "metadata": {},
   "outputs": [
    {
     "data": {
      "text/plain": [
       "(1, 2, 3, 4)"
      ]
     },
     "execution_count": 102,
     "metadata": {},
     "output_type": "execute_result"
    }
   ],
   "source": [
    "x"
   ]
  },
  {
   "cell_type": "code",
   "execution_count": null,
   "id": "63b37023",
   "metadata": {},
   "outputs": [],
   "source": []
  },
  {
   "cell_type": "markdown",
   "id": "aec0b074",
   "metadata": {},
   "source": [
    "\n",
    "\n",
    "set\n",
    "\n",
    "(frozenset)\n",
    "\n",
    "dict"
   ]
  },
  {
   "cell_type": "code",
   "execution_count": null,
   "id": "a75fb895",
   "metadata": {},
   "outputs": [],
   "source": []
  },
  {
   "cell_type": "code",
   "execution_count": 4,
   "id": "eea4da03",
   "metadata": {},
   "outputs": [],
   "source": [
    "x = 1\n",
    "y = 2"
   ]
  },
  {
   "cell_type": "code",
   "execution_count": 5,
   "id": "de6cca23",
   "metadata": {},
   "outputs": [
    {
     "data": {
      "text/plain": [
       "3"
      ]
     },
     "execution_count": 5,
     "metadata": {},
     "output_type": "execute_result"
    }
   ],
   "source": [
    "x + y"
   ]
  },
  {
   "cell_type": "code",
   "execution_count": null,
   "id": "d1e3f689",
   "metadata": {},
   "outputs": [],
   "source": []
  },
  {
   "cell_type": "code",
   "execution_count": null,
   "id": "78db359e",
   "metadata": {},
   "outputs": [],
   "source": []
  },
  {
   "cell_type": "code",
   "execution_count": null,
   "id": "908b9c66",
   "metadata": {},
   "outputs": [],
   "source": []
  }
 ],
 "metadata": {
  "kernelspec": {
   "display_name": "Python 3 (ipykernel)",
   "language": "python",
   "name": "python3"
  },
  "language_info": {
   "codemirror_mode": {
    "name": "ipython",
    "version": 3
   },
   "file_extension": ".py",
   "mimetype": "text/x-python",
   "name": "python",
   "nbconvert_exporter": "python",
   "pygments_lexer": "ipython3",
   "version": "3.10.7"
  },
  "toc": {
   "base_numbering": 1,
   "nav_menu": {},
   "number_sections": true,
   "sideBar": true,
   "skip_h1_title": false,
   "title_cell": "Table of Contents",
   "title_sidebar": "Contents",
   "toc_cell": false,
   "toc_position": {},
   "toc_section_display": true,
   "toc_window_display": false
  }
 },
 "nbformat": 4,
 "nbformat_minor": 5
}

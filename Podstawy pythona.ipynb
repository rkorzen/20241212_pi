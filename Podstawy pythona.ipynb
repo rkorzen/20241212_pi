{
 "cells": [
  {
   "cell_type": "markdown",
   "id": "f35152c4",
   "metadata": {},
   "source": [
    "# Python podstawy\n",
    "\n",
    "## Jupyter\n",
    "\n",
    "\n",
    "### instalacja\n",
    "\n",
    "    pip install jupyter\n",
    "\n",
    "\n",
    "### uruchomienie\n",
    "\n",
    "\n",
    "    jupyter notebook\n",
    "\n",
    "### przydatne skróty\n",
    "\n",
    "\n",
    "`Esc` -  tryb polecen\n",
    "`Enter` - tryb edycji \n",
    "`shfit + Enter` - wykonuje bieżąca komórkę i przechodzi dalej\n",
    "\n",
    "```python\n",
    "# fragmen skryputu\n",
    "\n",
    "def foo():\n",
    "    print(10)\n",
    "\n",
    "```\n",
    "\n",
    "* A\n",
    "* B\n",
    "\n",
    "\n",
    "| A | B |\n",
    "|---|---|\n",
    "| 1 |2 |\n",
    "\n",
    "\n",
    "$x=1$"
   ]
  },
  {
   "cell_type": "markdown",
   "id": "644ffaad",
   "metadata": {},
   "source": [
    "# Python\n",
    "\n",
    "## Podstawowe typy wbudowane w pythona\n",
    "\n",
    "### typy proste\n",
    "\n",
    "#### liczby\n",
    "\n",
    "int"
   ]
  },
  {
   "cell_type": "code",
   "execution_count": 6,
   "id": "d32b6cda",
   "metadata": {},
   "outputs": [
    {
     "data": {
      "text/plain": [
       "1000000"
      ]
     },
     "execution_count": 6,
     "metadata": {},
     "output_type": "execute_result"
    }
   ],
   "source": [
    "1, 2\n",
    "\n",
    "1000000\n",
    "\n",
    "1_000_000"
   ]
  },
  {
   "cell_type": "code",
   "execution_count": 8,
   "id": "4e5fda53",
   "metadata": {},
   "outputs": [
    {
     "data": {
      "text/plain": [
       "15"
      ]
     },
     "execution_count": 8,
     "metadata": {},
     "output_type": "execute_result"
    }
   ],
   "source": [
    "0b1111  # system dwojkowy"
   ]
  },
  {
   "cell_type": "code",
   "execution_count": 9,
   "id": "16d7ebf5",
   "metadata": {},
   "outputs": [
    {
     "data": {
      "text/plain": [
       "63"
      ]
     },
     "execution_count": 9,
     "metadata": {},
     "output_type": "execute_result"
    }
   ],
   "source": [
    "0o77"
   ]
  },
  {
   "cell_type": "code",
   "execution_count": 10,
   "id": "e28750ea",
   "metadata": {},
   "outputs": [
    {
     "data": {
      "text/plain": [
       "31"
      ]
     },
     "execution_count": 10,
     "metadata": {},
     "output_type": "execute_result"
    }
   ],
   "source": [
    "0x1f"
   ]
  },
  {
   "cell_type": "code",
   "execution_count": null,
   "id": "d44b715d",
   "metadata": {},
   "outputs": [],
   "source": []
  },
  {
   "cell_type": "markdown",
   "id": "96df7e4f",
   "metadata": {},
   "source": [
    "float\n",
    "\n",
    "\n",
    "https://docs.python.org/3/tutorial/floatingpoint.html\n",
    "\n",
    "https://pywaw.org/105/\n",
    "\n"
   ]
  },
  {
   "cell_type": "code",
   "execution_count": 11,
   "id": "551f1dbf",
   "metadata": {},
   "outputs": [
    {
     "data": {
      "text/plain": [
       "2.1"
      ]
     },
     "execution_count": 11,
     "metadata": {},
     "output_type": "execute_result"
    }
   ],
   "source": [
    "2.1"
   ]
  },
  {
   "cell_type": "code",
   "execution_count": 12,
   "id": "9140f126",
   "metadata": {},
   "outputs": [
    {
     "data": {
      "text/plain": [
       "0.8333333333333334"
      ]
     },
     "execution_count": 12,
     "metadata": {},
     "output_type": "execute_result"
    }
   ],
   "source": [
    "5 / 6"
   ]
  },
  {
   "cell_type": "code",
   "execution_count": 13,
   "id": "b5e82240",
   "metadata": {},
   "outputs": [
    {
     "data": {
      "text/plain": [
       "False"
      ]
     },
     "execution_count": 13,
     "metadata": {},
     "output_type": "execute_result"
    }
   ],
   "source": [
    "0.1 + 0.1 + 0.1 == 0.3"
   ]
  },
  {
   "cell_type": "code",
   "execution_count": 14,
   "id": "eb1e9c99",
   "metadata": {},
   "outputs": [
    {
     "data": {
      "text/plain": [
       "(inf, -inf, nan)"
      ]
     },
     "execution_count": 14,
     "metadata": {},
     "output_type": "execute_result"
    }
   ],
   "source": [
    "float(\"Inf\"), float(\"-Inf\"), float(\"nan\")"
   ]
  },
  {
   "cell_type": "code",
   "execution_count": 15,
   "id": "939c179c",
   "metadata": {},
   "outputs": [
    {
     "data": {
      "text/plain": [
       "1.79e+308"
      ]
     },
     "execution_count": 15,
     "metadata": {},
     "output_type": "execute_result"
    }
   ],
   "source": [
    "1.79e308"
   ]
  },
  {
   "cell_type": "code",
   "execution_count": null,
   "id": "6a3cf739",
   "metadata": {},
   "outputs": [],
   "source": []
  },
  {
   "cell_type": "code",
   "execution_count": 16,
   "id": "cc0cfa56",
   "metadata": {},
   "outputs": [
    {
     "data": {
      "text/plain": [
       "inf"
      ]
     },
     "execution_count": 16,
     "metadata": {},
     "output_type": "execute_result"
    }
   ],
   "source": [
    "1.8e308"
   ]
  },
  {
   "cell_type": "code",
   "execution_count": 17,
   "id": "e0f8fb2f",
   "metadata": {},
   "outputs": [
    {
     "data": {
      "text/plain": [
       "4.5e+57"
      ]
     },
     "execution_count": 17,
     "metadata": {},
     "output_type": "execute_result"
    }
   ],
   "source": [
    "45e56"
   ]
  },
  {
   "cell_type": "code",
   "execution_count": 18,
   "id": "e29a1232",
   "metadata": {},
   "outputs": [
    {
     "data": {
      "text/plain": [
       "2000000.0"
      ]
     },
     "execution_count": 18,
     "metadata": {},
     "output_type": "execute_result"
    }
   ],
   "source": [
    "2.e6"
   ]
  },
  {
   "cell_type": "markdown",
   "id": "62774337",
   "metadata": {},
   "source": []
  },
  {
   "cell_type": "markdown",
   "id": "c7f4fed3",
   "metadata": {},
   "source": [
    "complex - liczby zespolone"
   ]
  },
  {
   "cell_type": "code",
   "execution_count": 19,
   "id": "643fe104",
   "metadata": {},
   "outputs": [
    {
     "data": {
      "text/plain": [
       "(1+2j)"
      ]
     },
     "execution_count": 19,
     "metadata": {},
     "output_type": "execute_result"
    }
   ],
   "source": [
    "1 +2j"
   ]
  },
  {
   "cell_type": "code",
   "execution_count": 20,
   "id": "07033e58",
   "metadata": {},
   "outputs": [
    {
     "data": {
      "text/plain": [
       "(24+6j)"
      ]
     },
     "execution_count": 20,
     "metadata": {},
     "output_type": "execute_result"
    }
   ],
   "source": [
    "(1+2j) + (23+4j)"
   ]
  },
  {
   "cell_type": "markdown",
   "id": "622c1b8c",
   "metadata": {},
   "source": [
    "#### operatory arytmeyczne\n",
    "\n",
    "```\n",
    "+ - *\n",
    "\n",
    "/  - dzielenie (true div)\n",
    "\n",
    "// - dzielenie calkowite\n",
    "\n",
    "% - dzielenie modulo\n",
    "\n",
    "** - potegowanie\n",
    "```\n"
   ]
  },
  {
   "cell_type": "markdown",
   "id": "46ef0a80",
   "metadata": {},
   "source": [
    "#### operatory porownania\n",
    "\n",
    "```\n",
    "==  - rowna sie\n",
    "\n",
    ">\n",
    "<\n",
    "\n",
    ">=\n",
    "\n",
    "<=\n",
    "\n",
    "\n",
    "```\n"
   ]
  },
  {
   "cell_type": "markdown",
   "id": "5419691b",
   "metadata": {},
   "source": [
    "#### operatory przypisania\n",
    "\n",
    "```\n",
    "= \n",
    "\n",
    "+=\n",
    "-=\n",
    "/=\n",
    "```\n"
   ]
  },
  {
   "cell_type": "code",
   "execution_count": 34,
   "id": "b4a281b1",
   "metadata": {},
   "outputs": [
    {
     "data": {
      "text/plain": [
       "3"
      ]
     },
     "execution_count": 34,
     "metadata": {},
     "output_type": "execute_result"
    }
   ],
   "source": [
    "x = 1\n",
    "\n",
    "x += 2  # x = x + 2 \n",
    "x"
   ]
  },
  {
   "cell_type": "code",
   "execution_count": null,
   "id": "e0de2892",
   "metadata": {},
   "outputs": [],
   "source": []
  },
  {
   "cell_type": "code",
   "execution_count": 26,
   "id": "9e264e99",
   "metadata": {},
   "outputs": [
    {
     "data": {
      "text/plain": [
       "0.5"
      ]
     },
     "execution_count": 26,
     "metadata": {},
     "output_type": "execute_result"
    }
   ],
   "source": [
    "1 / 2"
   ]
  },
  {
   "cell_type": "code",
   "execution_count": 27,
   "id": "94de1b15",
   "metadata": {},
   "outputs": [
    {
     "data": {
      "text/plain": [
       "0"
      ]
     },
     "execution_count": 27,
     "metadata": {},
     "output_type": "execute_result"
    }
   ],
   "source": [
    "1 // 2"
   ]
  },
  {
   "cell_type": "code",
   "execution_count": 28,
   "id": "20f27314",
   "metadata": {},
   "outputs": [
    {
     "data": {
      "text/plain": [
       "1"
      ]
     },
     "execution_count": 28,
     "metadata": {},
     "output_type": "execute_result"
    }
   ],
   "source": [
    "1 % 2"
   ]
  },
  {
   "cell_type": "code",
   "execution_count": 29,
   "id": "09b8533a",
   "metadata": {},
   "outputs": [
    {
     "data": {
      "text/plain": [
       "1"
      ]
     },
     "execution_count": 29,
     "metadata": {},
     "output_type": "execute_result"
    }
   ],
   "source": [
    "5%2"
   ]
  },
  {
   "cell_type": "code",
   "execution_count": 30,
   "id": "aef75b14",
   "metadata": {},
   "outputs": [
    {
     "data": {
      "text/plain": [
       "2"
      ]
     },
     "execution_count": 30,
     "metadata": {},
     "output_type": "execute_result"
    }
   ],
   "source": [
    "5 // 2"
   ]
  },
  {
   "cell_type": "markdown",
   "id": "25bde05f",
   "metadata": {},
   "source": [
    "#### typ logiczny\n",
    "\n",
    "bool\n",
    "\n",
    "##### operatory logiczne \n",
    "\n",
    "    or and not"
   ]
  },
  {
   "cell_type": "code",
   "execution_count": 35,
   "id": "21009049",
   "metadata": {},
   "outputs": [
    {
     "data": {
      "text/plain": [
       "True"
      ]
     },
     "execution_count": 35,
     "metadata": {},
     "output_type": "execute_result"
    }
   ],
   "source": [
    "True or False"
   ]
  },
  {
   "cell_type": "code",
   "execution_count": 36,
   "id": "75d7e769",
   "metadata": {},
   "outputs": [
    {
     "data": {
      "text/plain": [
       "False"
      ]
     },
     "execution_count": 36,
     "metadata": {},
     "output_type": "execute_result"
    }
   ],
   "source": [
    "False and False"
   ]
  },
  {
   "cell_type": "code",
   "execution_count": 37,
   "id": "3424cde5",
   "metadata": {},
   "outputs": [
    {
     "data": {
      "text/plain": [
       "False"
      ]
     },
     "execution_count": 37,
     "metadata": {},
     "output_type": "execute_result"
    }
   ],
   "source": [
    "False and True"
   ]
  },
  {
   "cell_type": "code",
   "execution_count": 38,
   "id": "c8231a3c",
   "metadata": {},
   "outputs": [
    {
     "data": {
      "text/plain": [
       "False"
      ]
     },
     "execution_count": 38,
     "metadata": {},
     "output_type": "execute_result"
    }
   ],
   "source": [
    "not True"
   ]
  },
  {
   "cell_type": "code",
   "execution_count": 21,
   "id": "64c51a74",
   "metadata": {},
   "outputs": [
    {
     "data": {
      "text/plain": [
       "(False, True)"
      ]
     },
     "execution_count": 21,
     "metadata": {},
     "output_type": "execute_result"
    }
   ],
   "source": [
    "False, True"
   ]
  },
  {
   "cell_type": "code",
   "execution_count": 22,
   "id": "bd16ff88",
   "metadata": {},
   "outputs": [
    {
     "data": {
      "text/plain": [
       "2"
      ]
     },
     "execution_count": 22,
     "metadata": {},
     "output_type": "execute_result"
    }
   ],
   "source": [
    "1 + True"
   ]
  },
  {
   "cell_type": "markdown",
   "id": "3c761b6a",
   "metadata": {},
   "source": [
    "#### operator tożsamości - is\n",
    "\n",
    "    is"
   ]
  },
  {
   "cell_type": "code",
   "execution_count": 23,
   "id": "2b91c78e",
   "metadata": {},
   "outputs": [
    {
     "data": {
      "text/plain": [
       "True"
      ]
     },
     "execution_count": 23,
     "metadata": {},
     "output_type": "execute_result"
    }
   ],
   "source": [
    "True == 1"
   ]
  },
  {
   "cell_type": "code",
   "execution_count": 39,
   "id": "76a52bcb",
   "metadata": {},
   "outputs": [
    {
     "name": "stderr",
     "output_type": "stream",
     "text": [
      "<>:1: SyntaxWarning: \"is\" with a literal. Did you mean \"==\"?\n",
      "<>:1: SyntaxWarning: \"is\" with a literal. Did you mean \"==\"?\n",
      "/var/folders/8l/t3zs7y694s5g088bzybz9czc0000gn/T/ipykernel_55155/3482963539.py:1: SyntaxWarning: \"is\" with a literal. Did you mean \"==\"?\n",
      "  1 is True\n"
     ]
    },
    {
     "data": {
      "text/plain": [
       "False"
      ]
     },
     "execution_count": 39,
     "metadata": {},
     "output_type": "execute_result"
    }
   ],
   "source": [
    "1 is True"
   ]
  },
  {
   "cell_type": "code",
   "execution_count": 24,
   "id": "adf10ccf",
   "metadata": {},
   "outputs": [
    {
     "ename": "ZeroDivisionError",
     "evalue": "division by zero",
     "output_type": "error",
     "traceback": [
      "\u001b[0;31m---------------------------------------------------------------------------\u001b[0m",
      "\u001b[0;31mZeroDivisionError\u001b[0m                         Traceback (most recent call last)",
      "Cell \u001b[0;32mIn[24], line 1\u001b[0m\n\u001b[0;32m----> 1\u001b[0m \u001b[38;5;241;43m1\u001b[39;49m\u001b[43m \u001b[49m\u001b[38;5;241;43m/\u001b[39;49m\u001b[43m \u001b[49m\u001b[38;5;28;43;01mFalse\u001b[39;49;00m\n",
      "\u001b[0;31mZeroDivisionError\u001b[0m: division by zero"
     ]
    }
   ],
   "source": [
    "1 / False"
   ]
  },
  {
   "cell_type": "code",
   "execution_count": null,
   "id": "84a89347",
   "metadata": {},
   "outputs": [],
   "source": []
  },
  {
   "cell_type": "code",
   "execution_count": null,
   "id": "20d3516d",
   "metadata": {},
   "outputs": [],
   "source": []
  },
  {
   "cell_type": "markdown",
   "id": "87676ccf",
   "metadata": {},
   "source": [
    "#### bytes\n",
    "\n",
    "bytes\n",
    "\n",
    "(bytearray)"
   ]
  },
  {
   "cell_type": "code",
   "execution_count": 59,
   "id": "0c61a1db",
   "metadata": {},
   "outputs": [
    {
     "data": {
      "text/plain": [
       "b'znaki ascii'"
      ]
     },
     "execution_count": 59,
     "metadata": {},
     "output_type": "execute_result"
    }
   ],
   "source": [
    "b\"znaki ascii\"\n",
    "\n"
   ]
  },
  {
   "cell_type": "code",
   "execution_count": 60,
   "id": "d8ee2156",
   "metadata": {
    "scrolled": true
   },
   "outputs": [
    {
     "ename": "SyntaxError",
     "evalue": "bytes can only contain ASCII literal characters (3021489960.py, line 1)",
     "output_type": "error",
     "traceback": [
      "\u001b[0;36m  Cell \u001b[0;32mIn[60], line 1\u001b[0;36m\u001b[0m\n\u001b[0;31m    b\"ą\"\u001b[0m\n\u001b[0m        ^\u001b[0m\n\u001b[0;31mSyntaxError\u001b[0m\u001b[0;31m:\u001b[0m bytes can only contain ASCII literal characters\n"
     ]
    }
   ],
   "source": [
    "b\"ą\""
   ]
  },
  {
   "cell_type": "code",
   "execution_count": 58,
   "id": "2aa8e75e",
   "metadata": {},
   "outputs": [
    {
     "data": {
      "text/plain": [
       "b'\\xc4\\x85'"
      ]
     },
     "execution_count": 58,
     "metadata": {},
     "output_type": "execute_result"
    }
   ],
   "source": [
    "\"ą\".encode()"
   ]
  },
  {
   "cell_type": "markdown",
   "id": "9c3e14d8",
   "metadata": {},
   "source": [
    "#### napisy\n",
    "\n",
    "\n",
    "to chodzi parami:\n",
    "\n",
    "    \"\n",
    "    '\n",
    "    \"\"\"\n",
    "    '''\n",
    "\n",
    "str\n",
    "\n",
    "napisy są unicodem\n",
    "\n",
    "a drukowane sa w oparciu o kodowanie tego unicode\n",
    "\n"
   ]
  },
  {
   "cell_type": "code",
   "execution_count": 44,
   "id": "49c26090",
   "metadata": {},
   "outputs": [
    {
     "data": {
      "text/plain": [
       "'napis to ciag znakow miedzy '"
      ]
     },
     "execution_count": 44,
     "metadata": {},
     "output_type": "execute_result"
    }
   ],
   "source": [
    "\"napis to ciag znakow miedzy \"\n"
   ]
  },
  {
   "cell_type": "code",
   "execution_count": 45,
   "id": "4903cc74",
   "metadata": {},
   "outputs": [
    {
     "data": {
      "text/plain": [
       "'napis to ciag znakow miedzy '"
      ]
     },
     "execution_count": 45,
     "metadata": {},
     "output_type": "execute_result"
    }
   ],
   "source": [
    "'napis to ciag znakow miedzy '"
   ]
  },
  {
   "cell_type": "code",
   "execution_count": 61,
   "id": "697c52c7",
   "metadata": {},
   "outputs": [
    {
     "ename": "SyntaxError",
     "evalue": "invalid syntax (1104355040.py, line 1)",
     "output_type": "error",
     "traceback": [
      "\u001b[0;36m  Cell \u001b[0;32mIn[61], line 1\u001b[0;36m\u001b[0m\n\u001b[0;31m    \"napis to ciag \"znakow\" miedzy \"\u001b[0m\n\u001b[0m                    ^\u001b[0m\n\u001b[0;31mSyntaxError\u001b[0m\u001b[0;31m:\u001b[0m invalid syntax\n"
     ]
    }
   ],
   "source": [
    "\"napis to ciag \"znakow\" miedzy \""
   ]
  },
  {
   "cell_type": "code",
   "execution_count": 62,
   "id": "a8b3d499",
   "metadata": {},
   "outputs": [
    {
     "data": {
      "text/plain": [
       "'napis to ciag \"znakow\" miedzy '"
      ]
     },
     "execution_count": 62,
     "metadata": {},
     "output_type": "execute_result"
    }
   ],
   "source": [
    "'napis to ciag \"znakow\" miedzy '"
   ]
  },
  {
   "cell_type": "code",
   "execution_count": 63,
   "id": "c36be28e",
   "metadata": {},
   "outputs": [
    {
     "data": {
      "text/plain": [
       "'napis to ciag \"znakow\" miedzy '"
      ]
     },
     "execution_count": 63,
     "metadata": {},
     "output_type": "execute_result"
    }
   ],
   "source": [
    "\"napis to ciag \\\"znakow\\\" miedzy \""
   ]
  },
  {
   "cell_type": "code",
   "execution_count": 64,
   "id": "c21841ad",
   "metadata": {},
   "outputs": [
    {
     "data": {
      "text/plain": [
       "'ala\\tkot'"
      ]
     },
     "execution_count": 64,
     "metadata": {},
     "output_type": "execute_result"
    }
   ],
   "source": [
    "\"ala\\tkot\""
   ]
  },
  {
   "cell_type": "code",
   "execution_count": 65,
   "id": "a87ad2be",
   "metadata": {},
   "outputs": [
    {
     "name": "stdout",
     "output_type": "stream",
     "text": [
      "ala\tkot\n"
     ]
    }
   ],
   "source": [
    "print(\"ala\\tkot\")"
   ]
  },
  {
   "cell_type": "code",
   "execution_count": 66,
   "id": "57c01edc",
   "metadata": {},
   "outputs": [
    {
     "name": "stdout",
     "output_type": "stream",
     "text": [
      "ala\\tkot\n"
     ]
    }
   ],
   "source": [
    "print(\"ala\\\\tkot\")"
   ]
  },
  {
   "cell_type": "code",
   "execution_count": 46,
   "id": "2f3c881a",
   "metadata": {},
   "outputs": [
    {
     "data": {
      "text/plain": [
       "'\\nlinijka1\\nlinijka2\\n'"
      ]
     },
     "execution_count": 46,
     "metadata": {},
     "output_type": "execute_result"
    }
   ],
   "source": [
    "\"\"\"\n",
    "linijka1\n",
    "linijka2\n",
    "\"\"\""
   ]
  },
  {
   "cell_type": "code",
   "execution_count": 49,
   "id": "f877429c",
   "metadata": {},
   "outputs": [
    {
     "data": {
      "text/plain": [
       "'linijka1linijka2'"
      ]
     },
     "execution_count": 49,
     "metadata": {},
     "output_type": "execute_result"
    }
   ],
   "source": [
    "(\n",
    "    \"linijka1\" \n",
    "    \"linijka2\"\n",
    ")\n"
   ]
  },
  {
   "cell_type": "code",
   "execution_count": 50,
   "id": "1d37d5ab",
   "metadata": {},
   "outputs": [
    {
     "data": {
      "text/plain": [
       "'l1\\nl2'"
      ]
     },
     "execution_count": 50,
     "metadata": {},
     "output_type": "execute_result"
    }
   ],
   "source": [
    "\"l1\\nl2\""
   ]
  },
  {
   "cell_type": "code",
   "execution_count": 51,
   "id": "3da1e5e6",
   "metadata": {},
   "outputs": [
    {
     "name": "stdout",
     "output_type": "stream",
     "text": [
      "l1\n",
      "l2\n"
     ]
    }
   ],
   "source": [
    "print(\"l1\\nl2\")"
   ]
  },
  {
   "cell_type": "code",
   "execution_count": 52,
   "id": "1c804d15",
   "metadata": {},
   "outputs": [
    {
     "data": {
      "text/plain": [
       "'12'"
      ]
     },
     "execution_count": 52,
     "metadata": {},
     "output_type": "execute_result"
    }
   ],
   "source": [
    "\"1\" + \"2\""
   ]
  },
  {
   "cell_type": "code",
   "execution_count": 55,
   "id": "29d815c1",
   "metadata": {},
   "outputs": [
    {
     "ename": "TypeError",
     "evalue": "can only concatenate str (not \"int\") to str",
     "output_type": "error",
     "traceback": [
      "\u001b[0;31m---------------------------------------------------------------------------\u001b[0m",
      "\u001b[0;31mTypeError\u001b[0m                                 Traceback (most recent call last)",
      "Cell \u001b[0;32mIn[55], line 1\u001b[0m\n\u001b[0;32m----> 1\u001b[0m \u001b[38;5;124;43m\"\u001b[39;49m\u001b[38;5;124;43m1\u001b[39;49m\u001b[38;5;124;43m\"\u001b[39;49m\u001b[43m \u001b[49m\u001b[38;5;241;43m+\u001b[39;49m\u001b[43m  \u001b[49m\u001b[38;5;241;43m2\u001b[39;49m \u001b[38;5;66;03m# blad poniewaz python jest jezykiem silnie typowanym\u001b[39;00m\n",
      "\u001b[0;31mTypeError\u001b[0m: can only concatenate str (not \"int\") to str"
     ]
    }
   ],
   "source": [
    "\"1\" +  2 # blad poniewaz python jest jezykiem silnie typowanym"
   ]
  },
  {
   "cell_type": "code",
   "execution_count": 54,
   "id": "c346a70d",
   "metadata": {},
   "outputs": [
    {
     "data": {
      "text/plain": [
       "'1111111111'"
      ]
     },
     "execution_count": 54,
     "metadata": {},
     "output_type": "execute_result"
    }
   ],
   "source": [
    "\"1\" * 10"
   ]
  },
  {
   "cell_type": "markdown",
   "id": "4290c9ca",
   "metadata": {},
   "source": [
    "#### Formatowanie napisów"
   ]
  },
  {
   "cell_type": "code",
   "execution_count": 69,
   "id": "d532ca4b",
   "metadata": {},
   "outputs": [
    {
     "data": {
      "text/plain": [
       "'a=1 b=2'"
      ]
     },
     "execution_count": 69,
     "metadata": {},
     "output_type": "execute_result"
    }
   ],
   "source": [
    "\"a=%d b=%d\" % (1, 2)"
   ]
  },
  {
   "cell_type": "code",
   "execution_count": 70,
   "id": "02ac29ae",
   "metadata": {},
   "outputs": [
    {
     "data": {
      "text/plain": [
       "'a=1 b=2'"
      ]
     },
     "execution_count": 70,
     "metadata": {},
     "output_type": "execute_result"
    }
   ],
   "source": [
    "\"a=%d b=%d\" % (1, 2.11)"
   ]
  },
  {
   "cell_type": "code",
   "execution_count": 73,
   "id": "6fd49466",
   "metadata": {},
   "outputs": [
    {
     "data": {
      "text/plain": [
       "'a=1 b=2.11'"
      ]
     },
     "execution_count": 73,
     "metadata": {},
     "output_type": "execute_result"
    }
   ],
   "source": [
    "\"a=%d b=%f\" % (1, 2.11)"
   ]
  },
  {
   "cell_type": "code",
   "execution_count": 74,
   "id": "6d344c9a",
   "metadata": {},
   "outputs": [
    {
     "data": {
      "text/plain": [
       "'a=1 b=2.11'"
      ]
     },
     "execution_count": 74,
     "metadata": {},
     "output_type": "execute_result"
    }
   ],
   "source": [
    "\"a=%d b=%.2f\" % (1, 2.11)"
   ]
  },
  {
   "cell_type": "code",
   "execution_count": 75,
   "id": "66db133e",
   "metadata": {},
   "outputs": [
    {
     "ename": "TypeError",
     "evalue": "%d format: a real number is required, not str",
     "output_type": "error",
     "traceback": [
      "\u001b[0;31m---------------------------------------------------------------------------\u001b[0m",
      "\u001b[0;31mTypeError\u001b[0m                                 Traceback (most recent call last)",
      "Cell \u001b[0;32mIn[75], line 1\u001b[0m\n\u001b[0;32m----> 1\u001b[0m \u001b[38;5;124;43m\"\u001b[39;49m\u001b[38;5;124;43ma=\u001b[39;49m\u001b[38;5;132;43;01m%d\u001b[39;49;00m\u001b[38;5;124;43m b=\u001b[39;49m\u001b[38;5;132;43;01m%.2f\u001b[39;49;00m\u001b[38;5;124;43m\"\u001b[39;49m\u001b[43m \u001b[49m\u001b[38;5;241;43m%\u001b[39;49m\u001b[43m \u001b[49m\u001b[43m(\u001b[49m\u001b[38;5;124;43m\"\u001b[39;49m\u001b[38;5;124;43ma\u001b[39;49m\u001b[38;5;124;43m\"\u001b[39;49m\u001b[43m,\u001b[49m\u001b[43m \u001b[49m\u001b[38;5;241;43m2.11\u001b[39;49m\u001b[43m)\u001b[49m\n",
      "\u001b[0;31mTypeError\u001b[0m: %d format: a real number is required, not str"
     ]
    }
   ],
   "source": [
    "\"a=%d b=%.2f\" % (\"a\", 2.11)"
   ]
  },
  {
   "cell_type": "code",
   "execution_count": 76,
   "id": "5a5d02e8",
   "metadata": {},
   "outputs": [
    {
     "data": {
      "text/plain": [
       "'a=a b=2.11'"
      ]
     },
     "execution_count": 76,
     "metadata": {},
     "output_type": "execute_result"
    }
   ],
   "source": [
    "\"a=%s b=%.2f\" % (\"a\", 2.11)"
   ]
  },
  {
   "cell_type": "code",
   "execution_count": 77,
   "id": "a904c069",
   "metadata": {},
   "outputs": [
    {
     "data": {
      "text/plain": [
       "'a=1 b=2'"
      ]
     },
     "execution_count": 77,
     "metadata": {},
     "output_type": "execute_result"
    }
   ],
   "source": [
    "\"a={} b={}\".format(1, 2)"
   ]
  },
  {
   "cell_type": "code",
   "execution_count": 78,
   "id": "a0ade90d",
   "metadata": {},
   "outputs": [
    {
     "data": {
      "text/plain": [
       "'a=a b=2'"
      ]
     },
     "execution_count": 78,
     "metadata": {},
     "output_type": "execute_result"
    }
   ],
   "source": [
    "\"a={} b={}\".format(\"a\", 2)"
   ]
  },
  {
   "cell_type": "code",
   "execution_count": 79,
   "id": "06046497",
   "metadata": {},
   "outputs": [
    {
     "data": {
      "text/plain": [
       "'a=a b=2.0000'"
      ]
     },
     "execution_count": 79,
     "metadata": {},
     "output_type": "execute_result"
    }
   ],
   "source": [
    "\"a={} b={:.4f}\".format(\"a\", 2)"
   ]
  },
  {
   "cell_type": "code",
   "execution_count": 80,
   "id": "cfd96c66",
   "metadata": {},
   "outputs": [
    {
     "ename": "ValueError",
     "evalue": "Unknown format code 'f' for object of type 'str'",
     "output_type": "error",
     "traceback": [
      "\u001b[0;31m---------------------------------------------------------------------------\u001b[0m",
      "\u001b[0;31mValueError\u001b[0m                                Traceback (most recent call last)",
      "Cell \u001b[0;32mIn[80], line 1\u001b[0m\n\u001b[0;32m----> 1\u001b[0m \u001b[38;5;124;43m\"\u001b[39;49m\u001b[38;5;124;43ma=\u001b[39;49m\u001b[38;5;132;43;01m{}\u001b[39;49;00m\u001b[38;5;124;43m b=\u001b[39;49m\u001b[38;5;132;43;01m{:.4f}\u001b[39;49;00m\u001b[38;5;124;43m\"\u001b[39;49m\u001b[38;5;241;43m.\u001b[39;49m\u001b[43mformat\u001b[49m\u001b[43m(\u001b[49m\u001b[38;5;124;43m\"\u001b[39;49m\u001b[38;5;124;43ma\u001b[39;49m\u001b[38;5;124;43m\"\u001b[39;49m\u001b[43m,\u001b[49m\u001b[43m \u001b[49m\u001b[38;5;124;43m\"\u001b[39;49m\u001b[38;5;124;43mb\u001b[39;49m\u001b[38;5;124;43m\"\u001b[39;49m\u001b[43m)\u001b[49m\n",
      "\u001b[0;31mValueError\u001b[0m: Unknown format code 'f' for object of type 'str'"
     ]
    }
   ],
   "source": [
    "\"a={} b={:.4f}\".format(\"a\", \"b\")"
   ]
  },
  {
   "cell_type": "code",
   "execution_count": 81,
   "id": "c04af711",
   "metadata": {},
   "outputs": [
    {
     "data": {
      "text/plain": [
       "'a=a                b=2.0000'"
      ]
     },
     "execution_count": 81,
     "metadata": {},
     "output_type": "execute_result"
    }
   ],
   "source": [
    "\"a={:16} b={:.4f}\".format(\"a\", 2)"
   ]
  },
  {
   "cell_type": "code",
   "execution_count": 82,
   "id": "df896218",
   "metadata": {},
   "outputs": [
    {
     "data": {
      "text/plain": [
       "'a=       a         b=2.0000'"
      ]
     },
     "execution_count": 82,
     "metadata": {},
     "output_type": "execute_result"
    }
   ],
   "source": [
    "\"a={:^16} b={:.4f}\".format(\"a\", 2)"
   ]
  },
  {
   "cell_type": "code",
   "execution_count": 83,
   "id": "040daa11",
   "metadata": {},
   "outputs": [
    {
     "data": {
      "text/plain": [
       "'a=      abc        b=2.0000'"
      ]
     },
     "execution_count": 83,
     "metadata": {},
     "output_type": "execute_result"
    }
   ],
   "source": [
    "\"a={:^16} b={:.4f}\".format(\"abc\", 2)"
   ]
  },
  {
   "cell_type": "code",
   "execution_count": 85,
   "id": "b14cf23b",
   "metadata": {},
   "outputs": [
    {
     "data": {
      "text/plain": [
       "'a=a                b=2.0000'"
      ]
     },
     "execution_count": 85,
     "metadata": {},
     "output_type": "execute_result"
    }
   ],
   "source": [
    "\"a={x:16} b={y:.4f}\".format( y=2, x=\"a\",)"
   ]
  },
  {
   "cell_type": "code",
   "execution_count": null,
   "id": "73905e15",
   "metadata": {},
   "outputs": [],
   "source": [
    "# f string"
   ]
  },
  {
   "cell_type": "code",
   "execution_count": 86,
   "id": "5593980d",
   "metadata": {},
   "outputs": [],
   "source": [
    "x = \"a\"\n",
    "y = 10"
   ]
  },
  {
   "cell_type": "code",
   "execution_count": 87,
   "id": "120c89fa",
   "metadata": {},
   "outputs": [
    {
     "data": {
      "text/plain": [
       "'a 10'"
      ]
     },
     "execution_count": 87,
     "metadata": {},
     "output_type": "execute_result"
    }
   ],
   "source": [
    "f\"{x} {y}\""
   ]
  },
  {
   "cell_type": "code",
   "execution_count": 88,
   "id": "a91c93b6",
   "metadata": {},
   "outputs": [
    {
     "data": {
      "text/plain": [
       "'a 10.00'"
      ]
     },
     "execution_count": 88,
     "metadata": {},
     "output_type": "execute_result"
    }
   ],
   "source": [
    "f\"{x} {y:.2f}\""
   ]
  },
  {
   "cell_type": "code",
   "execution_count": 90,
   "id": "fb8b9ded",
   "metadata": {},
   "outputs": [
    {
     "data": {
      "text/plain": [
       "'3 10.00'"
      ]
     },
     "execution_count": 90,
     "metadata": {},
     "output_type": "execute_result"
    }
   ],
   "source": [
    "f\"{1+2} {y:.2f}\" # proste wyrazenie w nawiasach"
   ]
  },
  {
   "cell_type": "markdown",
   "id": "73c20965",
   "metadata": {},
   "source": [
    "### zmienne w pythonie\n",
    "\n",
    "wymuszone:\n",
    "\n",
    "litery, liczby, znak _\n",
    "\n",
    "nie moga zaczynac sie od liczby\n",
    "\n",
    "dobre praktyki:\n",
    "\n",
    "snake_case\n",
    "\n",
    "male litery, slowa laczone podkresleniem\n",
    "\n",
    "\n",
    "DUZE LITERY SA DLa STALYCH\n"
   ]
  },
  {
   "cell_type": "code",
   "execution_count": 92,
   "id": "b46102d9",
   "metadata": {},
   "outputs": [],
   "source": [
    "zmienna = 1"
   ]
  },
  {
   "cell_type": "code",
   "execution_count": 95,
   "id": "ffaccedf",
   "metadata": {},
   "outputs": [
    {
     "ename": "SyntaxError",
     "evalue": "invalid decimal literal (327329793.py, line 1)",
     "output_type": "error",
     "traceback": [
      "\u001b[0;36m  Cell \u001b[0;32mIn[95], line 1\u001b[0;36m\u001b[0m\n\u001b[0;31m    1zmienna = 1\u001b[0m\n\u001b[0m    ^\u001b[0m\n\u001b[0;31mSyntaxError\u001b[0m\u001b[0;31m:\u001b[0m invalid decimal literal\n"
     ]
    }
   ],
   "source": [
    "1zmienna = 1"
   ]
  },
  {
   "cell_type": "code",
   "execution_count": 98,
   "id": "eee3575d",
   "metadata": {},
   "outputs": [],
   "source": [
    "DEBUG = False"
   ]
  },
  {
   "cell_type": "code",
   "execution_count": 96,
   "id": "21bcf664",
   "metadata": {},
   "outputs": [],
   "source": [
    "zmienna1 = 1"
   ]
  },
  {
   "cell_type": "code",
   "execution_count": 97,
   "id": "345d8512",
   "metadata": {},
   "outputs": [
    {
     "ename": "NameError",
     "evalue": "name 'ccc' is not defined",
     "output_type": "error",
     "traceback": [
      "\u001b[0;31m---------------------------------------------------------------------------\u001b[0m",
      "\u001b[0;31mNameError\u001b[0m                                 Traceback (most recent call last)",
      "Cell \u001b[0;32mIn[97], line 1\u001b[0m\n\u001b[0;32m----> 1\u001b[0m \u001b[43mccc\u001b[49m\n",
      "\u001b[0;31mNameError\u001b[0m: name 'ccc' is not defined"
     ]
    }
   ],
   "source": [
    "ccc"
   ]
  },
  {
   "cell_type": "code",
   "execution_count": null,
   "id": "132daae6",
   "metadata": {},
   "outputs": [],
   "source": [
    "# proste zadanie\n",
    "\n",
    "utworz 3 zestawy zmiennych\n",
    "\n",
    "produkt, cena, waga\n",
    "\n",
    "chleb, 6.2, 2.5\n",
    "\n",
    "\n",
    "przypomnienie\n",
    "\n",
    "f\"{x:50} {y:6.2f}\"\n"
   ]
  },
  {
   "cell_type": "code",
   "execution_count": 99,
   "id": "5b9d7345",
   "metadata": {},
   "outputs": [
    {
     "data": {
      "text/plain": [
       "15.5"
      ]
     },
     "execution_count": 99,
     "metadata": {},
     "output_type": "execute_result"
    }
   ],
   "source": [
    "produkt_1 = \"chleb\"\n",
    "cena_1 = 6.2\n",
    "waga_1 = 2.5\n",
    "\n",
    "6.2 * 2.5"
   ]
  },
  {
   "cell_type": "code",
   "execution_count": null,
   "id": "dee17882",
   "metadata": {},
   "outputs": [],
   "source": [
    "\"\"\"\n",
    "Raport\n",
    "chleb    2.5 kg  cena:   15.50 PLN\n",
    "Ogorek   1.1 kg. cena:    4.20 PLN\n",
    "\"\"\""
   ]
  },
  {
   "cell_type": "code",
   "execution_count": null,
   "id": "f217304b",
   "metadata": {},
   "outputs": [],
   "source": []
  },
  {
   "cell_type": "code",
   "execution_count": null,
   "id": "b0760d05",
   "metadata": {},
   "outputs": [],
   "source": []
  },
  {
   "cell_type": "code",
   "execution_count": null,
   "id": "5b64c15c",
   "metadata": {},
   "outputs": [],
   "source": []
  },
  {
   "cell_type": "code",
   "execution_count": null,
   "id": "0bd78d4d",
   "metadata": {},
   "outputs": [],
   "source": []
  },
  {
   "cell_type": "code",
   "execution_count": null,
   "id": "aeeb9315",
   "metadata": {},
   "outputs": [],
   "source": []
  },
  {
   "cell_type": "code",
   "execution_count": null,
   "id": "d2d3e115",
   "metadata": {},
   "outputs": [],
   "source": []
  },
  {
   "cell_type": "markdown",
   "id": "2b1612bd",
   "metadata": {},
   "source": [
    "#### struktury danych\n",
    "\n",
    "krokta (tuple)"
   ]
  },
  {
   "cell_type": "markdown",
   "id": "3531d183",
   "metadata": {},
   "source": [
    "`kolekcja[1]`- wybieramy cos z jakiejs kolekcji\n",
    "\n",
    "w nawiasach moga byc takie kombinacje:\n",
    "\n",
    "    [index]\n",
    "    [start:stop]\n",
    "    [:stop]\n",
    "\n",
    "    [start:stop:step]\n",
    "    [start::step]\n",
    "    [::step]"
   ]
  },
  {
   "cell_type": "code",
   "execution_count": 104,
   "id": "1b37c2cc",
   "metadata": {},
   "outputs": [],
   "source": [
    "\n",
    "#    0. 1. 2.    3. \n",
    "x = (1, 2, \"kot\", 4)"
   ]
  },
  {
   "cell_type": "code",
   "execution_count": 106,
   "id": "022fe73e",
   "metadata": {},
   "outputs": [
    {
     "data": {
      "text/plain": [
       "4"
      ]
     },
     "execution_count": 106,
     "metadata": {},
     "output_type": "execute_result"
    }
   ],
   "source": [
    "x[2]"
   ]
  },
  {
   "cell_type": "code",
   "execution_count": 108,
   "id": "e1ecfe4c",
   "metadata": {},
   "outputs": [
    {
     "data": {
      "text/plain": [
       "(1, 2, 'kot')"
      ]
     },
     "execution_count": 108,
     "metadata": {},
     "output_type": "execute_result"
    }
   ],
   "source": [
    "x[:3]  # slicing - wybieranie\n"
   ]
  },
  {
   "cell_type": "code",
   "execution_count": 109,
   "id": "19409716",
   "metadata": {},
   "outputs": [
    {
     "data": {
      "text/plain": [
       "(1, 'kot')"
      ]
     },
     "execution_count": 109,
     "metadata": {},
     "output_type": "execute_result"
    }
   ],
   "source": [
    "x[::2]"
   ]
  },
  {
   "cell_type": "code",
   "execution_count": 110,
   "id": "0d2bdca3",
   "metadata": {},
   "outputs": [],
   "source": [
    "a, b = 10, 20"
   ]
  },
  {
   "cell_type": "code",
   "execution_count": 111,
   "id": "240cef01",
   "metadata": {},
   "outputs": [
    {
     "data": {
      "text/plain": [
       "10"
      ]
     },
     "execution_count": 111,
     "metadata": {},
     "output_type": "execute_result"
    }
   ],
   "source": [
    "a\n"
   ]
  },
  {
   "cell_type": "code",
   "execution_count": 113,
   "id": "b54f6cbc",
   "metadata": {},
   "outputs": [
    {
     "data": {
      "text/plain": [
       "'kot'"
      ]
     },
     "execution_count": 113,
     "metadata": {},
     "output_type": "execute_result"
    }
   ],
   "source": [
    "a, b, c, d = x\n",
    "\n",
    "c"
   ]
  },
  {
   "cell_type": "code",
   "execution_count": 114,
   "id": "5ee14628",
   "metadata": {},
   "outputs": [
    {
     "data": {
      "text/plain": [
       "'a'"
      ]
     },
     "execution_count": 114,
     "metadata": {},
     "output_type": "execute_result"
    }
   ],
   "source": [
    "#        012345678910\n",
    "napis = \"Ala ma kota\"\n",
    "\n",
    "napis[5]\n",
    "\n"
   ]
  },
  {
   "cell_type": "code",
   "execution_count": 115,
   "id": "2366c16e",
   "metadata": {},
   "outputs": [
    {
     "data": {
      "text/plain": [
       "'la ma'"
      ]
     },
     "execution_count": 115,
     "metadata": {},
     "output_type": "execute_result"
    }
   ],
   "source": [
    "napis[1:6]"
   ]
  },
  {
   "cell_type": "code",
   "execution_count": 116,
   "id": "38ee061d",
   "metadata": {},
   "outputs": [
    {
     "data": {
      "text/plain": [
       "'Aam oa'"
      ]
     },
     "execution_count": 116,
     "metadata": {},
     "output_type": "execute_result"
    }
   ],
   "source": [
    "napis[::2]"
   ]
  },
  {
   "cell_type": "code",
   "execution_count": 118,
   "id": "7bf6b8d7",
   "metadata": {},
   "outputs": [],
   "source": [
    "# tak tworze liste:\n",
    "\n",
    "xx = [1, 2, \"kot\", 4]"
   ]
  },
  {
   "cell_type": "markdown",
   "id": "cacb1cf4",
   "metadata": {},
   "source": [
    "set - zbior unikalnych elementow (i do tego hashowalne). Nie ma porzadku nie ma indeksow"
   ]
  },
  {
   "cell_type": "code",
   "execution_count": 122,
   "id": "ad7ef8aa",
   "metadata": {},
   "outputs": [
    {
     "data": {
      "text/plain": [
       "True"
      ]
     },
     "execution_count": 122,
     "metadata": {},
     "output_type": "execute_result"
    }
   ],
   "source": [
    "xx = {1, 2, \"kot\", 4}\n",
    "\n",
    "\n",
    "# operator in sprawdza zawieranie czy lewa strona jest elementem prawej\n",
    "1 in xx"
   ]
  },
  {
   "cell_type": "code",
   "execution_count": 125,
   "id": "5df9c6cd",
   "metadata": {},
   "outputs": [
    {
     "data": {
      "text/plain": [
       "(1, 2, 'kot', 4)"
      ]
     },
     "execution_count": 125,
     "metadata": {},
     "output_type": "execute_result"
    }
   ],
   "source": [
    "x # tupla"
   ]
  },
  {
   "cell_type": "code",
   "execution_count": 127,
   "id": "157e681e",
   "metadata": {},
   "outputs": [
    {
     "data": {
      "text/plain": [
       "{1, 2, 4, 'kot'}"
      ]
     },
     "execution_count": 127,
     "metadata": {},
     "output_type": "execute_result"
    }
   ],
   "source": [
    "xx # zbior\n"
   ]
  },
  {
   "cell_type": "code",
   "execution_count": 128,
   "id": "9cf22657",
   "metadata": {},
   "outputs": [
    {
     "data": {
      "text/plain": [
       "[1, 2, 'kot', 4]"
      ]
     },
     "execution_count": 128,
     "metadata": {},
     "output_type": "execute_result"
    }
   ],
   "source": [
    "xxx = [1, 2, \"kot\", 4]\n",
    "\n",
    "xxx"
   ]
  },
  {
   "cell_type": "code",
   "execution_count": 130,
   "id": "bdce2f44",
   "metadata": {},
   "outputs": [
    {
     "data": {
      "text/plain": [
       "{1, 10, 2, 4, 'kot'}"
      ]
     },
     "execution_count": 130,
     "metadata": {},
     "output_type": "execute_result"
    }
   ],
   "source": [
    "xx.add(10)\n",
    "xx"
   ]
  },
  {
   "cell_type": "code",
   "execution_count": 131,
   "id": "17e74dc5",
   "metadata": {},
   "outputs": [
    {
     "data": {
      "text/plain": [
       "[1, 2, 'kot', 4, 10]"
      ]
     },
     "execution_count": 131,
     "metadata": {},
     "output_type": "execute_result"
    }
   ],
   "source": [
    "xxx.append(10)\n",
    "xxx"
   ]
  },
  {
   "cell_type": "code",
   "execution_count": 132,
   "id": "77701245",
   "metadata": {},
   "outputs": [
    {
     "data": {
      "text/plain": [
       "['__add__',\n",
       " '__class__',\n",
       " '__class_getitem__',\n",
       " '__contains__',\n",
       " '__delattr__',\n",
       " '__delitem__',\n",
       " '__dir__',\n",
       " '__doc__',\n",
       " '__eq__',\n",
       " '__format__',\n",
       " '__ge__',\n",
       " '__getattribute__',\n",
       " '__getitem__',\n",
       " '__gt__',\n",
       " '__hash__',\n",
       " '__iadd__',\n",
       " '__imul__',\n",
       " '__init__',\n",
       " '__init_subclass__',\n",
       " '__iter__',\n",
       " '__le__',\n",
       " '__len__',\n",
       " '__lt__',\n",
       " '__mul__',\n",
       " '__ne__',\n",
       " '__new__',\n",
       " '__reduce__',\n",
       " '__reduce_ex__',\n",
       " '__repr__',\n",
       " '__reversed__',\n",
       " '__rmul__',\n",
       " '__setattr__',\n",
       " '__setitem__',\n",
       " '__sizeof__',\n",
       " '__str__',\n",
       " '__subclasshook__',\n",
       " 'append',\n",
       " 'clear',\n",
       " 'copy',\n",
       " 'count',\n",
       " 'extend',\n",
       " 'index',\n",
       " 'insert',\n",
       " 'pop',\n",
       " 'remove',\n",
       " 'reverse',\n",
       " 'sort']"
      ]
     },
     "execution_count": 132,
     "metadata": {},
     "output_type": "execute_result"
    }
   ],
   "source": [
    "dir(xxx)"
   ]
  },
  {
   "cell_type": "code",
   "execution_count": 133,
   "id": "25445b49",
   "metadata": {},
   "outputs": [
    {
     "data": {
      "text/plain": [
       "['__add__',\n",
       " '__class__',\n",
       " '__class_getitem__',\n",
       " '__contains__',\n",
       " '__delattr__',\n",
       " '__dir__',\n",
       " '__doc__',\n",
       " '__eq__',\n",
       " '__format__',\n",
       " '__ge__',\n",
       " '__getattribute__',\n",
       " '__getitem__',\n",
       " '__getnewargs__',\n",
       " '__gt__',\n",
       " '__hash__',\n",
       " '__init__',\n",
       " '__init_subclass__',\n",
       " '__iter__',\n",
       " '__le__',\n",
       " '__len__',\n",
       " '__lt__',\n",
       " '__mul__',\n",
       " '__ne__',\n",
       " '__new__',\n",
       " '__reduce__',\n",
       " '__reduce_ex__',\n",
       " '__repr__',\n",
       " '__rmul__',\n",
       " '__setattr__',\n",
       " '__sizeof__',\n",
       " '__str__',\n",
       " '__subclasshook__',\n",
       " 'count',\n",
       " 'index']"
      ]
     },
     "execution_count": 133,
     "metadata": {},
     "output_type": "execute_result"
    }
   ],
   "source": [
    "dir(x)"
   ]
  },
  {
   "cell_type": "code",
   "execution_count": 139,
   "id": "c5f0b8c3",
   "metadata": {},
   "outputs": [
    {
     "name": "stdout",
     "output_type": "stream",
     "text": [
      "Help on built-in function append:\n",
      "\n",
      "append(object, /) method of builtins.list instance\n",
      "    Append object to the end of the list.\n",
      "\n"
     ]
    }
   ],
   "source": [
    "help(xxx.append)"
   ]
  },
  {
   "cell_type": "code",
   "execution_count": 140,
   "id": "7d857736",
   "metadata": {},
   "outputs": [
    {
     "data": {
      "text/plain": [
       "['__add__',\n",
       " '__class__',\n",
       " '__class_getitem__',\n",
       " '__contains__',\n",
       " '__delattr__',\n",
       " '__delitem__',\n",
       " '__dir__',\n",
       " '__doc__',\n",
       " '__eq__',\n",
       " '__format__',\n",
       " '__ge__',\n",
       " '__getattribute__',\n",
       " '__getitem__',\n",
       " '__gt__',\n",
       " '__hash__',\n",
       " '__iadd__',\n",
       " '__imul__',\n",
       " '__init__',\n",
       " '__init_subclass__',\n",
       " '__iter__',\n",
       " '__le__',\n",
       " '__len__',\n",
       " '__lt__',\n",
       " '__mul__',\n",
       " '__ne__',\n",
       " '__new__',\n",
       " '__reduce__',\n",
       " '__reduce_ex__',\n",
       " '__repr__',\n",
       " '__reversed__',\n",
       " '__rmul__',\n",
       " '__setattr__',\n",
       " '__setitem__',\n",
       " '__sizeof__',\n",
       " '__str__',\n",
       " '__subclasshook__',\n",
       " 'append',\n",
       " 'clear',\n",
       " 'copy',\n",
       " 'count',\n",
       " 'extend',\n",
       " 'index',\n",
       " 'insert',\n",
       " 'pop',\n",
       " 'remove',\n",
       " 'reverse',\n",
       " 'sort']"
      ]
     },
     "execution_count": 140,
     "metadata": {},
     "output_type": "execute_result"
    }
   ],
   "source": [
    "dir(xxx)"
   ]
  },
  {
   "cell_type": "code",
   "execution_count": 141,
   "id": "ba8cb704",
   "metadata": {},
   "outputs": [
    {
     "name": "stdout",
     "output_type": "stream",
     "text": [
      "Help on built-in function extend:\n",
      "\n",
      "extend(iterable, /) method of builtins.list instance\n",
      "    Extend list by appending elements from the iterable.\n",
      "\n"
     ]
    }
   ],
   "source": [
    "help(xxx.extend)"
   ]
  },
  {
   "cell_type": "code",
   "execution_count": 143,
   "id": "b3c43272",
   "metadata": {},
   "outputs": [],
   "source": [
    "xxx.extend(\"ala\")"
   ]
  },
  {
   "cell_type": "code",
   "execution_count": 147,
   "id": "476f63f9",
   "metadata": {},
   "outputs": [],
   "source": [
    "xxx.extend([1, 2])"
   ]
  },
  {
   "cell_type": "code",
   "execution_count": 148,
   "id": "d4435d5d",
   "metadata": {},
   "outputs": [
    {
     "data": {
      "text/plain": [
       "[1, 2, 'kot', 4, 10, 10, 'a', 'l', 'a', 1, 2, 1, 2]"
      ]
     },
     "execution_count": 148,
     "metadata": {},
     "output_type": "execute_result"
    }
   ],
   "source": [
    "xxx"
   ]
  },
  {
   "cell_type": "code",
   "execution_count": 149,
   "id": "8ddf86e4",
   "metadata": {},
   "outputs": [
    {
     "data": {
      "text/plain": [
       "(1, 2, 'kot', 4)"
      ]
     },
     "execution_count": 149,
     "metadata": {},
     "output_type": "execute_result"
    }
   ],
   "source": [
    "x"
   ]
  },
  {
   "cell_type": "code",
   "execution_count": 150,
   "id": "7b1cea6c",
   "metadata": {},
   "outputs": [],
   "source": [
    "xxx.extend(x)"
   ]
  },
  {
   "cell_type": "code",
   "execution_count": 152,
   "id": "5a6190e4",
   "metadata": {},
   "outputs": [],
   "source": [
    "xxx.extend(xxx)"
   ]
  },
  {
   "cell_type": "code",
   "execution_count": 154,
   "id": "cb9e82e9",
   "metadata": {},
   "outputs": [
    {
     "data": {
      "text/plain": [
       "[1, 2, 3]"
      ]
     },
     "execution_count": 154,
     "metadata": {},
     "output_type": "execute_result"
    }
   ],
   "source": [
    "ddd = [1, 2, 3]\n",
    "ddd"
   ]
  },
  {
   "cell_type": "code",
   "execution_count": 155,
   "id": "317e7fa2",
   "metadata": {},
   "outputs": [],
   "source": [
    "ddd.extend(ddd)"
   ]
  },
  {
   "cell_type": "code",
   "execution_count": 156,
   "id": "ae1e8402",
   "metadata": {},
   "outputs": [
    {
     "data": {
      "text/plain": [
       "[1, 2, 3, 1, 2, 3]"
      ]
     },
     "execution_count": 156,
     "metadata": {},
     "output_type": "execute_result"
    }
   ],
   "source": [
    "ddd"
   ]
  },
  {
   "cell_type": "markdown",
   "id": "57210714",
   "metadata": {},
   "source": [
    "(frozenset)\n",
    "\n",
    "dict"
   ]
  },
  {
   "cell_type": "code",
   "execution_count": 159,
   "id": "7da3f05c",
   "metadata": {},
   "outputs": [
    {
     "name": "stdout",
     "output_type": "stream",
     "text": [
      "Help on built-in function len in module builtins:\n",
      "\n",
      "len(obj, /)\n",
      "    Return the number of items in a container.\n",
      "\n"
     ]
    }
   ],
   "source": [
    "### len - funkcja wbudowana\n",
    "\n",
    "help(len)"
   ]
  },
  {
   "cell_type": "code",
   "execution_count": 158,
   "id": "6bee873a",
   "metadata": {},
   "outputs": [
    {
     "data": {
      "text/plain": [
       "4"
      ]
     },
     "execution_count": 158,
     "metadata": {},
     "output_type": "execute_result"
    }
   ],
   "source": [
    "len(x)"
   ]
  },
  {
   "cell_type": "code",
   "execution_count": 161,
   "id": "2d5549ed",
   "metadata": {},
   "outputs": [
    {
     "data": {
      "text/plain": [
       "2"
      ]
     },
     "execution_count": 161,
     "metadata": {},
     "output_type": "execute_result"
    }
   ],
   "source": [
    "xxx.index(\"kot\")"
   ]
  },
  {
   "cell_type": "code",
   "execution_count": 162,
   "id": "b9c4a245",
   "metadata": {},
   "outputs": [
    {
     "name": "stdout",
     "output_type": "stream",
     "text": [
      "Help on built-in function index:\n",
      "\n",
      "index(value, start=0, stop=9223372036854775807, /) method of builtins.list instance\n",
      "    Return first index of value.\n",
      "    \n",
      "    Raises ValueError if the value is not present.\n",
      "\n"
     ]
    }
   ],
   "source": [
    "help(xxx.index)"
   ]
  },
  {
   "cell_type": "code",
   "execution_count": 164,
   "id": "9c733c2f",
   "metadata": {},
   "outputs": [
    {
     "data": {
      "text/plain": [
       "15"
      ]
     },
     "execution_count": 164,
     "metadata": {},
     "output_type": "execute_result"
    }
   ],
   "source": [
    "xxx.index(\"kot\", 3)"
   ]
  },
  {
   "cell_type": "code",
   "execution_count": 165,
   "id": "fc630623",
   "metadata": {},
   "outputs": [
    {
     "data": {
      "text/plain": [
       "4"
      ]
     },
     "execution_count": 165,
     "metadata": {},
     "output_type": "execute_result"
    }
   ],
   "source": [
    "xxx.count(\"kot\")"
   ]
  },
  {
   "cell_type": "code",
   "execution_count": 167,
   "id": "ca5a5194",
   "metadata": {},
   "outputs": [
    {
     "data": {
      "text/plain": [
       "{1}"
      ]
     },
     "execution_count": 167,
     "metadata": {},
     "output_type": "execute_result"
    }
   ],
   "source": [
    "{1, 1, 1, 1, 1}  # elementy w zbiorze sie nie powtarzaja"
   ]
  },
  {
   "cell_type": "code",
   "execution_count": 168,
   "id": "945cd80d",
   "metadata": {},
   "outputs": [
    {
     "data": {
      "text/plain": [
       "['__and__',\n",
       " '__class__',\n",
       " '__class_getitem__',\n",
       " '__contains__',\n",
       " '__delattr__',\n",
       " '__dir__',\n",
       " '__doc__',\n",
       " '__eq__',\n",
       " '__format__',\n",
       " '__ge__',\n",
       " '__getattribute__',\n",
       " '__gt__',\n",
       " '__hash__',\n",
       " '__iand__',\n",
       " '__init__',\n",
       " '__init_subclass__',\n",
       " '__ior__',\n",
       " '__isub__',\n",
       " '__iter__',\n",
       " '__ixor__',\n",
       " '__le__',\n",
       " '__len__',\n",
       " '__lt__',\n",
       " '__ne__',\n",
       " '__new__',\n",
       " '__or__',\n",
       " '__rand__',\n",
       " '__reduce__',\n",
       " '__reduce_ex__',\n",
       " '__repr__',\n",
       " '__ror__',\n",
       " '__rsub__',\n",
       " '__rxor__',\n",
       " '__setattr__',\n",
       " '__sizeof__',\n",
       " '__str__',\n",
       " '__sub__',\n",
       " '__subclasshook__',\n",
       " '__xor__',\n",
       " 'add',\n",
       " 'clear',\n",
       " 'copy',\n",
       " 'difference',\n",
       " 'difference_update',\n",
       " 'discard',\n",
       " 'intersection',\n",
       " 'intersection_update',\n",
       " 'isdisjoint',\n",
       " 'issubset',\n",
       " 'issuperset',\n",
       " 'pop',\n",
       " 'remove',\n",
       " 'symmetric_difference',\n",
       " 'symmetric_difference_update',\n",
       " 'union',\n",
       " 'update']"
      ]
     },
     "execution_count": 168,
     "metadata": {},
     "output_type": "execute_result"
    }
   ],
   "source": [
    "dir(xx)"
   ]
  },
  {
   "cell_type": "code",
   "execution_count": 169,
   "id": "be95258a",
   "metadata": {},
   "outputs": [
    {
     "data": {
      "text/plain": [
       "{1, 2, 3, 4}"
      ]
     },
     "execution_count": 169,
     "metadata": {},
     "output_type": "execute_result"
    }
   ],
   "source": [
    "x = {1, 2, 3}\n",
    "y = {2, 3, 4}\n",
    "\n",
    "x.union(y)"
   ]
  },
  {
   "cell_type": "code",
   "execution_count": 170,
   "id": "461fc7dd",
   "metadata": {},
   "outputs": [
    {
     "data": {
      "text/plain": [
       "{2, 3}"
      ]
     },
     "execution_count": 170,
     "metadata": {},
     "output_type": "execute_result"
    }
   ],
   "source": [
    "x.intersection(y)"
   ]
  },
  {
   "cell_type": "code",
   "execution_count": 171,
   "id": "7e1a63df",
   "metadata": {},
   "outputs": [
    {
     "data": {
      "text/plain": [
       "{1, 2, 3, 4}"
      ]
     },
     "execution_count": 171,
     "metadata": {},
     "output_type": "execute_result"
    }
   ],
   "source": [
    "x | y"
   ]
  },
  {
   "cell_type": "code",
   "execution_count": 172,
   "id": "410e29bd",
   "metadata": {},
   "outputs": [
    {
     "data": {
      "text/plain": [
       "{2, 3}"
      ]
     },
     "execution_count": 172,
     "metadata": {},
     "output_type": "execute_result"
    }
   ],
   "source": [
    "x & y"
   ]
  },
  {
   "cell_type": "code",
   "execution_count": 173,
   "id": "a409daf1",
   "metadata": {},
   "outputs": [
    {
     "data": {
      "text/plain": [
       "{1}"
      ]
     },
     "execution_count": 173,
     "metadata": {},
     "output_type": "execute_result"
    }
   ],
   "source": [
    "x - y"
   ]
  },
  {
   "cell_type": "code",
   "execution_count": 174,
   "id": "1c5052af",
   "metadata": {},
   "outputs": [
    {
     "data": {
      "text/plain": [
       "{1, 4}"
      ]
     },
     "execution_count": 174,
     "metadata": {},
     "output_type": "execute_result"
    }
   ],
   "source": [
    "x ^ y"
   ]
  },
  {
   "cell_type": "code",
   "execution_count": 176,
   "id": "c1bd05c3",
   "metadata": {},
   "outputs": [
    {
     "data": {
      "text/plain": [
       "{1, 10, 2, 4, 'a', 'kot', 'l'}"
      ]
     },
     "execution_count": 176,
     "metadata": {},
     "output_type": "execute_result"
    }
   ],
   "source": [
    "set(xxx)"
   ]
  },
  {
   "cell_type": "code",
   "execution_count": 177,
   "id": "5c5e7125",
   "metadata": {},
   "outputs": [
    {
     "data": {
      "text/plain": [
       "(list, tuple, str, set)"
      ]
     },
     "execution_count": 177,
     "metadata": {},
     "output_type": "execute_result"
    }
   ],
   "source": [
    "list, tuple, str, set"
   ]
  },
  {
   "cell_type": "code",
   "execution_count": 179,
   "id": "58cc02d6",
   "metadata": {},
   "outputs": [
    {
     "data": {
      "text/plain": [
       "['A', 'l', 'a', ' ', 'm', 'a', ' ', 'k', 'o', 't', 'a']"
      ]
     },
     "execution_count": 179,
     "metadata": {},
     "output_type": "execute_result"
    }
   ],
   "source": [
    "list(napis)"
   ]
  },
  {
   "cell_type": "code",
   "execution_count": 180,
   "id": "e0887299",
   "metadata": {},
   "outputs": [
    {
     "data": {
      "text/plain": [
       "('A', 'l', 'a', ' ', 'm', 'a', ' ', 'k', 'o', 't', 'a')"
      ]
     },
     "execution_count": 180,
     "metadata": {},
     "output_type": "execute_result"
    }
   ],
   "source": [
    "tuple(napis)"
   ]
  },
  {
   "cell_type": "code",
   "execution_count": 181,
   "id": "e5f127b1",
   "metadata": {},
   "outputs": [
    {
     "data": {
      "text/plain": [
       "{' ', 'A', 'a', 'k', 'l', 'm', 'o', 't'}"
      ]
     },
     "execution_count": 181,
     "metadata": {},
     "output_type": "execute_result"
    }
   ],
   "source": [
    "set(napis)"
   ]
  },
  {
   "cell_type": "code",
   "execution_count": 182,
   "id": "77540eed",
   "metadata": {},
   "outputs": [
    {
     "data": {
      "text/plain": [
       "(int, float, complex, bool)"
      ]
     },
     "execution_count": 182,
     "metadata": {},
     "output_type": "execute_result"
    }
   ],
   "source": [
    "int, float, complex, bool, "
   ]
  },
  {
   "cell_type": "code",
   "execution_count": 184,
   "id": "ba1e5bc9",
   "metadata": {},
   "outputs": [
    {
     "data": {
      "text/plain": [
       "2"
      ]
     },
     "execution_count": 184,
     "metadata": {},
     "output_type": "execute_result"
    }
   ],
   "source": [
    "int(2.6)"
   ]
  },
  {
   "cell_type": "code",
   "execution_count": 185,
   "id": "87ccd6bb",
   "metadata": {},
   "outputs": [
    {
     "data": {
      "text/plain": [
       "1.0"
      ]
     },
     "execution_count": 185,
     "metadata": {},
     "output_type": "execute_result"
    }
   ],
   "source": [
    "float(1)"
   ]
  },
  {
   "cell_type": "code",
   "execution_count": 186,
   "id": "dc4935f8",
   "metadata": {},
   "outputs": [
    {
     "data": {
      "text/plain": [
       "\"[1, 2, 'kot', 4, 10, 10, 'a', 'l', 'a', 1, 2, 1, 2, 1, 2, 'kot', 4, 1, 2, 'kot', 4, 10, 10, 'a', 'l', 'a', 1, 2, 1, 2, 1, 2, 'kot', 4]\""
      ]
     },
     "execution_count": 186,
     "metadata": {},
     "output_type": "execute_result"
    }
   ],
   "source": [
    "str(xxx)"
   ]
  },
  {
   "cell_type": "code",
   "execution_count": 187,
   "id": "a43e855c",
   "metadata": {},
   "outputs": [
    {
     "data": {
      "text/plain": [
       "10"
      ]
     },
     "execution_count": 187,
     "metadata": {},
     "output_type": "execute_result"
    }
   ],
   "source": [
    "int(\"10\")"
   ]
  },
  {
   "cell_type": "code",
   "execution_count": 188,
   "id": "8e7bee3c",
   "metadata": {},
   "outputs": [
    {
     "data": {
      "text/plain": [
       "10.0"
      ]
     },
     "execution_count": 188,
     "metadata": {},
     "output_type": "execute_result"
    }
   ],
   "source": [
    "float(\"10\")"
   ]
  },
  {
   "cell_type": "code",
   "execution_count": 191,
   "id": "94f21ad6",
   "metadata": {},
   "outputs": [
    {
     "data": {
      "text/plain": [
       "10"
      ]
     },
     "execution_count": 191,
     "metadata": {},
     "output_type": "execute_result"
    }
   ],
   "source": [
    "int(\"a\", 11)"
   ]
  },
  {
   "cell_type": "code",
   "execution_count": 192,
   "id": "0c23b327",
   "metadata": {},
   "outputs": [
    {
     "data": {
      "text/plain": [
       "12648430"
      ]
     },
     "execution_count": 192,
     "metadata": {},
     "output_type": "execute_result"
    }
   ],
   "source": [
    "int(\"c0ffee\", base=16)"
   ]
  },
  {
   "cell_type": "code",
   "execution_count": 190,
   "id": "e3bb715a",
   "metadata": {},
   "outputs": [
    {
     "name": "stdout",
     "output_type": "stream",
     "text": [
      "Help on class int in module builtins:\n",
      "\n",
      "class int(object)\n",
      " |  int([x]) -> integer\n",
      " |  int(x, base=10) -> integer\n",
      " |  \n",
      " |  Convert a number or string to an integer, or return 0 if no arguments\n",
      " |  are given.  If x is a number, return x.__int__().  For floating point\n",
      " |  numbers, this truncates towards zero.\n",
      " |  \n",
      " |  If x is not a number or if base is given, then x must be a string,\n",
      " |  bytes, or bytearray instance representing an integer literal in the\n",
      " |  given base.  The literal can be preceded by '+' or '-' and be surrounded\n",
      " |  by whitespace.  The base defaults to 10.  Valid bases are 0 and 2-36.\n",
      " |  Base 0 means to interpret the base from the string as an integer literal.\n",
      " |  >>> int('0b100', base=0)\n",
      " |  4\n",
      " |  \n",
      " |  Built-in subclasses:\n",
      " |      bool\n",
      " |  \n",
      " |  Methods defined here:\n",
      " |  \n",
      " |  __abs__(self, /)\n",
      " |      abs(self)\n",
      " |  \n",
      " |  __add__(self, value, /)\n",
      " |      Return self+value.\n",
      " |  \n",
      " |  __and__(self, value, /)\n",
      " |      Return self&value.\n",
      " |  \n",
      " |  __bool__(self, /)\n",
      " |      True if self else False\n",
      " |  \n",
      " |  __ceil__(...)\n",
      " |      Ceiling of an Integral returns itself.\n",
      " |  \n",
      " |  __divmod__(self, value, /)\n",
      " |      Return divmod(self, value).\n",
      " |  \n",
      " |  __eq__(self, value, /)\n",
      " |      Return self==value.\n",
      " |  \n",
      " |  __float__(self, /)\n",
      " |      float(self)\n",
      " |  \n",
      " |  __floor__(...)\n",
      " |      Flooring an Integral returns itself.\n",
      " |  \n",
      " |  __floordiv__(self, value, /)\n",
      " |      Return self//value.\n",
      " |  \n",
      " |  __format__(self, format_spec, /)\n",
      " |      Default object formatter.\n",
      " |  \n",
      " |  __ge__(self, value, /)\n",
      " |      Return self>=value.\n",
      " |  \n",
      " |  __getattribute__(self, name, /)\n",
      " |      Return getattr(self, name).\n",
      " |  \n",
      " |  __getnewargs__(self, /)\n",
      " |  \n",
      " |  __gt__(self, value, /)\n",
      " |      Return self>value.\n",
      " |  \n",
      " |  __hash__(self, /)\n",
      " |      Return hash(self).\n",
      " |  \n",
      " |  __index__(self, /)\n",
      " |      Return self converted to an integer, if self is suitable for use as an index into a list.\n",
      " |  \n",
      " |  __int__(self, /)\n",
      " |      int(self)\n",
      " |  \n",
      " |  __invert__(self, /)\n",
      " |      ~self\n",
      " |  \n",
      " |  __le__(self, value, /)\n",
      " |      Return self<=value.\n",
      " |  \n",
      " |  __lshift__(self, value, /)\n",
      " |      Return self<<value.\n",
      " |  \n",
      " |  __lt__(self, value, /)\n",
      " |      Return self<value.\n",
      " |  \n",
      " |  __mod__(self, value, /)\n",
      " |      Return self%value.\n",
      " |  \n",
      " |  __mul__(self, value, /)\n",
      " |      Return self*value.\n",
      " |  \n",
      " |  __ne__(self, value, /)\n",
      " |      Return self!=value.\n",
      " |  \n",
      " |  __neg__(self, /)\n",
      " |      -self\n",
      " |  \n",
      " |  __or__(self, value, /)\n",
      " |      Return self|value.\n",
      " |  \n",
      " |  __pos__(self, /)\n",
      " |      +self\n",
      " |  \n",
      " |  __pow__(self, value, mod=None, /)\n",
      " |      Return pow(self, value, mod).\n",
      " |  \n",
      " |  __radd__(self, value, /)\n",
      " |      Return value+self.\n",
      " |  \n",
      " |  __rand__(self, value, /)\n",
      " |      Return value&self.\n",
      " |  \n",
      " |  __rdivmod__(self, value, /)\n",
      " |      Return divmod(value, self).\n",
      " |  \n",
      " |  __repr__(self, /)\n",
      " |      Return repr(self).\n",
      " |  \n",
      " |  __rfloordiv__(self, value, /)\n",
      " |      Return value//self.\n",
      " |  \n",
      " |  __rlshift__(self, value, /)\n",
      " |      Return value<<self.\n",
      " |  \n",
      " |  __rmod__(self, value, /)\n",
      " |      Return value%self.\n",
      " |  \n",
      " |  __rmul__(self, value, /)\n",
      " |      Return value*self.\n",
      " |  \n",
      " |  __ror__(self, value, /)\n",
      " |      Return value|self.\n",
      " |  \n",
      " |  __round__(...)\n",
      " |      Rounding an Integral returns itself.\n",
      " |      \n",
      " |      Rounding with an ndigits argument also returns an integer.\n",
      " |  \n",
      " |  __rpow__(self, value, mod=None, /)\n",
      " |      Return pow(value, self, mod).\n",
      " |  \n",
      " |  __rrshift__(self, value, /)\n",
      " |      Return value>>self.\n",
      " |  \n",
      " |  __rshift__(self, value, /)\n",
      " |      Return self>>value.\n",
      " |  \n",
      " |  __rsub__(self, value, /)\n",
      " |      Return value-self.\n",
      " |  \n",
      " |  __rtruediv__(self, value, /)\n",
      " |      Return value/self.\n",
      " |  \n",
      " |  __rxor__(self, value, /)\n",
      " |      Return value^self.\n",
      " |  \n",
      " |  __sizeof__(self, /)\n",
      " |      Returns size in memory, in bytes.\n",
      " |  \n",
      " |  __sub__(self, value, /)\n",
      " |      Return self-value.\n",
      " |  \n",
      " |  __truediv__(self, value, /)\n",
      " |      Return self/value.\n",
      " |  \n",
      " |  __trunc__(...)\n",
      " |      Truncating an Integral returns itself.\n",
      " |  \n",
      " |  __xor__(self, value, /)\n",
      " |      Return self^value.\n",
      " |  \n",
      " |  as_integer_ratio(self, /)\n",
      " |      Return integer ratio.\n",
      " |      \n",
      " |      Return a pair of integers, whose ratio is exactly equal to the original int\n",
      " |      and with a positive denominator.\n",
      " |      \n",
      " |      >>> (10).as_integer_ratio()\n",
      " |      (10, 1)\n",
      " |      >>> (-10).as_integer_ratio()\n",
      " |      (-10, 1)\n",
      " |      >>> (0).as_integer_ratio()\n",
      " |      (0, 1)\n",
      " |  \n",
      " |  bit_count(self, /)\n",
      " |      Number of ones in the binary representation of the absolute value of self.\n",
      " |      \n",
      " |      Also known as the population count.\n",
      " |      \n",
      " |      >>> bin(13)\n",
      " |      '0b1101'\n",
      " |      >>> (13).bit_count()\n",
      " |      3\n",
      " |  \n",
      " |  bit_length(self, /)\n",
      " |      Number of bits necessary to represent self in binary.\n",
      " |      \n",
      " |      >>> bin(37)\n",
      " |      '0b100101'\n",
      " |      >>> (37).bit_length()\n",
      " |      6\n",
      " |  \n",
      " |  conjugate(...)\n",
      " |      Returns self, the complex conjugate of any int.\n",
      " |  \n",
      " |  to_bytes(self, /, length, byteorder, *, signed=False)\n",
      " |      Return an array of bytes representing an integer.\n",
      " |      \n",
      " |      length\n",
      " |        Length of bytes object to use.  An OverflowError is raised if the\n",
      " |        integer is not representable with the given number of bytes.\n",
      " |      byteorder\n",
      " |        The byte order used to represent the integer.  If byteorder is 'big',\n",
      " |        the most significant byte is at the beginning of the byte array.  If\n",
      " |        byteorder is 'little', the most significant byte is at the end of the\n",
      " |        byte array.  To request the native byte order of the host system, use\n",
      " |        `sys.byteorder' as the byte order value.\n",
      " |      signed\n",
      " |        Determines whether two's complement is used to represent the integer.\n",
      " |        If signed is False and a negative integer is given, an OverflowError\n",
      " |        is raised.\n",
      " |  \n",
      " |  ----------------------------------------------------------------------\n",
      " |  Class methods defined here:\n",
      " |  \n",
      " |  from_bytes(bytes, byteorder, *, signed=False) from builtins.type\n",
      " |      Return the integer represented by the given array of bytes.\n",
      " |      \n",
      " |      bytes\n",
      " |        Holds the array of bytes to convert.  The argument must either\n",
      " |        support the buffer protocol or be an iterable object producing bytes.\n",
      " |        Bytes and bytearray are examples of built-in objects that support the\n",
      " |        buffer protocol.\n",
      " |      byteorder\n",
      " |        The byte order used to represent the integer.  If byteorder is 'big',\n",
      " |        the most significant byte is at the beginning of the byte array.  If\n",
      " |        byteorder is 'little', the most significant byte is at the end of the\n",
      " |        byte array.  To request the native byte order of the host system, use\n",
      " |        `sys.byteorder' as the byte order value.\n",
      " |      signed\n",
      " |        Indicates whether two's complement is used to represent the integer.\n",
      " |  \n",
      " |  ----------------------------------------------------------------------\n",
      " |  Static methods defined here:\n",
      " |  \n",
      " |  __new__(*args, **kwargs) from builtins.type\n",
      " |      Create and return a new object.  See help(type) for accurate signature.\n",
      " |  \n",
      " |  ----------------------------------------------------------------------\n",
      " |  Data descriptors defined here:\n",
      " |  \n",
      " |  denominator\n",
      " |      the denominator of a rational number in lowest terms\n",
      " |  \n",
      " |  imag\n",
      " |      the imaginary part of a complex number\n",
      " |  \n",
      " |  numerator\n",
      " |      the numerator of a rational number in lowest terms\n",
      " |  \n",
      " |  real\n",
      " |      the real part of a complex number\n",
      "\n"
     ]
    }
   ],
   "source": [
    "help(int)"
   ]
  },
  {
   "cell_type": "code",
   "execution_count": 193,
   "id": "496f3e46",
   "metadata": {},
   "outputs": [
    {
     "data": {
      "text/plain": [
       "(0.0, 0, '', [], (), set())"
      ]
     },
     "execution_count": 193,
     "metadata": {},
     "output_type": "execute_result"
    }
   ],
   "source": [
    "float(), int(), str(), list(), tuple(), set()"
   ]
  },
  {
   "cell_type": "code",
   "execution_count": 194,
   "id": "0db4f877",
   "metadata": {},
   "outputs": [
    {
     "data": {
      "text/plain": [
       "{1, 10, 2, 4, 'kot'}"
      ]
     },
     "execution_count": 194,
     "metadata": {},
     "output_type": "execute_result"
    }
   ],
   "source": [
    "xx"
   ]
  },
  {
   "cell_type": "markdown",
   "id": "f372e678",
   "metadata": {},
   "source": [
    "### pętla for"
   ]
  },
  {
   "cell_type": "code",
   "execution_count": 195,
   "id": "11b7e217",
   "metadata": {},
   "outputs": [
    {
     "name": "stdout",
     "output_type": "stream",
     "text": [
      "1\n",
      "2\n",
      "4\n",
      "10\n",
      "kot\n"
     ]
    }
   ],
   "source": [
    "for el in xx:\n",
    "    print(el)"
   ]
  },
  {
   "cell_type": "code",
   "execution_count": 196,
   "id": "b07553a4",
   "metadata": {},
   "outputs": [
    {
     "name": "stdout",
     "output_type": "stream",
     "text": [
      "1\n",
      "2\n",
      "kot\n",
      "4\n",
      "10\n",
      "10\n",
      "a\n",
      "l\n",
      "a\n",
      "1\n",
      "2\n",
      "1\n",
      "2\n",
      "1\n",
      "2\n",
      "kot\n",
      "4\n",
      "1\n",
      "2\n",
      "kot\n",
      "4\n",
      "10\n",
      "10\n",
      "a\n",
      "l\n",
      "a\n",
      "1\n",
      "2\n",
      "1\n",
      "2\n",
      "1\n",
      "2\n",
      "kot\n",
      "4\n"
     ]
    }
   ],
   "source": [
    "for i in xxx:\n",
    "    print(i)"
   ]
  },
  {
   "cell_type": "code",
   "execution_count": null,
   "id": "8125df3d",
   "metadata": {},
   "outputs": [],
   "source": []
  }
 ],
 "metadata": {
  "kernelspec": {
   "display_name": "Python 3 (ipykernel)",
   "language": "python",
   "name": "python3"
  },
  "language_info": {
   "codemirror_mode": {
    "name": "ipython",
    "version": 3
   },
   "file_extension": ".py",
   "mimetype": "text/x-python",
   "name": "python",
   "nbconvert_exporter": "python",
   "pygments_lexer": "ipython3",
   "version": "3.10.7"
  },
  "toc": {
   "base_numbering": 1,
   "nav_menu": {},
   "number_sections": true,
   "sideBar": true,
   "skip_h1_title": false,
   "title_cell": "Table of Contents",
   "title_sidebar": "Contents",
   "toc_cell": false,
   "toc_position": {},
   "toc_section_display": true,
   "toc_window_display": false
  }
 },
 "nbformat": 4,
 "nbformat_minor": 5
}

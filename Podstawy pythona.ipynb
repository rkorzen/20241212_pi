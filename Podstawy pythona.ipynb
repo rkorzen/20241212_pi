{
 "cells": [
  {
   "cell_type": "markdown",
   "id": "4c9c56b3",
   "metadata": {},
   "source": [
    "# Python podstawy\n",
    "\n",
    "## Podstawowe skróty w jupyter notebook\n",
    "\n",
    "`shfit + Enter` - wykonuje bieżąca komórkę i przechodzi dalej\n",
    "\n",
    "```python\n",
    "# fragmen skryputu\n",
    "\n",
    "def foo():\n",
    "    print(10)\n",
    "\n",
    "```\n",
    "\n",
    "* A\n",
    "* B\n",
    "\n",
    "\n",
    "| A | B |\n",
    "|---|---|\n",
    "| 1 |2 |\n",
    "\n",
    "\n",
    "$x=1$"
   ]
  },
  {
   "cell_type": "code",
   "execution_count": 3,
   "id": "1c624782",
   "metadata": {},
   "outputs": [
    {
     "data": {
      "text/plain": [
       "2"
      ]
     },
     "execution_count": 3,
     "metadata": {},
     "output_type": "execute_result"
    }
   ],
   "source": []
  },
  {
   "cell_type": "code",
   "execution_count": null,
   "id": "fd897bcc",
   "metadata": {},
   "outputs": [],
   "source": []
  },
  {
   "cell_type": "code",
   "execution_count": null,
   "id": "8f6e5a17",
   "metadata": {},
   "outputs": [],
   "source": []
  },
  {
   "cell_type": "code",
   "execution_count": null,
   "id": "27fe8c77",
   "metadata": {},
   "outputs": [],
   "source": []
  },
  {
   "cell_type": "code",
   "execution_count": null,
   "id": "ed7970ed",
   "metadata": {},
   "outputs": [],
   "source": []
  }
 ],
 "metadata": {
  "kernelspec": {
   "display_name": "Python 3 (ipykernel)",
   "language": "python",
   "name": "python3"
  },
  "language_info": {
   "codemirror_mode": {
    "name": "ipython",
    "version": 3
   },
   "file_extension": ".py",
   "mimetype": "text/x-python",
   "name": "python",
   "nbconvert_exporter": "python",
   "pygments_lexer": "ipython3",
   "version": "3.10.7"
  },
  "toc": {
   "base_numbering": 1,
   "nav_menu": {},
   "number_sections": true,
   "sideBar": true,
   "skip_h1_title": false,
   "title_cell": "Table of Contents",
   "title_sidebar": "Contents",
   "toc_cell": false,
   "toc_position": {},
   "toc_section_display": true,
   "toc_window_display": false
  }
 },
 "nbformat": 4,
 "nbformat_minor": 5
}
